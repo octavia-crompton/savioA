{
 "cells": [
  {
   "cell_type": "code",
   "execution_count": 1,
   "metadata": {
    "collapsed": true
   },
   "outputs": [],
   "source": [
    "%matplotlib inline"
   ]
  },
  {
   "cell_type": "code",
   "execution_count": 2,
   "metadata": {
    "collapsed": true,
    "scrolled": true
   },
   "outputs": [],
   "source": [
    "import numpy as np\n",
    "import matplotlib.pylab as plt\n",
    "plt.style.use('ggplot')\n",
    "import time\n",
    "from fractions import Fraction\n",
    "\n",
    "import scipy.optimize\n",
    "def myfloat(b):\n",
    "    try: \n",
    "        b = float(b)\n",
    "    except ValueError:\n",
    "        print b\n",
    "        b = [b for b in b.split('-') if b]\n",
    "        b = float(b[0])*10**(-float(b[1]))\n",
    "    return b\n"
   ]
  },
  {
   "cell_type": "code",
   "execution_count": 20,
   "metadata": {
    "collapsed": false,
    "scrolled": true
   },
   "outputs": [
    {
     "name": "stdout",
     "output_type": "stream",
     "text": [
      "Richards dt=1; SW dt =1\n"
     ]
    }
   ],
   "source": [
    "# Common parameters\n",
    "tmax = 100 \n",
    "tr = 100                   # rainfall duration\n",
    "rain = 0.036/3600.        # 36 mm/hr\n",
    "iscouple = 1\n",
    "dt_sw =  1\n",
    "iscale = 1\n",
    "dt = dt_sw*iscale\n",
    "\n",
    "# Define python time variables\n",
    "t = np.arange(0, tmax + dt, dt)\n",
    "prate = np.ones_like(t)*rain*100.\n",
    "prate[np.where(t>= tr)[0][0]:] = 0\n",
    "t = t[1:]\n",
    "nt = t.shape[0] \n",
    "\n",
    "# SW parameters\n",
    "ncol = 2\n",
    "nrow = 2\n",
    "slope =  0.0\n",
    "dx = .5\n",
    "xni = 0.03                # interspace roughness  (Manning's n)\n",
    "epsh = .0025\n",
    "\n",
    "# Richards parameters\n",
    "stop_tol = 1e-5 # Stopping tolerance [cm]\n",
    "inv = 0\n",
    "ifixh = 1\n",
    "depth = 0\n",
    "infL = 2\n",
    "\n",
    "nprt = 100  \n",
    "fmtstr = 'Richards dt={1}; SW dt ={0}'.format(dt,dt_sw)\n",
    "print fmtstr"
   ]
  },
  {
   "cell_type": "code",
   "execution_count": 21,
   "metadata": {
    "code_folding": [],
    "collapsed": false
   },
   "outputs": [
    {
     "name": "stdout",
     "output_type": "stream",
     "text": [
      "101 80\n"
     ]
    }
   ],
   "source": [
    "# set up grid \n",
    "dz = .2; # [cm]\n",
    "zmin = 0.; # [cm]\n",
    "zmax = 20.; # [cm]\n",
    "z = np.arange(zmin, zmax+dz, dz)\n",
    "nz = z.shape[0]\n",
    "zs = 4  # cm  \n",
    "si = np.where(z == z[-1] - zs)[0][0]  \n",
    "print nz, si\n",
    "\n",
    "\n",
    "hinit =  -100*np.ones(nz)\n",
    "htop = 0.0\n",
    "# hinit[-1] = htop"
   ]
  },
  {
   "cell_type": "markdown",
   "metadata": {},
   "source": [
    "### Functions to write the input files for dry.f"
   ]
  },
  {
   "cell_type": "code",
   "execution_count": 22,
   "metadata": {
    "code_folding": [],
    "collapsed": true
   },
   "outputs": [],
   "source": [
    "def write_prate(tmax = 100, dt_sw = 1., rain = 0.036/3600.):\n",
    "    t = np.arange(0., tmax + dt_sw, dt_sw)\n",
    "    nt_sw = t.shape[0]-1\n",
    "    prate = np.ones_like(t)*rain\n",
    "    prate[np.where(t>=tr)[0][0]:] = 0\n",
    "\n",
    "    f = open('input/prate.dat', 'w')\n",
    "\n",
    "    f.write('{0:<13} \\n'.format(nt_sw))\n",
    "    for n in range( nt_sw +1):\n",
    "        f.write('{0} {1} \\n'.format(t[n], prate[n])) \n",
    "\n",
    "    f.close()\n",
    "    return nt_sw"
   ]
  },
  {
   "cell_type": "code",
   "execution_count": 23,
   "metadata": {
    "collapsed": true
   },
   "outputs": [],
   "source": [
    "nt_sw = write_prate(tmax = tmax, dt_sw = dt_sw, rain = rain)"
   ]
  },
  {
   "cell_type": "code",
   "execution_count": 24,
   "metadata": {
    "code_folding": [
     0
    ],
    "collapsed": true,
    "scrolled": true
   },
   "outputs": [],
   "source": [
    "def write_coords(fname = 'input/coords', ncol = 2, nrow = 2, dx = 1, \n",
    "                 slope = 0., xni = 0.03):        \n",
    "    npt = (ncol+1)*(nrow+1)  # number of points\n",
    "    ne = nrow*ncol  # number of edges\n",
    "    nbcell = 2*ncol + 2*nrow - 4  # number of boundary cells\n",
    "\n",
    "    xdum = np.arange(0, (ncol+1)*dx - 1e-10, dx )\n",
    "    ydum = np.arange(0, (nrow+1)*dx - 1e-10, dx )\n",
    "    ydum, xdum = np.meshgrid(ydum, xdum)\n",
    "\n",
    "    zmax = slope*(np.max(ydum) - np.min(ydum))\n",
    "    zdum = np.linspace(0, zmax, nrow+1)\n",
    "    zdum = np.tile(zdum, [ncol+1]).reshape([ncol+1, nrow+1])\n",
    "    \n",
    "    xndum = np.ones_like(zdum)*xni    \n",
    "    # xndum[:, :nrow/2]  = xnv\n",
    "    isveg_dum = np.zeros_like(zdum)\n",
    "    \n",
    "    x = np.zeros(npt + 1)\n",
    "    y = np.zeros(npt + 1)\n",
    "    z = np.zeros(npt + 1)\n",
    "    xn = np.zeros(npt + 1)\n",
    "    isveg = np.zeros(npt + 1)\n",
    "\n",
    "    x[1:] = xdum.ravel()\n",
    "    y[1:] = ydum.ravel()\n",
    "    z[1:] = zdum.ravel()\n",
    "    xn[1:] = xndum.ravel()\n",
    "    isveg[1:] = isveg_dum.ravel()\n",
    "\n",
    "    # print (np.max(zdum) - np.min(zdum))/(np.max(ydum) - np.min(ydum))*100\n",
    "    # (ncol+1) by (nrow+1)  -  node numbers\n",
    "    nodes = np.arange(1, npt+1, dtype = int).reshape([ncol+1, nrow+1])\n",
    "\n",
    "    nop = np.zeros([ncol+1, nrow+1, 4], dtype = int)\n",
    "    for j in range(ncol):\n",
    "        for k in range(nrow):\n",
    "            nop[j+1, k+1] =  nodes[j,k], nodes[j+1, k], nodes[j+1,k+1], nodes[j,k+1]\n",
    "            \n",
    "    f = open(fname, 'w')\n",
    "    f.write('{0:<13}   {1:<13}\\n'.format(npt, ne))\n",
    "\n",
    "    # write x, y, z\n",
    "    for n in range(1, npt+1):\n",
    "        f.write('{0:<13.6f} {1:<13.6f} {2:<13.6f} {3:<13.6e} {4:<13.6e}  \\n'.format(\n",
    "                    x[n],y[n],z[n],xn[n],isveg[n])) \n",
    "\n",
    "    # write node numbers  \n",
    "    for j in range(1, ncol+1):\n",
    "        for k in range(1, nrow+1):\n",
    "            n1 = nop[j, k, 0] \n",
    "            n2 = nop[j, k, 1]       \n",
    "            n3 = nop[j, k, 2]        \n",
    "            n4 = nop[j, k, 3] \n",
    "            f.write('{0:<10} {1:<10}  {2:<10} {3:<10}\\n'.format(n1, n2, n3, n4)) \n",
    "    f.close()  \n",
    "\n",
    "    # get cell center values:\n",
    "    xcc  = np.zeros([ncol+2, nrow+2])    \n",
    "    ycc  = np.zeros([ncol+2, nrow+2])\n",
    "    zcc  = np.zeros([ncol+2, nrow+2])\n",
    "    xncc  = np.zeros([ncol+2, nrow+2])\n",
    "\n",
    "    for j in range(1, ncol+1):\n",
    "        for k in range(1, nrow+1):\n",
    "            n1 = nop[j, k, 0] \n",
    "            n2 = nop[j, k, 1]       \n",
    "            n3 = nop[j, k, 2]        \n",
    "            n4 = nop[j, k, 3]  \n",
    "            xcc[j,k] = 0.25*(x[n1] + x[n2] + x[n3] + x[n4])  \n",
    "            ycc[j,k] = 0.25*(y[n1] + y[n2] + y[n3] + y[n4])\n",
    "            zcc[j,k] = 0.25*(z[n1] + z[n2] + z[n3] + z[n4])   \n",
    "            xncc[j,k] = 0.25*(xn[n1] + xn[n2] + xn[n3] + xn[n4])   \n",
    "            \n",
    "            \n",
    "    # return  nop, x, y, z, xcc, ycc, zcc, xncc\n"
   ]
  },
  {
   "cell_type": "code",
   "execution_count": 25,
   "metadata": {
    "collapsed": true,
    "scrolled": true
   },
   "outputs": [],
   "source": [
    "write_coords(ncol = ncol, nrow = nrow, dx = dx, \n",
    "                 slope = slope, xni = xni)\n"
   ]
  },
  {
   "cell_type": "code",
   "execution_count": 26,
   "metadata": {
    "code_folding": [
     0
    ],
    "collapsed": false,
    "scrolled": true
   },
   "outputs": [],
   "source": [
    "def write_param(fname = 'input/params.dat',  dt = 1, \n",
    "                 tmax = 100,  nprt = 1, epsh = 0.0025,\n",
    "                 iscale = 1, ifixh = 0, stop_tol = 1e-5):\n",
    "\n",
    "    f = open(fname, 'w')\n",
    "    f.write('gravity     dt        tmax    \\n')\n",
    "    f.write('9.806d0     {0}       {1}     \\n'.format(dt, tmax))\n",
    "    f.write(' epsh      beta     \\n')  \n",
    "    f.write('{0}     2.d0     \\n'.format(epsh))\n",
    "    f.write('xk          nprt      \\n')\n",
    "    f.write('3.9217d-4   {1}       \\n'.format(tr, nprt))   \n",
    "    f.write(' iscouple    ifixh \\n')\n",
    "    f.write(' {0}    {1} \\n'.format( iscouple, ifixh))   \n",
    "    f.write(' iscale   \\n')\n",
    "    f.write(' {0}       \\n'.format( iscale))  \n",
    "    f.write(' stop_tol   \\n')\n",
    "    f.write(' {0}       \\n'.format( stop_tol))      \n",
    "    f.write('h0      u0    v0   \\n ')\n",
    "    f.write('0.0     0.0    0.0  \\n ')\n",
    "    f.close()\n"
   ]
  },
  {
   "cell_type": "code",
   "execution_count": 27,
   "metadata": {
    "collapsed": false,
    "scrolled": true
   },
   "outputs": [],
   "source": [
    "write_param(dt = dt_sw, tmax = tmax, nprt = nprt, epsh = epsh,\n",
    "                 iscale = iscale, ifixh = ifixh, stop_tol=stop_tol)"
   ]
  },
  {
   "cell_type": "code",
   "execution_count": 28,
   "metadata": {
    "code_folding": [
     0
    ],
    "collapsed": true,
    "scrolled": true
   },
   "outputs": [],
   "source": [
    "def write_dryin(fname = 'input/boundary.dat', ncol = ncol, nrow = nrow):\n",
    "    inum = np.zeros([ncol+1, nrow+1], dtype = int)\n",
    "    inum[1:, 1] = 1\n",
    "    inum[1:, -1]= 1\n",
    "    inum[1, 1:] = 1\n",
    "    inum[-1, 1:] = 1\n",
    "    inum[1, 1] = 2\n",
    "    inum[1, -1] = 2\n",
    "    inum[-1, -1] = 2\n",
    "    inum[-1, 1] = 2\n",
    "    \n",
    "    ipos = np.zeros( [ncol+1, nrow+1, 2], dtype = int)\n",
    "    # bottom boundary\n",
    "    ipos[2:-1, 1,0] = 1\n",
    "    ipos[1, 1,1] = 1\n",
    "    ipos[-1, 1,1] = 1\n",
    "\n",
    "    # right boundary\n",
    "    ipos[-1, 1:-1, 0] = 2\n",
    "    ipos[-1, -1,1] = 2\n",
    "\n",
    "    # left boundary\n",
    "    ipos[1, 1:, 0] = 4\n",
    "\n",
    "    # top boundary\n",
    "    ipos[2:, -1,0] = 3\n",
    "    ipos[1, -1,1] = 3\n",
    "    \n",
    "    itype = np.zeros([ncol+1, nrow+1, 2], dtype = int)\n",
    "    # bottom boundary\n",
    "    itype[2:-1, 1,0] = 0\n",
    "    itype[1, 1,1] = 0\n",
    "    itype[-1, 1,1] = 0\n",
    "\n",
    "    # right boundary\n",
    "    itype[-1, 1:-1, 0] = 1\n",
    "    itype[-1, -1,1] = 1\n",
    "\n",
    "    # left boundary\n",
    "    itype[1, 1:,0] = 1\n",
    "\n",
    "    # top boundary\n",
    "    itype[2:, -1,0] = 1\n",
    "    itype[1, -1,1] = 1\n",
    "    \n",
    "    npt = (ncol+1)*(nrow+1)  # number of points\n",
    "    ne = nrow*ncol  # number of edges\n",
    "    nbcell = 2*ncol + 2*nrow - 4  # number of boundary cells\n",
    "\n",
    "    f = open(fname, 'w')\n",
    "    f.write('number of boundary cell \\n') \n",
    "    f.write('  {0} \\n'.format(nbcell))\n",
    "    f.write(' j    k          inum    itype             ipos \\n')\n",
    "    # f.write(' j \\t k \\tinum    itype \\t\\t ipos')\n",
    "    j = 1\n",
    "    for k in range(1, nrow+1):\n",
    "        if inum[j, k] == 2:\n",
    "            f.write( '{0:<5} {1:<13} {2:<7} {3:<8} {4:<9} {5:<8} {6:<6} \\n'.format(\n",
    "                        j, k, inum[j, k], itype[j, k, 0], itype[j, k, 1], \n",
    "                         ipos[j, k, 0], ipos[j, k, 1]))\n",
    "        else:\n",
    "            f.write( '{0:<5} {1:<13} {2:<7} {3:<18} {4:<10}   \\n'.format(\n",
    "                         j, k, inum[j, k],  itype[j, k, 0],  ipos[j, k, 0], ))\n",
    "\n",
    "    for j in range(2, ncol+1):\n",
    "        if inum[j, k] == 2:\n",
    "            f.write( '{0:<5} {1:<13} {2:<7} {3:<8} {4:<9} {5:<8} {6:<6} \\n'.format(\n",
    "                        j, k, inum[j, k], itype[j, k, 0], itype[j, k, 1], \n",
    "                         ipos[j, k, 0], ipos[j, k, 1]))\n",
    "        else:\n",
    "            f.write( '{0:<5} {1:<13} {2:<7} {3:<18} {4:<10}   \\n'.format(\n",
    "                         j, k, inum[j, k],  itype[j, k, 0],  ipos[j, k, 0], ))\n",
    "\n",
    "    for k in range(nrow-1,0,-1):\n",
    "        if inum[j, k] == 2:\n",
    "            f.write( '{0:<5} {1:<13} {2:<7} {3:<8} {4:<9} {5:<8} {6:<6} \\n'.format(\n",
    "                        j, k, inum[j, k], itype[j, k, 0], itype[j, k, 1], \n",
    "                         ipos[j, k, 0], ipos[j, k, 1]))\n",
    "        else:\n",
    "            f.write( '{0:<5} {1:<13} {2:<7} {3:<18} {4:<10}   \\n'.format(\n",
    "                         j, k, inum[j, k],  itype[j, k, 0],  ipos[j, k, 0], ))\n",
    "            \n",
    "    for j in range(ncol-1,1,-1):\n",
    "        if inum[j, k] == 2:\n",
    "            f.write( '{0:<5} {1:<13} {2:<7} {3:<8} {4:<9} {5:<8} {6:<6} \\n'.format(\n",
    "                        j, k, inum[j, k], itype[j, k, 0], itype[j, k, 1], \n",
    "                         ipos[j, k, 0], ipos[j, k, 1]))\n",
    "        else:\n",
    "            f.write( '{0:<5} {1:<13} {2:<7} {3:<18} {4:<10}   \\n'.format(\n",
    "                         j, k, inum[j, k],  itype[j, k, 0],  ipos[j, k, 0], ))\n",
    "\n",
    "    kbeg = np.ones(ncol+1, dtype = int)\n",
    "    kend = np.ones(ncol+1, dtype = int)*nrow\n",
    "   \n",
    "    f.write('ncol\\n')\n",
    "    f.write(\"{0}\\n\".format(ncol))\n",
    "    f.write('j     kbeg          kend \\n')\n",
    "    for j in range(1, ncol+1):\n",
    "        f.write( '{0:>5}  {1:>5} {2:>13}   \\n'.format(\n",
    "                    j, kbeg[j],kend[k] ))\n",
    "\n",
    "    f.close()\n",
    "    return inum, ipos, itype"
   ]
  },
  {
   "cell_type": "code",
   "execution_count": 29,
   "metadata": {
    "collapsed": true,
    "scrolled": true
   },
   "outputs": [],
   "source": [
    "inum, ipos, itype = write_dryin(ncol = ncol, nrow = nrow)"
   ]
  },
  {
   "cell_type": "markdown",
   "metadata": {},
   "source": [
    "## Write the soil specific input files"
   ]
  },
  {
   "cell_type": "code",
   "execution_count": 30,
   "metadata": {
    "code_folding": [],
    "collapsed": false,
    "scrolled": true
   },
   "outputs": [],
   "source": [
    "def vanGenuchten(h,phi) :\n",
    "    alpha   = phi['alpha']\n",
    "    theta_S = phi['theta_S']\n",
    "    theta_R = phi['theta_R']\n",
    "    n       = phi['n']\n",
    "    m       = phi['m']\n",
    "    Ksat    = phi['ksat'] \n",
    "    # Compute the volumetric moisture content\n",
    "    theta = (theta_S - theta_R)/(1 + (alpha*abs(h))**n)**m + theta_R\n",
    "    # Compute the effective saturation\n",
    "    Se = ((theta - theta_R)/(theta_S - theta_R))\n",
    "    # Compute the hydraulic conductivity\n",
    "    K = Ksat*Se**(1./2)*(1 - (1 - Se**(1./m))**m)**2\n",
    "    # Compute the specific moisture storage\n",
    "    C =  -alpha*n*np.sign(h)*(1./n - 1)*(alpha*abs(h))**(n - 1)*(theta_R - \n",
    "         theta_S)*((alpha*abs(h))**n + 1)**(1/n - 2)\n",
    "    try:\n",
    "        for i in range(len(h)):\n",
    "            if h[i] > 0:\n",
    "                K[i] = Ksat[i]\n",
    "                C[i] = 0.\n",
    "                theta[i] = theta_S[i]\n",
    "    except TypeError:\n",
    "        if h > 0:\n",
    "            K = Ksat[i]\n",
    "            C = 0.\n",
    "            theta = theta_S[i]\n",
    "    return [C,K,theta]"
   ]
  },
  {
   "cell_type": "code",
   "execution_count": 31,
   "metadata": {
    "collapsed": true
   },
   "outputs": [],
   "source": [
    "def write_phi(dz = 0.2, zmin = 0, zmax = 20, z = 0):\n",
    "        # Define van Genuchten parameters\n",
    "        # veg areas / below the seal layer\n",
    "        vegAlpha   = 0.0096  \n",
    "        vegTheta_S = 0.472  \n",
    "        vegTheta_R = 0.0378  \n",
    "        vegLambdA  = 0.318 \n",
    "        vegn       = vegLambdA + 1\n",
    "        vegm       = vegLambdA/vegn\n",
    "        vegKsat    = 3.38/3600. \n",
    "\n",
    "        # Seal layer\n",
    "        sealAlpha   = 0.0078  \n",
    "        sealTheta_S = 0.450  \n",
    "        sealTheta_R = 0.0394  \n",
    "        sealLambdA  = 0.263  \n",
    "        sealn       = sealLambdA + 1\n",
    "        sealm       = sealLambdA/sealn\n",
    "        sealKsat    = 0.19/3600. \n",
    "    \n",
    "        zs = 4  # cm  \n",
    "        si = np.where(z == z[-1] - zs)[0][0]  \n",
    "        nz = z.shape[0]\n",
    "        alpha = np.ones(nz)*vegAlpha\n",
    "        theta_S = np.ones(nz)*vegTheta_S\n",
    "        theta_R = np.ones(nz)*vegTheta_R\n",
    "        lambdA = np.ones(nz)*vegLambdA\n",
    "        ksat = np.ones(nz)*vegKsat\n",
    "\n",
    "        alpha[si:] = sealAlpha\n",
    "        theta_S[si:] = sealTheta_S\n",
    "        theta_R[si:] = sealTheta_R\n",
    "        lambdA[si:] = sealLambdA\n",
    "        ksat[si:] = sealKsat\n",
    "\n",
    "        n = lambdA + 1\n",
    "        m = lambdA/n\n",
    "        \n",
    "        phi = {'alpha': alpha,\n",
    "               'theta_R': theta_R,\n",
    "               'theta_S': theta_S,\n",
    "               'theta_S': theta_S,\n",
    "               'lambdA': lambdA,\n",
    "               'n': n, \n",
    "               'm': m, \n",
    "               'ksat': ksat,\n",
    "              }\n",
    "        \n",
    "        f = open('input/vanG.dat', 'w')\n",
    "        f.write('dz zmax \\n')  \n",
    "        f.write('{0:<13} {1:<13}  \\n'.format(dz, zmax))\n",
    "        f.write('nz \\n')  \n",
    "        f.write('{0:<13}  \\n'.format(nz))\n",
    "        for n in range(nz):\n",
    "            f.write('{0} {1} {2} {3} {4} {5} \\n'.format(alpha[n],theta_S[n], \n",
    "                                        theta_R[n],lambdA[n],ksat[n],hinit[n])) \n",
    "        f.close()\n",
    "        \n",
    "        return phi"
   ]
  },
  {
   "cell_type": "code",
   "execution_count": 32,
   "metadata": {
    "collapsed": true
   },
   "outputs": [],
   "source": [
    "phi = write_phi(dz = dz, zmin = zmin, zmax = zmax,  z = z)"
   ]
  },
  {
   "cell_type": "markdown",
   "metadata": {},
   "source": [
    "## Avoid allocating to much space "
   ]
  },
  {
   "cell_type": "code",
   "execution_count": 33,
   "metadata": {
    "collapsed": true
   },
   "outputs": [],
   "source": [
    "def write_inc(nt = 100, nz = 101, ncol = 2, nrow = 2):\n",
    "    #  Avoid allocating to much space \n",
    "    with open('dry0.inc', 'r') as input_file, open('dry.inc', 'w') as output_file:\n",
    "        for line in input_file:\n",
    "            if line[6:15] == 'parameter':\n",
    "                print 'old line:', line\n",
    "                a = (line.strip().split(\" \")[2].split(\",\"))\n",
    "                nn0 = int(a[0].split('=')[-1])\n",
    "                nt0 = int(a[1].split('=')[-1])\n",
    "                nx0 = int(a[2].split('=')[-1])\n",
    "                ny0 = int(a[3].split('=')[-1])\n",
    "                nz0 = int(a[4].split('=')[-1])\n",
    "\n",
    "                newline = '      parameter ( nn={0},ntp={1},nx={2},ny={3},nz={4} )'.format(\n",
    "                     (ncol+1)*(nrow+1)+1, nt+1, ncol+2, nrow+2, nz)\n",
    "\n",
    "                #newline = '      parameter ( nn={0},ntp={1},nx={2},ny={3},nz={4} )'.format(\n",
    "                #     nn0, nt0, nx0, ny0, nz)\n",
    "\n",
    "                print 'new line:', newline\n",
    "                output_file.write(newline)\n",
    "            else:\n",
    "                output_file.write(line)\n"
   ]
  },
  {
   "cell_type": "code",
   "execution_count": 34,
   "metadata": {
    "collapsed": false
   },
   "outputs": [
    {
     "name": "stdout",
     "output_type": "stream",
     "text": [
      "old line:       parameter ( nn=10000,ntp=20000,nx=410,ny=410,nz=101 )\r\n",
      "\n",
      "new line:       parameter ( nn=10,ntp=301,nx=4,ny=4,nz=101 )\n"
     ]
    }
   ],
   "source": [
    "write_inc(nt = nt_sw, nz = nz,  ncol = ncol, nrow = nrow)"
   ]
  },
  {
   "cell_type": "markdown",
   "metadata": {},
   "source": [
    "## Run fortran code"
   ]
  },
  {
   "cell_type": "code",
   "execution_count": 35,
   "metadata": {
    "collapsed": false,
    "scrolled": true
   },
   "outputs": [
    {
     "data": {
      "text/plain": [
       "''"
      ]
     },
     "execution_count": 35,
     "metadata": {},
     "output_type": "execute_result"
    }
   ],
   "source": [
    "from commands import getoutput as cmd\n",
    "cmd(\"gfortran -o sw  -framework accelerate dry.for\")"
   ]
  },
  {
   "cell_type": "code",
   "execution_count": 36,
   "metadata": {
    "collapsed": false
   },
   "outputs": [
    {
     "ename": "KeyboardInterrupt",
     "evalue": "",
     "output_type": "error",
     "traceback": [
      "\u001b[0;31m---------------------------------------------------------------------------\u001b[0m",
      "\u001b[0;31mKeyboardInterrupt\u001b[0m                         Traceback (most recent call last)",
      "\u001b[0;32m<ipython-input-36-08fc93739b0b>\u001b[0m in \u001b[0;36m<module>\u001b[0;34m()\u001b[0m\n\u001b[1;32m      1\u001b[0m \u001b[0;32mimport\u001b[0m \u001b[0mtime\u001b[0m\u001b[0;34m\u001b[0m\u001b[0m\n\u001b[1;32m      2\u001b[0m \u001b[0mstart_time\u001b[0m \u001b[0;34m=\u001b[0m \u001b[0mtime\u001b[0m\u001b[0;34m.\u001b[0m\u001b[0mtime\u001b[0m\u001b[0;34m(\u001b[0m\u001b[0;34m)\u001b[0m\u001b[0;34m\u001b[0m\u001b[0m\n\u001b[0;32m----> 3\u001b[0;31m \u001b[0ma\u001b[0m \u001b[0;34m=\u001b[0m \u001b[0mcmd\u001b[0m\u001b[0;34m(\u001b[0m\u001b[0;34m\"./sw\"\u001b[0m\u001b[0;34m)\u001b[0m\u001b[0;34m\u001b[0m\u001b[0m\n\u001b[0m\u001b[1;32m      4\u001b[0m \u001b[0melapsetime\u001b[0m \u001b[0;34m=\u001b[0m \u001b[0;34m(\u001b[0m\u001b[0;34m(\u001b[0m\u001b[0mtime\u001b[0m\u001b[0;34m.\u001b[0m\u001b[0mtime\u001b[0m\u001b[0;34m(\u001b[0m\u001b[0;34m)\u001b[0m \u001b[0;34m-\u001b[0m \u001b[0mstart_time\u001b[0m\u001b[0;34m)\u001b[0m\u001b[0;34m)\u001b[0m\u001b[0;34m\u001b[0m\u001b[0m\n",
      "\u001b[0;32m//anaconda/lib/python2.7/commands.pyc\u001b[0m in \u001b[0;36mgetoutput\u001b[0;34m(cmd)\u001b[0m\n\u001b[1;32m     48\u001b[0m \u001b[0;32mdef\u001b[0m \u001b[0mgetoutput\u001b[0m\u001b[0;34m(\u001b[0m\u001b[0mcmd\u001b[0m\u001b[0;34m)\u001b[0m\u001b[0;34m:\u001b[0m\u001b[0;34m\u001b[0m\u001b[0m\n\u001b[1;32m     49\u001b[0m     \u001b[0;34m\"\"\"Return output (stdout or stderr) of executing cmd in a shell.\"\"\"\u001b[0m\u001b[0;34m\u001b[0m\u001b[0m\n\u001b[0;32m---> 50\u001b[0;31m     \u001b[0;32mreturn\u001b[0m \u001b[0mgetstatusoutput\u001b[0m\u001b[0;34m(\u001b[0m\u001b[0mcmd\u001b[0m\u001b[0;34m)\u001b[0m\u001b[0;34m[\u001b[0m\u001b[0;36m1\u001b[0m\u001b[0;34m]\u001b[0m\u001b[0;34m\u001b[0m\u001b[0m\n\u001b[0m\u001b[1;32m     51\u001b[0m \u001b[0;34m\u001b[0m\u001b[0m\n\u001b[1;32m     52\u001b[0m \u001b[0;34m\u001b[0m\u001b[0m\n",
      "\u001b[0;32m//anaconda/lib/python2.7/commands.pyc\u001b[0m in \u001b[0;36mgetstatusoutput\u001b[0;34m(cmd)\u001b[0m\n\u001b[1;32m     58\u001b[0m     \u001b[0;32mimport\u001b[0m \u001b[0mos\u001b[0m\u001b[0;34m\u001b[0m\u001b[0m\n\u001b[1;32m     59\u001b[0m     \u001b[0mpipe\u001b[0m \u001b[0;34m=\u001b[0m \u001b[0mos\u001b[0m\u001b[0;34m.\u001b[0m\u001b[0mpopen\u001b[0m\u001b[0;34m(\u001b[0m\u001b[0;34m'{ '\u001b[0m \u001b[0;34m+\u001b[0m \u001b[0mcmd\u001b[0m \u001b[0;34m+\u001b[0m \u001b[0;34m'; } 2>&1'\u001b[0m\u001b[0;34m,\u001b[0m \u001b[0;34m'r'\u001b[0m\u001b[0;34m)\u001b[0m\u001b[0;34m\u001b[0m\u001b[0m\n\u001b[0;32m---> 60\u001b[0;31m     \u001b[0mtext\u001b[0m \u001b[0;34m=\u001b[0m \u001b[0mpipe\u001b[0m\u001b[0;34m.\u001b[0m\u001b[0mread\u001b[0m\u001b[0;34m(\u001b[0m\u001b[0;34m)\u001b[0m\u001b[0;34m\u001b[0m\u001b[0m\n\u001b[0m\u001b[1;32m     61\u001b[0m     \u001b[0msts\u001b[0m \u001b[0;34m=\u001b[0m \u001b[0mpipe\u001b[0m\u001b[0;34m.\u001b[0m\u001b[0mclose\u001b[0m\u001b[0;34m(\u001b[0m\u001b[0;34m)\u001b[0m\u001b[0;34m\u001b[0m\u001b[0m\n\u001b[1;32m     62\u001b[0m     \u001b[0;32mif\u001b[0m \u001b[0msts\u001b[0m \u001b[0;32mis\u001b[0m \u001b[0mNone\u001b[0m\u001b[0;34m:\u001b[0m \u001b[0msts\u001b[0m \u001b[0;34m=\u001b[0m \u001b[0;36m0\u001b[0m\u001b[0;34m\u001b[0m\u001b[0m\n",
      "\u001b[0;31mKeyboardInterrupt\u001b[0m: "
     ]
    }
   ],
   "source": [
    "import time\n",
    "start_time = time.time()\n",
    "a = cmd(\"./sw\")\n",
    "elapsetime = ((time.time() - start_time))"
   ]
  },
  {
   "cell_type": "code",
   "execution_count": 37,
   "metadata": {
    "collapsed": false
   },
   "outputs": [
    {
     "ename": "NameError",
     "evalue": "name 'elapsetime' is not defined",
     "output_type": "error",
     "traceback": [
      "\u001b[0;31m---------------------------------------------------------------------------\u001b[0m",
      "\u001b[0;31mNameError\u001b[0m                                 Traceback (most recent call last)",
      "\u001b[0;32m<ipython-input-37-4adfd4950ccc>\u001b[0m in \u001b[0;36m<module>\u001b[0;34m()\u001b[0m\n\u001b[0;32m----> 1\u001b[0;31m \u001b[0;32mprint\u001b[0m\u001b[0;34m(\u001b[0m\u001b[0;34m\"run time = {0:.2f} s\"\u001b[0m\u001b[0;34m.\u001b[0m\u001b[0mformat\u001b[0m\u001b[0;34m(\u001b[0m \u001b[0;34m(\u001b[0m\u001b[0melapsetime\u001b[0m\u001b[0;34m)\u001b[0m\u001b[0;34m)\u001b[0m\u001b[0;34m)\u001b[0m\u001b[0;34m\u001b[0m\u001b[0m\n\u001b[0m",
      "\u001b[0;31mNameError\u001b[0m: name 'elapsetime' is not defined"
     ]
    }
   ],
   "source": [
    "print(\"run time = {0:.2f} s\".format( (elapsetime)))"
   ]
  },
  {
   "cell_type": "code",
   "execution_count": null,
   "metadata": {
    "collapsed": false,
    "scrolled": true
   },
   "outputs": [],
   "source": [
    "print(\"run time = {0:.2f} s\".format( (elapsetime)))"
   ]
  },
  {
   "cell_type": "markdown",
   "metadata": {},
   "source": [
    "## Now For the heart of the richards code"
   ]
  },
  {
   "cell_type": "code",
   "execution_count": null,
   "metadata": {
    "collapsed": true
   },
   "outputs": [],
   "source": [
    "def Richards_matrices(nz, infL = 2):\n",
    "    # Define matrices that we'll need in solution\n",
    "    DeltaPlus  = np.diag(-np.ones(nz)) + np.diag(np.ones(nz-1), 1)\n",
    "    DeltaPlus[0,:] = 0\n",
    "    DeltaPlus[nz-1,:] = 0\n",
    "\n",
    "    DeltaMinus = np.diag(np.ones(nz)) + np.diag(-np.ones(nz-1),-1);\n",
    "    DeltaMinus[0,:] = 0\n",
    "    DeltaMinus[nz-1,:] = 0\n",
    "\n",
    "    MPlus = np.diag(np.ones(nz))+np.diag(np.ones(nz-1),1)\n",
    "    MPlus[0,0] = 2\n",
    "    MPlus[0,1:nz-1] = 0\n",
    "    MPlus[nz-1,nz-1] = 2\n",
    "    MPlus[nz-1,:nz-1] = 0\n",
    "\n",
    "    MMinus = np.diag(np.ones(nz)) + np.diag(np.ones(nz-1),-1)\n",
    "    MMinus[0,0] = 2\n",
    "    MMinus[0,1:nz-1] = 0 \n",
    "    MMinus[nz-1,nz-1] = 2\n",
    "    MMinus[nz-1,:nz-1] = 0 \n",
    "\n",
    "    if infL == 2:\n",
    "        MPlus[-2, -2] = 2\n",
    "        MPlus[-2, -1] = 0\n",
    "        \n",
    "    return DeltaPlus, DeltaMinus, MPlus, MMinus"
   ]
  },
  {
   "cell_type": "code",
   "execution_count": null,
   "metadata": {
    "collapsed": true
   },
   "outputs": [],
   "source": [
    "DeltaPlus, DeltaMinus, MPlus, MMinus = Richards_matrices(nz,infL = infL)\n"
   ]
  },
  {
   "cell_type": "code",
   "execution_count": null,
   "metadata": {
    "collapsed": false,
    "scrolled": true
   },
   "outputs": [],
   "source": [
    " def pot_infl(hnp1m, thetan, htop = 0, infL = 2, stop_tol = 1e-5, inv = 0):\n",
    "    \n",
    "    stop_flag = 0\n",
    "    niter = 0\n",
    "\n",
    "    while(stop_flag == 0):\n",
    "        [cnp1m,knp1m,thetanp1m] = vanGenuchten(hnp1m,phi)\n",
    "        Cdiag = np.diag(cnp1m) \n",
    "        kbarplus = (1/2.)*MPlus.dot(knp1m)\n",
    "        Kbarplus = np.diag(kbarplus)\n",
    "        kbarminus = (1/2.)*MMinus.dot(knp1m)\n",
    "        Kbarminus = np.diag(kbarminus)\n",
    "        A = (1./dt)*Cdiag - 1./((dz)**2)*(Kbarplus.dot(DeltaPlus) - \n",
    "                                          Kbarminus.dot(DeltaMinus)) \n",
    "        #  Compute the residual of MPFD (RHS)\n",
    "        R_MPFD = (1./(dz**2))*(Kbarplus.dot(DeltaPlus).dot(hnp1m) - \\\n",
    "                               Kbarminus.dot(DeltaMinus).dot(hnp1m)) + \\\n",
    "             (1./dz)*(kbarplus - kbarminus) - (1./dt)*(thetanp1m - thetan); \n",
    "        # Compute deltam for iteration level m+1\n",
    "\n",
    "        if inv == 0:\n",
    "            Ainv = np.linalg.pinv(A)\n",
    "            #u, s, v = np.linalg.svd(A, full_matrices=True)\n",
    "            #Ainv = np.dot (v.transpose(), np.dot(np.diag(s**-1),u.transpose()))\n",
    "        elif inv == 1:\n",
    "            Ainv = np.linalg.inv(A)\n",
    "            \n",
    "        deltam = Ainv.dot(R_MPFD)\n",
    "\n",
    "        # Increment iteration counter and display number of iterations\n",
    "        niter = niter + 1;\n",
    "        if niter > 100.:\n",
    "            stop_tol = stop_tol*10.\n",
    "            niter = 0 \n",
    "        if (max(abs(deltam[1:(nz-1)]))<stop_tol):\n",
    "\n",
    "            stop_flag = 1\n",
    "            hnp1mp1 = hnp1m + deltam \n",
    "            hnp1mp1[0] = hnp1mp1[1]  # free drainage BC\n",
    "            hnp1mp1[-1] = htop\n",
    "            [cnp1m,knp1m,thetanp1m] = vanGenuchten(hnp1mp1,phi);\n",
    "            knp1mp1 = knp1m\n",
    "            cnp1mp1 = cnp1m            \n",
    "            hnp1m = hnp1mp1\n",
    "            kt = (knp1mp1[-infL] + knp1mp1[-2])/2.\n",
    "            PI = kt*((hnp1mp1[-1] - hnp1mp1[-2])/dz + 1.)\n",
    "        else:\n",
    "            hnp1mp1 = hnp1m + deltam\n",
    "            hnp1m = hnp1mp1\n",
    "            hnp1m[0] = hnp1m[1] \n",
    "            hnp1m[-1] = htop\n",
    "    return PI"
   ]
  },
  {
   "cell_type": "code",
   "execution_count": null,
   "metadata": {
    "collapsed": false,
    "scrolled": true
   },
   "outputs": [],
   "source": [
    "def timestep(hnp1m, thetan, setflux = 1, flux = 0, htop = 0., infL = 2,\n",
    "              stop_tol = 1e-5, inv = 0):\n",
    "    \"\"\"\"\"\"\n",
    "    stop_flag = 0\n",
    "    niter = 0\n",
    "    while(stop_flag == 0):\n",
    "        [cnp1m,knp1m,thetanp1m] = vanGenuchten(hnp1m,phi)\n",
    "        Cdiag = np.diag(cnp1m) \n",
    "        kbarplus = (1/2.)*MPlus.dot(knp1m)\n",
    "        Kbarplus = np.diag(kbarplus)\n",
    "        kbarminus = (1/2.)*MMinus.dot(knp1m)\n",
    "        Kbarminus = np.diag(kbarminus)\n",
    "        A = (1./dt)*Cdiag - 1./((dz)**2)*(Kbarplus.dot(DeltaPlus) - \n",
    "                                          Kbarminus.dot(DeltaMinus)) \n",
    "        R_MPFD = (1./(dz**2))*(Kbarplus.dot(DeltaPlus).dot(hnp1m) - \\\n",
    "                               Kbarminus.dot(DeltaMinus).dot(hnp1m)) + \\\n",
    "                 (1./dz)*(kbarplus - kbarminus) - (1./dt)*(thetanp1m - thetan) \n",
    "\n",
    "        if inv == 0:\n",
    "            Ainv = np.linalg.pinv(A)\n",
    "        elif inv == 1:\n",
    "            Ainv = np.linalg.inv(A)\n",
    "            \n",
    "            \n",
    "        deltam = Ainv.dot(R_MPFD)\n",
    "        niter = niter + 1\n",
    "        if niter > 100.:\n",
    "            stop_tol = stop_tol*10.\n",
    "            niter = 0        \n",
    "            print 'niter > 100, stop_tol increased to ', stop_tol\n",
    "        if (max(abs(deltam[1:-1]))<stop_tol):\n",
    "            stop_flag = 1\n",
    "            hnp1mp1 = hnp1m + deltam \n",
    "            hnp1mp1[0] = hnp1mp1[1]  # free drainage BC\n",
    "            if setflux == 1:                \n",
    "                kt = (knp1m[-infL] + knp1m[-2])/2.\n",
    "                hnp1mp1[-1] =  hnp1mp1[-2] - dz - flux*dz/kt\n",
    "            else:\n",
    "                hnp1mp1[-1] = htop\n",
    "    \n",
    "            [cnp1m, knp1m,thetanp1m] = vanGenuchten(hnp1mp1,phi);\n",
    "            knp1mp1 = knp1m\n",
    "            cnp1mp1 = cnp1m  \n",
    "            hnp1m = hnp1mp1\n",
    " \n",
    "        else:      \n",
    "            hnp1mp1 = hnp1m + deltam\n",
    "            hnp1m = hnp1mp1\n",
    "            hnp1m[0] = hnp1m[1] \n",
    "            if setflux == 1:            \n",
    "                kt = (knp1m[-infL] + knp1m[-2])/2.\n",
    "                hnp1m[-1] = hnp1m[-2] - dz - flux*dz/kt\n",
    "            else:\n",
    "                hnp1m[-1] = htop\n",
    "                     \n",
    "    errornp1 =  np.sum((A.dot(deltam)))*dt*dz\n",
    "    return hnp1mp1,cnp1mp1,knp1mp1, thetanp1m, errornp1, niter, stop_tol"
   ]
  },
  {
   "cell_type": "code",
   "execution_count": null,
   "metadata": {
    "collapsed": false,
    "scrolled": true
   },
   "outputs": [],
   "source": [
    "# Define a storage container to store the pressure heads and soil moistures\n",
    "\n",
    "\n",
    "[Cinit,Kinit,thetainit] = vanGenuchten(hinit,phi) \n",
    "H = np.zeros([nz,nt+1])\n",
    "H[:,0] = hinit\n",
    "THETA = np.zeros([nz,nt+1])\n",
    "THETA[:,0] = thetainit\n",
    "K = np.zeros([nz,nt+1])\n",
    "K[:,0] = Kinit\n",
    "\n",
    "\n",
    "depths = np.zeros([nt])\n",
    "iterations = np.zeros([nt])\n",
    "ktop = np.zeros([nt])\n",
    "kbot = np.zeros([nt])\n",
    "error = np.zeros([nt])\n",
    "iterations = np.zeros([nt])"
   ]
  },
  {
   "cell_type": "code",
   "execution_count": null,
   "metadata": {
    "code_folding": [],
    "collapsed": false,
    "scrolled": false
   },
   "outputs": [],
   "source": [
    "# Define the container for an iteration counter\n",
    "tp = 0\n",
    "ponding = 1\n",
    "start_time = time.time()\n",
    "\n",
    "# Initialize the Picard iteration solver\n",
    "for i in range(0, nt): \n",
    "    \n",
    "    hnp1m =  H[:,i]  \n",
    "    thetan = THETA[:,i]   \n",
    "    if ifixh == 1 :\n",
    "        hnp1mp1,cnp1mp1,knp1mp1, thetanp1mp1, errornp1,niter,tol = \\\n",
    "                        timestep(hnp1m,thetan, setflux = 0, htop = htop,\n",
    "                                  infL = infL, stop_tol = stop_tol)\n",
    "\n",
    "    elif (depth <= 0) and (prate[i] > 0):\n",
    "        PI = pot_infl(hnp1m, thetan, htop = htop, infL = infL,\n",
    "                      stop_tol = stop_tol)\n",
    "        if  PI < prate[i]:\n",
    "            if tp == 0:\n",
    "                print 'ponding at time t=', t[i]\n",
    "                tp = i\n",
    "            flux = - PI\n",
    "            hnp1mp1,cnp1mp1,knp1mp1,thetanp1mp1,errornp1,niter,tol  = \\\n",
    "               timestep(hnp1m, thetan, setflux = 0, htop = htop,\n",
    "                        infL = infL, stop_tol = stop_tol)\n",
    "            if ponding == 1:\n",
    "                depth += prate[i]*dt + flux*dt\n",
    "        else:\n",
    "            flux = - prate[i]\n",
    "            hnp1mp1,cnp1mp1,knp1mp1,thetanp1mp1,errornp1,niter,tol  = \\\n",
    "               timestep(hnp1m,thetan, setflux = 1, flux = flux, \n",
    "                        infL = infL, stop_tol = stop_tol)\n",
    "        \n",
    "    elif (depth <= 0) and (prate[i] == 0):   \n",
    "        hnp1mp1,cnp1mp1,knp1mp1,thetanp1mp1,errornp1,niter,tol = \\\n",
    "           timestep(hnp1m,thetan, setflux = 1, flux = 0., \n",
    "                    infL = infL, stop_tol = stop_tol)\n",
    "\n",
    "    elif (depth > 0):  \n",
    "        hnp1mp1,cnp1mp1,knp1mp1,thetanp1mp1,errornp1,niter,tol  = \\\n",
    "                        timestep(hnp1m,thetan,  setflux = 0, htop = depth, \n",
    "                                 infL = infL, stop_tol = stop_tol)\n",
    "        # infl =  (knp1mp1[-infL] + knp1mp1[-2])/2.*((hnp1mp1[-1] - hnp1mp1[-2])/dz + 1.)*dt \n",
    "        kt = (knp1mp1[-infL] + knp1mp1[-2])/2.       \n",
    "        if ponding == 1:\n",
    "            depth +=  prate[i]*dt - kt*((hnp1mp1[-1] - hnp1mp1[-2])/dz + 1.)*dt \n",
    "     \n",
    "    if depth <0.:\n",
    "        depth = 0.\n",
    "    \n",
    "    THETA[:,i+1] = thetanp1mp1\n",
    "    H[:,i+1] = hnp1mp1\n",
    "    K[:,i+1] = knp1mp1\n",
    "    \n",
    "    kbot[i] =  (K[1, i+1] + K[0, i+1])/2.  \n",
    "    ktop[i] =  (K[-infL, i+1] + K[-2, i+1])/2.  \n",
    "    error[i] = errornp1\n",
    "    iterations[i] = niter\n",
    "    depths[i] = depth\n",
    "    \n",
    "    if np.mod(i,100) == 0:  \n",
    "        if ifixh == 1:\n",
    "            print 't = {0:.2f}; '.format( t[i])\n",
    "\n",
    "        elif prate[i] > 0:\n",
    "            print 't = {0:.2f}; depth = {1:.2f}cm; PI = {2:.2f}cm/hr; rain = {3:.2f}cm/hr '.format(\n",
    "                 t[i], depth, PI*3600,prate[i]*3600)\n",
    "        else:\n",
    "            print 't = {0:.2f}; depth = {1:.2f}cm;  '.format(\n",
    "                 t[i], depth)\n",
    "\n",
    "t_elapse = (time.time() - start_time)\n",
    "print(\"--- %s seconds ---\" % (time.time() - start_time))\n",
    "\n"
   ]
  },
  {
   "cell_type": "code",
   "execution_count": null,
   "metadata": {
    "collapsed": false,
    "scrolled": true
   },
   "outputs": [],
   "source": [
    "newmass =  (THETA[:, 1:] - THETA[:, :-1]).sum(0)*dz   #  change in mass      \n",
    "\n",
    "H = H[:, 1:]\n",
    "THETA = THETA[:, 1:]\n",
    "K = K[:, 1:]"
   ]
  },
  {
   "cell_type": "code",
   "execution_count": null,
   "metadata": {
    "collapsed": false,
    "scrolled": true
   },
   "outputs": [],
   "source": [
    "fluxin = ktop*((H[-1]-H[-2])/dz + 1.)*dt   # top flux (cm)\n",
    "fluxout = - kbot*((H[1] - H[0])/dz + 1. )*dt # bottom flux (cm)\n"
   ]
  },
  {
   "cell_type": "code",
   "execution_count": null,
   "metadata": {
    "collapsed": false,
    "scrolled": true
   },
   "outputs": [],
   "source": [
    "if ifixh == 1:\n",
    "    fig = plt.figure(1, figsize = (11,4)); \n",
    "    Ksati = ksat[-1]\n",
    "    plt.subplot(121)\n",
    "    plt.plot(t, 2*(fluxin - Ksati)*t**.5)\n",
    "    np.mean(2*(fluxin - Ksati)*t**.5)\n",
    "    plt.subplot(122)\n",
    "    S0i = .006\n",
    "    plt.plot(t, fluxin/dt )\n",
    "    plt.plot(t, 0.5*S0i*t**(-.5) + Ksati)"
   ]
  },
  {
   "cell_type": "code",
   "execution_count": null,
   "metadata": {
    "collapsed": false,
    "scrolled": true
   },
   "outputs": [],
   "source": [
    "fig = plt.figure(1, figsize = (10,4)); \n",
    "ax = plt.subplot(121)\n",
    "plt.subplots_adjust(wspace = .3)\n",
    "plt.xlabel('Pressure head [cm]',  fontsize = 10)\n",
    "plt.plot(hinit,z, label = 't=0'.format(t[0]), lw = 1.5)\n",
    "plt.ylabel('Depth [cm]',fontsize=  11)\n",
    "plt.xlim( np.min(H)-2,  np.max(H)+2)\n",
    "plt.title('Pressure head vs. depth', fontsize=  11)\n",
    "\n",
    "ax = plt.subplot(122)\n",
    "plt.xlabel('Soil moisture $cm^3/cm^3$',fontsize=  11)\n",
    "plt.ylabel('Depth [cm]',fontsize=  11)\n",
    "# plt.plot(thetainit,z, label = 't=0'.format(t[0]), lw = 1.5)\n",
    "plt.title('Soil moisture vs. depth',fontsize=  11)\n",
    "\n",
    "for i in np.arange(1, nt, nt/4, dtype = int)[1:]:\n",
    "    ax = plt.subplot(121)\n",
    "    plt.plot(H[:, i], z, label = '{0:.0f}'.format(t[i]), lw = 1.5)\n",
    "    plt.legend(loc = 'best', fontsize = 10)\n",
    "    ax = plt.subplot(122)\n",
    "    plt.plot(THETA[:, i], z, label = '{0:.0f}'.format(t[i]), lw = 1.5)\n",
    "    plt.legend(loc = 'best', fontsize = 10)\n",
    "title = plt.suptitle(fmtstr, fontsize = 10); title.set_y(1.01) "
   ]
  },
  {
   "cell_type": "code",
   "execution_count": null,
   "metadata": {
    "collapsed": false,
    "scrolled": true
   },
   "outputs": [],
   "source": [
    "tt = []\n",
    "depthf = []\n",
    "for line in open(\"output/depth.out\", 'r'):\n",
    "    a = (line.strip().split(\" \"))\n",
    "    a = [float(b) for b in a if b]\n",
    "#     if  len( np.where(a[0] == t)[0]):\n",
    "#       print np.where(a[0] == t)[0][0]\n",
    "    tt.append(a[0])\n",
    "    depthf.append(a[1])\n",
    "        \n",
    "print len(tt)\n",
    "tt[-1] = tmax\n",
    "from scipy import interpolate\n",
    "\n",
    "f = interpolate.interp1d(tt, depthf)\n",
    "depthf = f(t)"
   ]
  },
  {
   "cell_type": "code",
   "execution_count": null,
   "metadata": {
    "collapsed": false,
    "scrolled": true
   },
   "outputs": [],
   "source": [
    "fig = plt.figure(1, figsize = (10,3.5)); \n",
    "ax = plt.subplot(121)\n",
    "plt.subplots_adjust(wspace = .3)\n",
    "plt.plot(t, depthf*100 - depths, label = '{0:.3e}'.format(max(depthf*100 - depths)))\n",
    "plt.title('water height: fortran - python \\n', fontsize = 10)\n",
    "plt.ylabel('height (cm)',fontsize=  10)\n",
    "plt.xlabel('time',  fontsize = 10)\n",
    "plt.legend(loc = 'best', fontsize = 10)\n",
    "\n",
    "plt.subplot(122)\n",
    "plt.plot(t, depthf, label = 'python')\n",
    "plt.plot(t, depths/100. , label = 'fortran')\n",
    "plt.title('water height \\n {0}'.format(fmtstr), fontsize = 10)\n",
    "plt.legend(loc = 'best', fontsize = 10)"
   ]
  },
  {
   "cell_type": "code",
   "execution_count": null,
   "metadata": {
    "collapsed": false,
    "scrolled": true
   },
   "outputs": [],
   "source": [
    "# code to check solution\n",
    "t1 =  np.zeros([nz])\n",
    "\n",
    "for line in open(\"output/test.out\", 'r'):\n",
    "    a = (line.strip().split(\" \"))\n",
    "    a = [float(b) for b in a if b]\n",
    "    l = int(a[0])-1\n",
    "    t1[l] = a[1]"
   ]
  },
  {
   "cell_type": "code",
   "execution_count": null,
   "metadata": {
    "collapsed": false,
    "scrolled": false
   },
   "outputs": [],
   "source": [
    "fig = plt.figure(1, figsize = (10,3.5)); \n",
    "ax = plt.subplot(121)\n",
    "diff = t1 - THETA[:, -1]\n",
    "plt.plot(diff,z, label = 'max error = {0:.4e}'.format(max(diff)))  \n",
    "plt.title('Final theta: fortran - python difference \\n {0}'.format(fmtstr), fontsize = 10)\n",
    "plt.ylabel('z [cm]',fontsize=  10)\n",
    "plt.xlabel('theta ',  fontsize = 10)\n",
    "plt.legend(loc = 'best', fontsize = 10)\n",
    "\n",
    "plt.subplot(122)\n",
    "plt.plot(THETA[:, -1],z, label = 'python')\n",
    "plt.plot(t1,z , label = 'fortran')\n",
    "plt.title('Final theta  \\n {0}'.format(fmtstr), fontsize = 10)\n",
    "plt.legend(loc = 'best', fontsize = 10)"
   ]
  },
  {
   "cell_type": "markdown",
   "metadata": {},
   "source": [
    "## Print error summary"
   ]
  },
  {
   "cell_type": "code",
   "execution_count": null,
   "metadata": {
    "collapsed": false,
    "scrolled": true
   },
   "outputs": [],
   "source": [
    "print 'cumulative error = {0:.2}cm/hr'.format( np.cumsum(fluxin - newmass + fluxout)[-1]/tmax*3600)\n",
    "print 'cumulative surface flux = {0:.2}cm/hr'.format( np.cumsum(fluxin)[-1]/tmax*3600)\n",
    "print 'cumulative error relative to surface flux = {0:.5f}% '.format( \n",
    "    np.cumsum(fluxin - newmass + fluxout)[-1]/np.cumsum(fluxin )[-1]*100)"
   ]
  },
  {
   "cell_type": "code",
   "execution_count": null,
   "metadata": {
    "collapsed": false,
    "scrolled": true
   },
   "outputs": [],
   "source": [
    "#  cumulative error\n",
    "fig = plt.figure(1, figsize = (7,3.))\n",
    "plt.title('Cumulative mass error  {0}'.format(fmtstr), fontsize = 10)\n",
    "plt.plot(t, np.cumsum(fluxin - newmass + fluxout ), '-', label =  'uncorrected')\n",
    "# plt.plot(t, np.cumsum(fluxin - newmass + fluxout - error), '-', label =  'corrected')\n",
    "plt.xlabel('time (s)'); plt.ylabel('error [cm]')\n",
    "plt.legend(loc = 'best', fontsize = 10)\n",
    "# fig.savefig('case_{1}/error {0}.pdf'.format(fmtstr, case))"
   ]
  },
  {
   "cell_type": "code",
   "execution_count": null,
   "metadata": {
    "collapsed": true
   },
   "outputs": [],
   "source": [
    "plotscale = 'depth'\n",
    "if plotscale == 'rate':\n",
    "    scale = 3600./dt\n",
    "    ylabel = 'rate [cm/hr]'\n",
    "elif plotscale == 'depth':\n",
    "    scale = 1\n",
    "    ylabel = 'cm'"
   ]
  },
  {
   "cell_type": "code",
   "execution_count": null,
   "metadata": {
    "collapsed": false,
    "scrolled": true
   },
   "outputs": [],
   "source": [
    "# flux rates\n",
    "fig = plt.figure(1, figsize = (7,3.7))\n",
    "plt.title('Mass balance components ({0})'.format(fmtstr), fontsize = 11)\n",
    "plt.plot(t, fluxout*scale, label = 'flux out')\n",
    "plt.plot(t, fluxin*scale, '-', ms = 1, label = 'flux in')\n",
    "plt.plot(t, error*scale, '--',  label = 'error')\n",
    "plt.plot(t, newmass*scale, '-.', lw = 1, label = 'mass change')\n",
    "plt.legend(loc = 'best', fontsize = 10)\n",
    "plt.xlabel('time [s]') \n",
    "plt.ylabel(ylabel)\n",
    "# fig.savefig('case_{1}/flux rates {0}.pdf'.format(fmtstr, case))"
   ]
  },
  {
   "cell_type": "code",
   "execution_count": null,
   "metadata": {
    "collapsed": true
   },
   "outputs": [],
   "source": [
    "if ifixh == 1:\n",
    "    fig = plt.figure(1, figsize = (11,4)); \n",
    "    Ksati = ksat[-1]\n",
    "    plt.subplot(121)\n",
    "    plt.plot(t, 2*(fluxin - Ksati)*t**.5)\n",
    "    np.mean(2*(fluxin - Ksati)*t**.5)\n",
    "    plt.subplot(122)\n",
    "    S0i = .006\n",
    "    plt.plot(t, fluxin/dt )\n",
    "    plt.plot(t, 0.5*S0i*t**(-.5) + Ksati)"
   ]
  },
  {
   "cell_type": "code",
   "execution_count": null,
   "metadata": {
    "collapsed": true
   },
   "outputs": [],
   "source": []
  }
 ],
 "metadata": {
  "anaconda-cloud": {},
  "kernelspec": {
   "display_name": "Python [default]",
   "language": "python",
   "name": "python2"
  },
  "language_info": {
   "codemirror_mode": {
    "name": "ipython",
    "version": 2
   },
   "file_extension": ".py",
   "mimetype": "text/x-python",
   "name": "python",
   "nbconvert_exporter": "python",
   "pygments_lexer": "ipython2",
   "version": "2.7.12"
  }
 },
 "nbformat": 4,
 "nbformat_minor": 0
}
