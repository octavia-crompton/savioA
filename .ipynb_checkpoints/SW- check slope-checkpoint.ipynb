{
 "cells": [
  {
   "cell_type": "code",
   "execution_count": 1,
   "metadata": {
    "collapsed": true,
    "scrolled": true
   },
   "outputs": [],
   "source": [
    "import numpy as np\n",
    "import matplotlib.pylab as plt\n",
    "plt.style.use('ggplot')\n",
    "import time\n",
    "import scipy.io\n",
    "from scipy import interpolate\n",
    "from commands import getoutput as cmd\n",
    "import scipy.optimize\n",
    "import shutil\n",
    "\n",
    "\n",
    "\n",
    "def myfloat(b):\n",
    "    try: \n",
    "        b = float(b)\n",
    "    except ValueError:        \n",
    "        b = [b for b in b.split('-') if b]\n",
    "        b = float(b[0])*10**(-float(b[1]))\n",
    "    return b\n"
   ]
  },
  {
   "cell_type": "code",
   "execution_count": 2,
   "metadata": {
    "collapsed": true
   },
   "outputs": [],
   "source": [
    "%matplotlib inline"
   ]
  },
  {
   "cell_type": "code",
   "execution_count": 3,
   "metadata": {
    "code_folding": [
     0
    ],
    "collapsed": true
   },
   "outputs": [],
   "source": [
    "# import python packages and inline animation functions\n",
    "import matplotlib as mpl\n",
    "from matplotlib.pylab import plot, pcolor, imshow\n",
    "from matplotlib import animation\n",
    "\n",
    "def _blit_draw(self, artists, bg_cache):\n",
    "    # Handles blitted drawing, which renders only the artists given instead\n",
    "    # of the entire figure.\n",
    "    updated_ax = []\n",
    "    for a in artists:\n",
    "        # If we haven't cached the background for this axes object, do\n",
    "        # so now. This might not always be reliable, but it's an attempt\n",
    "        # to automate the process.\n",
    "        if a.axes not in bg_cache:\n",
    "            # bg_cache[a.axes] = a.figure.canvas.copy_from_bbox(a.axes.bbox)\n",
    "            # change here\n",
    "            bg_cache[a.axes] = a.figure.canvas.copy_from_bbox(a.axes.figure.bbox)\n",
    "        a.axes.draw_artist(a)\n",
    "        updated_ax.append(a.axes)\n",
    "\n",
    "    # After rendering all the needed artists, blit each axes individually.\n",
    "    for ax in set(updated_ax):\n",
    "        # and here\n",
    "        # ax.figure.canvas.blit(ax.bbox)\n",
    "        ax.figure.canvas.blit(ax.figure.bbox)\n",
    "\n",
    "# MONKEY PATCH!!\n",
    "animation.Animation._blit_draw = _blit_draw\n",
    "from tempfile import NamedTemporaryFile\n",
    "\n",
    "\n",
    "\n",
    "VIDEO_TAG = \"\"\"<video controls>\n",
    " <source src=\"data:video/x-m4v;base64,{0}\" type=\"video/mp4\">\n",
    " Your browser does not support the video tag.\n",
    "</video>\"\"\"\n",
    "\n",
    "def anim_to_html(anim):\n",
    "    if not hasattr(anim, '_encoded_video'):\n",
    "        with NamedTemporaryFile(suffix='.mp4') as f:\n",
    "            anim.save(f.name, fps=20, extra_args=['-vcodec', 'libx264'])\n",
    "            video = open(f.name, \"rb\").read()\n",
    "        anim._encoded_video = video.encode(\"base64\")\n",
    "\n",
    "    return VIDEO_TAG.format(anim._encoded_video)\n",
    "\n",
    "from IPython.display import HTML\n",
    "\n",
    "def display_animation(anim):\n",
    "    plt.close(anim._fig)\n",
    "    return HTML(anim_to_html(anim))\n"
   ]
  },
  {
   "cell_type": "markdown",
   "metadata": {},
   "source": [
    "### Functions for GW"
   ]
  },
  {
   "cell_type": "code",
   "execution_count": 4,
   "metadata": {
    "code_folding": [
     0
    ],
    "collapsed": true
   },
   "outputs": [],
   "source": [
    "# GW functions\n",
    "def findh(teq, param):\n",
    "    # param=[tp,tca,Ksat,I,Ao,Kr_flat]\n",
    "    tp=param[0]\n",
    "    tca=param[1]\n",
    "    Ksat=param[2]\n",
    "    I=param[3]\n",
    "    Ao = param[4]\n",
    "    Kr = param[5]\n",
    "    res=((I - Ksat)*(teq-tp)-Ao*(np.sqrt(teq-tp+tca)-np.sqrt(tca)))\n",
    "    return res\n",
    "\n",
    "def findt(teq,param):\n",
    "    tp=param[0]\n",
    "    tca=param[1]\n",
    "    Ksat=param[2]\n",
    "    I=param[3]\n",
    "    Ao = param[4]\n",
    "    Kr = param[5]\n",
    "    x= param[6]\n",
    "    xo = param[7]\n",
    "    dt =  (teq-tp)/100.\n",
    "    t = np.arange(tp, teq+dt/10., dt)\n",
    "    h = ((I - Ksat)*(t-tp)-Ao*(np.sqrt(t-tp+tca)-np.sqrt(tca)))\n",
    "    h[h<0]=0\n",
    "    hpower = h**(2./3)\n",
    "    hint = np.sum((hpower[:-1]+hpower[1:])/2.*(t[1:]-t[:-1]))+\\\n",
    "            hpower[0]/2.*(t[1]-t[0]) + hpower[-1]/2.*(t[-1]-t[-2])\n",
    "    res=5/3.*Kr*hint-x+xo\n",
    "    return res\n",
    "\n",
    "\n",
    "def findtinit(teq,param):\n",
    "    tpd=param[0]\n",
    "    tca=param[1]\n",
    "    Ksat=param[2]\n",
    "    I=param[3]\n",
    "    Ao = param[4]\n",
    "    Kr = param[5]\n",
    "    L = param[6]\n",
    "    tp = param[7]  \n",
    "    dt =  (tpd-teq)/100.\n",
    "    t = np.arange(teq, tpd+dt/10., dt)\n",
    "    h = ((I - Ksat)*(t-teq)-Ao*(np.sqrt(t-tp+tca)-np.sqrt(teq-tp+tca)))    \n",
    "    h[h<0]=0\n",
    "    hpower = h**(2./3)\n",
    "    hint = np.sum((hpower[:-1]+hpower[1:])/2.*(t[1:]-t[:-1]))+\\\n",
    "            hpower[0]/2.*(t[1]-t[0]) + hpower[-1]/2.*(t[-1]-t[-2])\n",
    "               \n",
    "    res=5/3.*Kr*hint-L\n",
    "    return res\n",
    "\n",
    "def findto_out(teq,param):\n",
    "    to=param[0]\n",
    "    tca=param[1]\n",
    "    Ksat=param[2]\n",
    "    I=param[3]\n",
    "    Ao = param[4]\n",
    "    Kr = param[5]\n",
    "    L= param[6]\n",
    "    tp=param[7]\n",
    "    dt = (teq-to)/100.\n",
    "    t = np.arange(to, teq+dt/10., dt )\n",
    "\n",
    "    h = (I-Ksat)*(t-to)-Ao*np.sqrt(t-tp+tca)+Ao*np.sqrt(to-tp+tca)\n",
    "    h[h<0]=0.\n",
    "    hpower = h**(2./3)\n",
    "    hint = np.sum((hpower[:-1]+hpower[1:])/2.*(t[1:]-t[:-1]))+\\\n",
    "            hpower[0]/2.*(t[1]-t[0]) + hpower[-1]/2.*(t[-1]-t[-2])\n",
    "\n",
    "    res=5./3*Kr*hint-L\n",
    "    return res\n",
    "\n",
    "def  findt_star(teq,param):\n",
    "    h_star=param[0]\n",
    "    Ksat=param[1]\n",
    "    tpd=param[2]\n",
    "    Ao=param[3]\n",
    "    tp=param[4]\n",
    "    tca=param[5]\n",
    "    res= h_star-Ksat*(teq-tpd)-Ao*(teq-tp+tca)**(1./2)+Ao*(tpd-tp+tca)**(1./2)\n",
    "    return res\n",
    "\n",
    "def findt_cross(teq,param):\n",
    "    tpd=param[0]\n",
    "    tca=param[1]\n",
    "    Ksat=param[2]\n",
    "    x_star=param[3]\n",
    "    Ao = param[4]\n",
    "    Kr = param[5]\n",
    "    L= param[6]\n",
    "    tp=param[7]\n",
    "    h_star=param[8]\n",
    "    dt = (teq-tpd)/100\n",
    "    t = np.arange(tpd,teq+dt/10., dt)\n",
    "    h = h_star-Ksat*(t-tpd)-Ao*np.sqrt(t-tp+tca)+Ao*np.sqrt(tpd-tp+tca)\n",
    "    h[h<0]=0\n",
    "    hpower = h**(2./3)\n",
    "    hint = np.sum((hpower[:-1] +hpower[1:] )/2.*(t[1:]-t[:-1]))+\\\n",
    "                  hpower[0]/2.*(t[1] - t[0])+hpower[-1]/2.*(t[-1]-t[-2])\n",
    "    res = 5./3*Kr*hint-L+x_star\n",
    "    return res"
   ]
  },
  {
   "cell_type": "code",
   "execution_count": 5,
   "metadata": {
    "code_folding": [
     0
    ],
    "collapsed": false
   },
   "outputs": [],
   "source": [
    "def Comparison_function2(I,L,Ksat,Ao,tpd,alpha):\n",
    "    #   function called as Comparison_function2(I,L,Ksat,Ao,tf,alpha) \n",
    "    #   tpd : storm duration (s), tf\n",
    "    #tpd = tr\n",
    "    g = 9.81  # m/s^2 Gravity\n",
    "    dx =  L/500.\n",
    "    x = np.arange(0, L+dx, dx)\n",
    "    m = len(x)\n",
    "    if I > Ksat:\n",
    "        tp_flat = Ao**2/(I-Ksat)**2\n",
    "    else:\n",
    "        tp_flat = tpd*10.\n",
    "\n",
    "    tca_flat = 1/Ksat**2*(- Ao/2+(Ao**2/4+ I*tp_flat*Ksat)**(1/2.))**2\n",
    "\n",
    "    if tpd>tp_flat:\n",
    "        tpd_flat = tpd-tp_flat  #   s      Storm Duration from time of ponding onwards\n",
    "        # Kr_flat = So**(1/2.)*1./n;  # Manning computation of the resistance\n",
    "        Kr_flat = alpha           # alpha is the hydraulic resistance \n",
    "\n",
    "        [tout_flat,qout_flat] = Steady_flat_w_infil2(I,g,L,tpd,tp_flat,tca_flat,Ksat,Ao,Kr_flat);\n",
    "\n",
    "    elif tpd<tp_flat:       #  Time of ponding occurs after storm ends!\n",
    "        qout_flat=np.zeros(100)\n",
    "        tout_flat = np.arange(1,101)\n",
    "    ## COMPUTE PARTITIONING\n",
    "    # Total Rainfall \n",
    "    PPT = I*tpd*L     # m^3/m\n",
    "    # Area under hydrograph\n",
    "    Q_flat= sum((qout_flat[:-1]+qout_flat[1:])/2.*(tout_flat[1:]-tout_flat[:-1]))+\\\n",
    "            (qout_flat[0]/2.*(tout_flat[1]-tout_flat[0])+ \\\n",
    "            qout_flat[-1]/2.*(tout_flat[-1]-tout_flat[-2]))\n",
    "\n",
    "    # Percent runoff\n",
    "    Perc_runoff_flat = Q_flat/PPT\n",
    "    \n",
    "    output = np.vstack((tout_flat, qout_flat)).T\n",
    "    output = output[output[:, 0].argsort()]\n",
    "    tout = output[:,0]\n",
    "    qout = output[:,1]\n",
    "\n",
    "    return [tout,qout,Perc_runoff_flat] "
   ]
  },
  {
   "cell_type": "code",
   "execution_count": 6,
   "metadata": {
    "code_folding": [
     0
    ],
    "collapsed": true
   },
   "outputs": [],
   "source": [
    "def Steady_flat_w_infil2(I,g,L,tpd,tp,tca,Ksat,Ao,Kr_flat):\n",
    "    #  Steady_flat_w_infil2(I,g,L,tpd,tp_flat,tca_flat,Ksat,Ao,Kr_flat);\n",
    "    # tp = tp_flat\n",
    "    # tca = tca_flat\n",
    "    \n",
    "    x = L\n",
    "    param=[tp,tca,Ksat,I,Ao,Kr_flat]\n",
    "\n",
    "    from scipy.optimize import fsolve\n",
    "    tmin = fsolve(findh, tp, param)[0]\n",
    "    xo = 0\n",
    "    param=[tp,tca,Ksat,I,Ao,Kr_flat,x,xo]\n",
    "\n",
    "    Teq=fsolve(findt,tmin+.1,param)  \n",
    "\n",
    "    if tpd>Teq:\n",
    "        T = np.arange(np.ceil(tp), np.round(Teq),(Teq-tp)/100.)\n",
    "        h = np.ones_like(T)\n",
    "        q = np.ones_like(T)\n",
    "        for j in range(len(T)):\n",
    "            t=T[j]\n",
    "            h[j]=((I - Ksat)*(t-tp)-Ao*(np.sqrt(t-tp+tca)-np.sqrt(tca)))\n",
    "            if h[j] < 0:\n",
    "                h[j] = 0    \n",
    "            q[j]=Kr_flat*h[j]**(5./3)\n",
    "\n",
    "        dim = max(np.round(tp)-1, 0)\n",
    "        q = np.hstack((np.zeros(np.int(dim)), q))\n",
    "        t1= np.hstack((np.arange(1,np.int(np.round(tp))), T))\n",
    "        # Domain 2:  Characteristics originating from x=0 for t>Teq\n",
    "        # Find the last time at which a characteristic originating from x=0 at\n",
    "        # t>Teq can cross the x=L line before the rainfall ends\n",
    "\n",
    "        param=[tpd,tca,Ksat,I,Ao,Kr_flat,L,tp]\n",
    "        tinit = fsolve(findtinit,tp,param)\n",
    "\n",
    "        To = np.arange( np.round(tp)+1, np.round(tinit),(tinit-tp)/100. )\n",
    "        to_out = np.ones_like(To)\n",
    "        h_out = np.ones_like(To)\n",
    "        q_out = np.ones_like(To)\n",
    "        for j in range(len(To)):\n",
    "            to=To[j]\n",
    "            # Find the value of t at which the characteristic originating at to\n",
    "            # reaches x = L\n",
    "            param=[to,tca,Ksat,I,Ao,Kr_flat,L,tp]\n",
    "            to_out[j] = fsolve(findto_out,tpd,param)\n",
    "            h_out[j] = (I-Ksat)*(to_out[j]-to)-Ao*(np.sqrt(to_out[j]-tp+tca)-np.sqrt(to-tp+tca))\n",
    "            q_out[j] = Kr_flat*h_out[j]**(5./3)\n",
    "\n",
    "        # Domain 3: Characteristics originating from x = 0 which persist into the\n",
    "        # falling limb of the hydrograph\n",
    "        dt = (tpd-tinit)/100\n",
    "        To2 = np.arange(tinit+(tpd-tinit)/100, tpd-(tpd-tinit)/100+ dt/10., dt)\n",
    "        x_star = np.ones_like(To2)\n",
    "        h_star = np.ones_like(To2)\n",
    "        t_star = np.ones_like(To2)\n",
    "        x_zw = np.ones_like(To2)\n",
    "        t_cross = np.zeros_like(To2)\n",
    "        h_cross = np.zeros_like(To2)    \n",
    "        q_cross = np.zeros_like(To2)        \n",
    "        for j in range(len(To2)):\n",
    "            to = To2[j]\n",
    "            # Find the value of x (x_star) at which the characteristic reaches t = tpd\n",
    "            dt = (tpd-to)/100.\n",
    "            t = np.arange(to, tpd + dt/10., dt)\n",
    "\n",
    "            h = (I-Ksat)*(t-to)-Ao*np.sqrt(t-tp+tca)+Ao*np.sqrt(to-tp+tca)\n",
    "            hpower = h**(2./3)\n",
    "            hint = np.sum((hpower[:-1]+hpower[1:])/2.*(t[1:]-t[:-1]))+ \\\n",
    "                    hpower[0]/2.*(t[1]-t[0]) + hpower[-1]/2.*(t[-1]-t[-2])\n",
    "            x_star[j] = 5./3*Kr_flat*hint\n",
    "            # Find the value of h (h_star) at this point, (x_star,tpd) on the\n",
    "            # characteristic originating at to\n",
    "            h_star[j] = (I-Ksat)*(tpd-to)-Ao*np.sqrt(tpd-tp+tca)+Ao*np.sqrt(to-tp+tca)\n",
    "            # Now find the value of time where h-h* = 0        \n",
    "            param = [h_star[j],Ksat,tpd,Ao,tp,tca]\n",
    "            t_star[j] = fsolve(findt_star,10*tpd,param)\n",
    "            dt = (t_star[j]-tpd)/100.\n",
    "            t2 = np.arange(tpd, t_star[j]+ dt/10., dt)\n",
    "            h2 = h_star[j]-Ksat*(t2-tpd)-Ao*np.sqrt(t2-tp+tca)+Ao*np.sqrt(tpd-tp+tca);\n",
    "            h2[-1]=0\n",
    "            hpower2 = h2**(2./3)\n",
    "            hint2 = np.sum((hpower2[:-1]+hpower2[1:])/2.*(t2[1:]-t2[:-1]))+\\\n",
    "                hpower2[0]/2.*(t2[1]-t2[0])+hpower2[-1]/2.*(t2[-1]-t2[-2])\n",
    "            x_zw[j] = 5./3*Kr_flat*hint2+x_star[j]\n",
    "            # If the characteristic crosses L, let's find the time of that crossing\n",
    "            if x_zw[j]>L:        \n",
    "                param=[tpd,tca,Ksat,x_star[j],Ao,Kr_flat,L,tp,h_star[j]]\n",
    "                t_cross[j] = fsolve(findt_cross,(tpd*1.00000001 + t_star[j])/2,param)\n",
    "\n",
    "                # Now determine the depth of the characteristic crossing L\n",
    "                h_cross[j]  = h_star[j]-Ksat*(t_cross[j]-tpd)-\\\n",
    "                            Ao*np.sqrt(t_cross[j]-tp+tca)+Ao*np.sqrt(tpd-tp+tca)\n",
    "\n",
    "                # Now determine the flow associated with this depth\n",
    "                q_cross[j] = Kr_flat*h_cross[j]**(5./3)\n",
    "        t_cross = t_cross[t_cross>0]\n",
    "        q_cross = q_cross[q_cross>0]\n",
    "        tout = np.hstack((t1, to_out,t_cross))            \n",
    "        qout = np.hstack((q, q_out,q_cross))\n",
    "        \n",
    "    elif tpd<Teq:\n",
    "        # Up to t = tpd, characteristics originating on t-tp = 0 and x = xo can\n",
    "        # cross L\n",
    "        dt = (tpd-tp)/100.\n",
    "        T = np.arange(round(tp), round(tpd)+dt/10., dt) \n",
    "        h = np.ones_like(T)\n",
    "        q = np.ones_like(T)\n",
    "        for j in range(len(T)):\n",
    "            t=T[j]\n",
    "            h[j]=((I - Ksat)*(t-tp)-Ao*(np.sqrt(t-tp+tca)-np.sqrt(tca)))\n",
    "            if (h[j])<0:\n",
    "                h[j]=0.\n",
    "            q[j]=Kr_flat*h[j]**(5./3)\n",
    "        q = np.hstack((np.zeros(int(np.round(tp)-1)), q))\n",
    "        t1 = np.hstack(( np.arange(1,np.round(tp)), T))\n",
    "\n",
    "        # Find xo for the last catchment that can cross x=L at time < tpd\n",
    "        dt = (tpd-tp)/100.\n",
    "        t = np.arange(tp, tpd+dt/10., dt)\n",
    "        h = ((I - Ksat)*(t-tp)-Ao*(np.sqrt(t-tp+tca)-np.sqrt(tca)))\n",
    "        h[h<0]=0\n",
    "        hpower = h**(2./3)\n",
    "        hint = np.sum((hpower[:-1] + hpower[1:])/2.*(t[1:] - t[:-1]))+\\\n",
    "                hpower[0]/2.*(t[1]-t[0])+hpower[-1]/2.*(t[-1]-t[-2])\n",
    "        xo = L - 5./3*Kr_flat*hint\n",
    "        # for xo located between o and xo, characteristics evolve to a point at\n",
    "        # time tpd, and then decay.\n",
    "        XO = np.arange(0, xo + xo/1000., xo/100.)  \n",
    "        x_star = np.zeros_like(XO[:-1])\n",
    "        h_star = np.zeros_like(XO[:-1])\n",
    "        t_star = np.zeros_like(XO[:-1])\n",
    "        x_zw = np.zeros_like(XO[:-1])\n",
    "        t_cross = np.zeros_like(XO[:-1])\n",
    "        h_cross = np.zeros_like(XO[:-1])\n",
    "        q_cross = np.zeros_like(XO[:-1])\n",
    "        for j in range(len(XO)-1):\n",
    "            xo = XO[j]\n",
    "            dt = (tpd-tp)/100.\n",
    "            t = np.arange(tp, tpd + dt/10., dt)\n",
    "\n",
    "            h = (I-Ksat)*(t-tp)-Ao*np.sqrt(t-tp+tca)+Ao*np.sqrt(tca)\n",
    "            h[h<0] = 0.\n",
    "            hpower = h**(2./3)\n",
    "            hint = np.sum((hpower[:-1]+hpower[1:])/2.*(t[1:]-t[:-1]))+\\\n",
    "                     + hpower[0]/2.*(t[1]-t[0]) + hpower[-1]/2.*(t[-1]-t[-2])\n",
    "            x_star[j] = xo + 5./3*Kr_flat*hint\n",
    "\n",
    "            # So at tpd, the characteristic is at xstar.\n",
    "            # Find the value of h (h_star) at this point, (x_star,tpd) on the\n",
    "            # characteristic originating at to\n",
    "            h_star[j] = (I-Ksat)*(tpd-tp)-Ao*np.sqrt(tpd-tp+tca)+Ao*np.sqrt(tca)\n",
    "\n",
    "            if h_star[j]>0:\n",
    "                # Now find the value of time where h-h* = 0\n",
    "                param=[h_star[j],Ksat,tpd,Ao,tp,tca]\n",
    "                t_star[j] = fsolve(findt_star,0.95*tpd,param)\n",
    "                dt = (t_star[j]-tpd)/100.\n",
    "                t2 = np.arange(tpd, t_star[j]+dt/10., dt)\n",
    "                h2 = h_star[j]-Ksat*(t2-tpd)-Ao*np.sqrt(t2-tp+tca)+\\\n",
    "                        Ao*np.sqrt(tpd-tp+tca)\n",
    "                h2[-1]=0\n",
    "                hpower2 = h2**(2./3)\n",
    "                hint2 = sum((hpower2[:-1]+hpower2[1:])/2.*(t2[1:]-t2[:-1]))+\\\n",
    "                        hpower2[0]/2.*(t2[1]-t2[0])+hpower2[-1]/2.*(t2[-1]-t2[-2])\n",
    "                x_zw[j] = 5./3*Kr_flat*hint2+x_star[j]   \n",
    "\n",
    "                # If the characteristic crosses L, let's find the time of that crossing\n",
    "                if x_zw[j] > L*1.01: \n",
    "                    param=[tpd,tca,Ksat,x_star[j],Ao,Kr_flat,L,tp,h_star[j]]\n",
    "                    t_cross[j] = fsolve(findt_cross,tpd*1.00000000001,param)\n",
    "\n",
    "                    # Now determine the depth of the characteristic crossing L\n",
    "                    h_cross[j] = h_star[j]-Ksat*(t_cross[j]-tpd)-Ao*\\\n",
    "                                np.sqrt(t_cross[j]-tp+tca)+Ao*np.sqrt(tpd-tp+tca)\n",
    "\n",
    "                    # Now determine the flow associated with this depth\n",
    "                    q_cross[j] = Kr_flat*h_cross[j]**(5./3)\n",
    "                else: \n",
    "                    h_cross[j]=0\n",
    "                    q_cross[j]=0\n",
    "                    x_zw[j]=0\n",
    "\n",
    "\n",
    "        if len(np.where(x_zw>L*1.01)[0])>=1:\n",
    "            tout = np.hstack((t1, t_cross))\n",
    "            qout = np.hstack((q, q_cross))\n",
    "        else:\n",
    "            tout=t1 \n",
    "            qout=q\n",
    "    return tout,qout\n",
    "                "
   ]
  },
  {
   "cell_type": "markdown",
   "metadata": {},
   "source": [
    "### Functions to write the input files for dry.f"
   ]
  },
  {
   "cell_type": "code",
   "execution_count": 7,
   "metadata": {
    "code_folding": [
     0
    ],
    "collapsed": false
   },
   "outputs": [],
   "source": [
    "def write_prate(folder = 'test', tmax = 100, dt_sw = 1., rain = 0.036/3600.):\n",
    "    t = np.arange(0., tmax + dt_sw, dt_sw)\n",
    "    nt_sw = t.shape[0]-1\n",
    "    prate = np.ones_like(t)*rain\n",
    "    prate[np.where(t>=tr)[0][0]:] = 0\n",
    "\n",
    "    f = open('{0}/prate.dat'.format(folder), 'w')\n",
    "\n",
    "    f.write('{0:<13} \\n'.format(nt_sw))\n",
    "    for n in range( nt_sw +1):\n",
    "        f.write('{0} {1} \\n'.format(t[n], prate[n])) \n",
    "\n",
    "    f.close()\n",
    "    return nt_sw\n",
    "\n",
    "# nt_sw = write_prate(folder = folder, tmax = tmax, dt_sw = dt_sw, rain = rain)"
   ]
  },
  {
   "cell_type": "code",
   "execution_count": 8,
   "metadata": {
    "code_folding": [],
    "collapsed": false,
    "scrolled": true
   },
   "outputs": [],
   "source": [
    "def write_coords(folder = 'test', ncol = 2, nrow = 2, dx = 1, \n",
    "                 slope = 0., xni = 0.03, xnv = 0.03 ):        \n",
    "    npt = (ncol+1)*(nrow+1)  # number of points\n",
    "    ne = nrow*ncol  # number of edges\n",
    "    nbcell = 2*ncol + 2*nrow - 4  # number of boundary cells\n",
    "\n",
    "    xdum = np.arange(0, (ncol+1)*dx - 1e-10, dx )\n",
    "    ydum = np.arange(0, (nrow+1)*dx - 1e-10, dx )\n",
    "    ydum, xdum = np.meshgrid(ydum, xdum)\n",
    "\n",
    "    zmax = slope*(np.max(ydum) - np.min(ydum))\n",
    "    zdum = np.linspace(0, zmax, nrow+1)\n",
    "    zdum = np.tile(zdum, [ncol+1]).reshape([ncol+1, nrow+1])\n",
    "    \n",
    "    xndum = np.ones_like(zdum)*xni    \n",
    "    xndum[:, :nrow/2]  = xnv\n",
    "    isveg_dum = np.zeros_like(zdum)\n",
    "    \n",
    "    x = np.zeros(npt + 1)\n",
    "    y = np.zeros(npt + 1)\n",
    "    z = np.zeros(npt + 1)\n",
    "    xn = np.zeros(npt + 1)\n",
    "    isveg = np.zeros(npt + 1)\n",
    "\n",
    "    x[1:] = xdum.ravel()\n",
    "    y[1:] = ydum.ravel()\n",
    "    z[1:] = zdum.ravel()\n",
    "    xn[1:] = xndum.ravel()\n",
    "    isveg[1:] = isveg_dum.ravel()\n",
    "\n",
    "    # print (np.max(zdum) - np.min(zdum))/(np.max(ydum) - np.min(ydum))*100\n",
    "    # (ncol+1) by (nrow+1)  -  node numbers\n",
    "    nodes = np.arange(1, npt+1, dtype = int).reshape([ncol+1, nrow+1])\n",
    "\n",
    "    nop = np.zeros([ncol+1, nrow+1, 4], dtype = int)\n",
    "    for j in range(ncol):\n",
    "        for k in range(nrow):\n",
    "            nop[j+1, k+1] =  nodes[j,k], nodes[j+1, k], nodes[j+1,k+1], nodes[j,k+1]\n",
    "           \n",
    "\n",
    "    fname = '{0}/coords.dat'.format(folder)\n",
    "    f = open(fname, 'w')\n",
    "    f.write('{0:<13}   {1:<13}\\n'.format(npt, ne))\n",
    "\n",
    "    # write x, y, z\n",
    "    for n in range(1, npt+1):\n",
    "        f.write('{0:<13.6f} {1:<13.6f} {2:<13.6f} {3:<13.6e} {4:<13.6e}  \\n'.format(\n",
    "                    x[n],y[n],z[n],xn[n],isveg[n])) \n",
    "\n",
    "    # write node numbers  \n",
    "    for j in range(1, ncol+1):\n",
    "        for k in range(1, nrow+1):\n",
    "            n1 = nop[j, k, 0] \n",
    "            n2 = nop[j, k, 1]       \n",
    "            n3 = nop[j, k, 2]        \n",
    "            n4 = nop[j, k, 3] \n",
    "            f.write('{0:<10} {1:<10}  {2:<10} {3:<10}\\n'.format(n1, n2, n3, n4)) \n",
    "    f.close()  \n",
    "\n",
    "    # get cell center values:\n",
    "    xcc  = np.zeros([ncol+2, nrow+2])    \n",
    "    ycc  = np.zeros([ncol+2, nrow+2])\n",
    "    zcc  = np.zeros([ncol+2, nrow+2])\n",
    "    xncc  = np.zeros([ncol+2, nrow+2])\n",
    "\n",
    "    for j in range(1, ncol+1):\n",
    "        for k in range(1, nrow+1):\n",
    "            n1 = nop[j, k, 0] \n",
    "            n2 = nop[j, k, 1]       \n",
    "            n3 = nop[j, k, 2]        \n",
    "            n4 = nop[j, k, 3]  \n",
    "            xcc[j,k] = 0.25*(x[n1] + x[n2] + x[n3] + x[n4])  \n",
    "            ycc[j,k] = 0.25*(y[n1] + y[n2] + y[n3] + y[n4])\n",
    "            zcc[j,k] = 0.25*(z[n1] + z[n2] + z[n3] + z[n4])   \n",
    "            xncc[j,k] = 0.25*(xn[n1] + xn[n2] + xn[n3] + xn[n4])   \n",
    "                \n",
    "    return xcc[1:-1, 1:-1], ycc[1:-1, 1:-1], zcc[1:-1, 1:-1], xncc[1:-1, 1:-1]\n",
    "\n",
    "# write_coords(folder = folder,ncol = ncol, nrow = nrow, dx = dx, slope = slope, xni = xni)"
   ]
  },
  {
   "cell_type": "code",
   "execution_count": 9,
   "metadata": {
    "code_folding": [],
    "collapsed": false,
    "scrolled": true
   },
   "outputs": [],
   "source": [
    "def write_param(folder = 'test',  dt= 1, \n",
    "                 tmax = 100,  nprt = 1, epsh = 0.0025,\n",
    "                 iscale= 1, ifixh = 0, stop_tol = 1e-5, depth = 0.,\n",
    "                beta = 1.0):\n",
    "    \n",
    "    fname = '{0}/params.dat'.format(folder)    \n",
    "    f = open(fname, 'w')\n",
    "    f.write('gravity     dt        tmax    \\n')\n",
    "    f.write('9.806d0     {0}       {1}     \\n'.format(dt, tmax))\n",
    "    f.write(' epsh      beta     \\n')  \n",
    "    f.write('{0}        {1}     \\n'.format(epsh, beta))\n",
    "    f.write('xk          nprt      \\n')\n",
    "    f.write('3.9217d-4   {1}       \\n'.format(tr, int(nprt)))   \n",
    "    f.write(' iscouple    ifixh \\n')\n",
    "    f.write(' {0}        {1} \\n'.format( iscouple, ifixh))   \n",
    "    f.write(' iscale   \\n')\n",
    "    f.write(' {0}       \\n'.format( iscale))  \n",
    "    f.write(' stop_tol   \\n')\n",
    "    f.write(' {0}       \\n'.format( stop_tol))      \n",
    "    f.write('h0      u0    v0   \\n ')\n",
    "    f.write('{0}    0.0    0.0  \\n '.format(depth))\n",
    "    f.close()\n"
   ]
  },
  {
   "cell_type": "code",
   "execution_count": 10,
   "metadata": {
    "code_folding": [
     0
    ],
    "collapsed": true,
    "scrolled": true
   },
   "outputs": [],
   "source": [
    "def write_dryin(folder = 'test', ncol = 2, nrow = 2):\n",
    "    inum = np.zeros([ncol+1, nrow+1], dtype = int)\n",
    "    inum[1:, 1] = 1\n",
    "    inum[1:, -1]= 1\n",
    "    inum[1, 1:] = 1\n",
    "    inum[-1, 1:] = 1\n",
    "    inum[1, 1] = 2\n",
    "    inum[1, -1] = 2\n",
    "    inum[-1, -1] = 2\n",
    "    inum[-1, 1] = 2\n",
    "    \n",
    "    ipos = np.zeros( [ncol+1, nrow+1, 2], dtype = int)\n",
    "    # bottom boundary\n",
    "    ipos[2:-1, 1,0] = 1\n",
    "    ipos[1, 1,1] = 1\n",
    "    ipos[-1, 1,1] = 1\n",
    "\n",
    "    # right boundary\n",
    "    ipos[-1, 1:-1, 0] = 2\n",
    "    ipos[-1, -1,1] = 2\n",
    "\n",
    "    # left boundary\n",
    "    ipos[1, 1:, 0] = 4\n",
    "\n",
    "    # top boundary\n",
    "    ipos[2:, -1,0] = 3\n",
    "    ipos[1, -1,1] = 3\n",
    "    \n",
    "    itype = np.zeros([ncol+1, nrow+1, 2], dtype = int)\n",
    "    # bottom boundary\n",
    "    itype[2:-1, 1,0] = 0\n",
    "    itype[1, 1,1] = 0\n",
    "    itype[-1, 1,1] = 0\n",
    "\n",
    "    # right boundary\n",
    "    itype[-1, 1:-1, 0] = 1\n",
    "    itype[-1, -1,1] = 1\n",
    "\n",
    "    # left boundary\n",
    "    itype[1, 1:,0] = 1\n",
    "\n",
    "    # top boundary\n",
    "    itype[2:, -1,0] = 1\n",
    "    itype[1, -1,1] = 1\n",
    "    \n",
    "    npt = (ncol+1)*(nrow+1)  # number of points\n",
    "    ne = nrow*ncol  # number of edges\n",
    "    nbcell = 2*ncol + 2*nrow - 4  # number of boundary cells\n",
    "    \n",
    "    fname = '{0}/boundary.dat'.format(folder)    \n",
    "    f = open(fname, 'w')\n",
    "    f.write('number of boundary cell \\n') \n",
    "    f.write('  {0} \\n'.format(nbcell))\n",
    "    f.write(' j    k          inum    itype             ipos \\n')\n",
    "    # f.write(' j \\t k \\tinum    itype \\t\\t ipos')\n",
    "    j = 1\n",
    "    for k in range(1, nrow+1):\n",
    "        if inum[j, k] == 2:\n",
    "            f.write( '{0:<5} {1:<13} {2:<7} {3:<8} {4:<9} {5:<8} {6:<6} \\n'.format(\n",
    "                        j, k, inum[j, k], itype[j, k, 0], itype[j, k, 1], \n",
    "                         ipos[j, k, 0], ipos[j, k, 1]))\n",
    "        else:\n",
    "            f.write( '{0:<5} {1:<13} {2:<7} {3:<18} {4:<10}   \\n'.format(\n",
    "                         j, k, inum[j, k],  itype[j, k, 0],  ipos[j, k, 0], ))\n",
    "\n",
    "    for j in range(2, ncol+1):\n",
    "        if inum[j, k] == 2:\n",
    "            f.write( '{0:<5} {1:<13} {2:<7} {3:<8} {4:<9} {5:<8} {6:<6} \\n'.format(\n",
    "                        j, k, inum[j, k], itype[j, k, 0], itype[j, k, 1], \n",
    "                         ipos[j, k, 0], ipos[j, k, 1]))\n",
    "        else:\n",
    "            f.write( '{0:<5} {1:<13} {2:<7} {3:<18} {4:<10}   \\n'.format(\n",
    "                         j, k, inum[j, k],  itype[j, k, 0],  ipos[j, k, 0], ))\n",
    "\n",
    "    for k in range(nrow-1,0,-1):\n",
    "        if inum[j, k] == 2:\n",
    "            f.write( '{0:<5} {1:<13} {2:<7} {3:<8} {4:<9} {5:<8} {6:<6} \\n'.format(\n",
    "                        j, k, inum[j, k], itype[j, k, 0], itype[j, k, 1], \n",
    "                         ipos[j, k, 0], ipos[j, k, 1]))\n",
    "        else:\n",
    "            f.write( '{0:<5} {1:<13} {2:<7} {3:<18} {4:<10}   \\n'.format(\n",
    "                         j, k, inum[j, k],  itype[j, k, 0],  ipos[j, k, 0], ))\n",
    "            \n",
    "    for j in range(ncol-1,1,-1):\n",
    "        if inum[j, k] == 2:\n",
    "            f.write( '{0:<5} {1:<13} {2:<7} {3:<8} {4:<9} {5:<8} {6:<6} \\n'.format(\n",
    "                        j, k, inum[j, k], itype[j, k, 0], itype[j, k, 1], \n",
    "                         ipos[j, k, 0], ipos[j, k, 1]))\n",
    "        else:\n",
    "            f.write( '{0:<5} {1:<13} {2:<7} {3:<18} {4:<10}   \\n'.format(\n",
    "                         j, k, inum[j, k],  itype[j, k, 0],  ipos[j, k, 0], ))\n",
    "\n",
    "    kbeg = np.ones(ncol+1, dtype = int)\n",
    "    kend = np.ones(ncol+1, dtype = int)*nrow\n",
    "   \n",
    "    f.write('ncol\\n')\n",
    "    f.write(\"{0}\\n\".format(ncol))\n",
    "    f.write('nrow\\n')\n",
    "    f.write(\"{0}\\n\".format(nrow))    \n",
    "    f.write('j     kbeg          kend \\n')\n",
    "    for j in range(1, ncol+1):\n",
    "        f.write( '{0:>5}  {1:>5} {2:>13}   \\n'.format(\n",
    "                    j, kbeg[j],kend[k] ))\n",
    "\n",
    "    f.close()\n",
    "    return inum, ipos, itype"
   ]
  },
  {
   "cell_type": "markdown",
   "metadata": {},
   "source": [
    "### Function to create phi and write it to a file:"
   ]
  },
  {
   "cell_type": "code",
   "execution_count": 11,
   "metadata": {
    "code_folding": [
     0
    ],
    "collapsed": false
   },
   "outputs": [],
   "source": [
    "def write_phi(folder = 'test', dz = 0.2, zmin = 0, zmax = 20, z = 0, zs = 4,\n",
    "             infL = 2):\n",
    "        # Define van Genuchten parameters\n",
    "        # veg areas / below the seal layer\n",
    "        vegAlpha   = 0.0096  \n",
    "        vegTheta_S = 0.472  \n",
    "        vegTheta_R = 0.0378  \n",
    "        vegLambdA  = 0.318 \n",
    "        vegn       = vegLambdA + 1\n",
    "        vegm       = vegLambdA/vegn\n",
    "        vegKsat    = 3.38/3600. \n",
    "\n",
    "        # Seal layer\n",
    "        sealAlpha   = 0.0078  \n",
    "        sealTheta_S = 0.450  \n",
    "        sealTheta_R = 0.0394  \n",
    "        sealLambdA  = 0.263  \n",
    "        sealn       = sealLambdA + 1\n",
    "        sealm       = sealLambdA/sealn\n",
    "        sealKsat    = 0.19/3600. \n",
    "    \n",
    "        si = np.where(z == z[-1] - zs)[0][0]  \n",
    "        nz = z.shape[0]\n",
    "        alpha = np.ones(nz)*vegAlpha\n",
    "        theta_S = np.ones(nz)*vegTheta_S\n",
    "        theta_R = np.ones(nz)*vegTheta_R\n",
    "        lambdA = np.ones(nz)*vegLambdA\n",
    "        ksat = np.ones(nz)*vegKsat\n",
    "\n",
    "        alpha[si:] = sealAlpha\n",
    "        theta_S[si:] = sealTheta_S\n",
    "        theta_R[si:] = sealTheta_R\n",
    "        lambdA[si:] = sealLambdA\n",
    "        ksat[si:] = sealKsat\n",
    "\n",
    "        n = lambdA + 1\n",
    "        m = lambdA/n\n",
    "        \n",
    "        phi = {'alpha': alpha,\n",
    "               'theta_R': theta_R,\n",
    "               'theta_S': theta_S,\n",
    "               'theta_S': theta_S,\n",
    "               'lambdA': lambdA,\n",
    "               'n': n, \n",
    "               'm': m, \n",
    "               'ksat': ksat,\n",
    "              }\n",
    "        \n",
    "        f = open('{0}/vanG.dat'.format(folder), 'w')\n",
    "        f.write('infL \\n')  \n",
    "        f.write('{0:<13}  \\n'.format(infL))\n",
    "        f.write('dz zmax \\n')  \n",
    "        f.write('{0:<13} {1:<13}  \\n'.format(dz, zmax))\n",
    "        f.write('nz \\n')  \n",
    "        f.write('{0:<13}  \\n'.format(nz))\n",
    "        for n in range(nz):\n",
    "            f.write('{0} {1} {2} {3} {4} {5} \\n'.format(alpha[n],theta_S[n], \n",
    "                                        theta_R[n],lambdA[n],ksat[n],hinit[n])) \n",
    "        f.close()\n",
    "        \n",
    "        return phi"
   ]
  },
  {
   "cell_type": "markdown",
   "metadata": {},
   "source": [
    "### Function to avoid allocating to much space "
   ]
  },
  {
   "cell_type": "code",
   "execution_count": 12,
   "metadata": {
    "code_folding": [
     0
    ],
    "collapsed": false
   },
   "outputs": [],
   "source": [
    "def write_inc(folder= 'test', nt = 100, nz = 101, ncol = 2, nrow = 2):\n",
    "    #  Avoid allocating to much space \n",
    "\n",
    "    with open('dry0.inc', 'r') as input_file, open('{0}/dry.inc'.format(folder), 'w') as output_file:\n",
    "        for line in input_file:\n",
    "            if line[6:15] == 'parameter':\n",
    "                # print 'old line:', line\n",
    "                a = (line.strip().split(\" \")[2].split(\",\"))\n",
    "                nn0 = int(a[0].split('=')[-1])\n",
    "                nt0 = int(a[1].split('=')[-1])\n",
    "                nx0 = int(a[2].split('=')[-1])\n",
    "                ny0 = int(a[3].split('=')[-1])\n",
    "                nz0 = int(a[4].split('=')[-1])\n",
    "\n",
    "                newline = '      parameter ( nn={0},ntp={1},nx={2},ny={3},nz={4} )'.format(\n",
    "                     (ncol+1)*(nrow+1)+1, nt+1, ncol+2, nrow+2, nz)\n",
    "\n",
    "                #newline = '      parameter ( nn={0},ntp={1},nx={2},ny={3},nz={4} )'.format(\n",
    "                #     nn0, nt0, nx0, ny0, nz)\n",
    "\n",
    "                #print 'new line:', newline\n",
    "                output_file.write(newline)\n",
    "            else:\n",
    "                output_file.write(line)\n"
   ]
  },
  {
   "cell_type": "markdown",
   "metadata": {},
   "source": [
    "###  Richards functions"
   ]
  },
  {
   "cell_type": "code",
   "execution_count": 13,
   "metadata": {
    "code_folding": [
     0
    ],
    "collapsed": true
   },
   "outputs": [],
   "source": [
    "def vanGenuchten(h,phi) :\n",
    "    alpha   = phi['alpha']\n",
    "    theta_S = phi['theta_S']\n",
    "    theta_R = phi['theta_R']\n",
    "    n       = phi['n']\n",
    "    m       = phi['m']\n",
    "    Ksat    = phi['ksat'] \n",
    "    # Compute the volumetric moisture content\n",
    "    theta = (theta_S - theta_R)/(1 + (alpha*abs(h))**n)**m + theta_R\n",
    "    # Compute the effective saturation\n",
    "    Se = ((theta - theta_R)/(theta_S - theta_R))\n",
    "    # Compute the hydraulic conductivity\n",
    "    K = Ksat*Se**(1./2)*(1 - (1 - Se**(1./m))**m)**2\n",
    "    # Compute the specific moisture storage\n",
    "    C =  -alpha*n*np.sign(h)*(1./n - 1)*(alpha*abs(h))**(n - 1)*(theta_R - \n",
    "         theta_S)*((alpha*abs(h))**n + 1)**(1/n - 2)\n",
    "    try:\n",
    "        for i in range(len(h)):\n",
    "            if h[i] > 0:\n",
    "                K[i] = Ksat[i]\n",
    "                C[i] = 0.\n",
    "                theta[i] = theta_S[i]\n",
    "    except TypeError:\n",
    "        if h > 0:\n",
    "            K = Ksat[i]\n",
    "            C = 0.\n",
    "            theta = theta_S[i]\n",
    "    return [C,K,theta]"
   ]
  },
  {
   "cell_type": "code",
   "execution_count": 14,
   "metadata": {
    "code_folding": [
     0
    ],
    "collapsed": false,
    "scrolled": true
   },
   "outputs": [],
   "source": [
    "def Richards_matrices(nz, infL = 2):\n",
    "    # Define matrices that we'll need in solution\n",
    "    DeltaPlus  = np.diag(-np.ones(nz)) + np.diag(np.ones(nz-1), 1)\n",
    "    DeltaPlus[0,:] = 0\n",
    "    DeltaPlus[nz-1,:] = 0\n",
    "\n",
    "    DeltaMinus = np.diag(np.ones(nz)) + np.diag(-np.ones(nz-1),-1);\n",
    "    DeltaMinus[0,:] = 0\n",
    "    DeltaMinus[nz-1,:] = 0\n",
    "\n",
    "    MPlus = np.diag(np.ones(nz))+np.diag(np.ones(nz-1),1)\n",
    "    MPlus[0,0] = 2\n",
    "    MPlus[0,1:nz-1] = 0\n",
    "    MPlus[nz-1,nz-1] = 2\n",
    "    MPlus[nz-1,:nz-1] = 0\n",
    "\n",
    "    MMinus = np.diag(np.ones(nz)) + np.diag(np.ones(nz-1),-1)\n",
    "    MMinus[0,0] = 2\n",
    "    MMinus[0,1:nz-1] = 0 \n",
    "    MMinus[nz-1,nz-1] = 2\n",
    "    MMinus[nz-1,:nz-1] = 0 \n",
    "\n",
    "    if infL == 2:\n",
    "        MPlus[-2, -2] = 2\n",
    "        MPlus[-2, -1] = 0\n",
    "        \n",
    "    return DeltaPlus, DeltaMinus, MPlus, MMinus"
   ]
  },
  {
   "cell_type": "code",
   "execution_count": 15,
   "metadata": {
    "code_folding": [
     0
    ],
    "collapsed": false
   },
   "outputs": [],
   "source": [
    " def pot_infl(hnp1m, thetan, htop = 0, infL = 2, stop_tol = 1e-5, inv = 0):\n",
    "    \n",
    "    stop_flag = 0\n",
    "    niter = 0\n",
    "\n",
    "    while(stop_flag == 0):\n",
    "        [cnp1m,knp1m,thetanp1m] = vanGenuchten(hnp1m,phi)\n",
    "        Cdiag = np.diag(cnp1m) \n",
    "        kbarplus = (1/2.)*MPlus.dot(knp1m)\n",
    "        Kbarplus = np.diag(kbarplus)\n",
    "        kbarminus = (1/2.)*MMinus.dot(knp1m)\n",
    "        Kbarminus = np.diag(kbarminus)\n",
    "        A = (1./dt)*Cdiag - 1./((dz)**2)*(Kbarplus.dot(DeltaPlus) - \n",
    "                                          Kbarminus.dot(DeltaMinus)) \n",
    "        #  Compute the residual of MPFD (RHS)\n",
    "        R_MPFD = (1./(dz**2))*(Kbarplus.dot(DeltaPlus).dot(hnp1m) - \\\n",
    "                               Kbarminus.dot(DeltaMinus).dot(hnp1m)) + \\\n",
    "             (1./dz)*(kbarplus - kbarminus) - (1./dt)*(thetanp1m - thetan); \n",
    "        # Compute deltam for iteration level m+1\n",
    "\n",
    "        if inv == 0:\n",
    "            Ainv = np.linalg.pinv(A)\n",
    "        \n",
    "        elif inv == 1:\n",
    "            Ainv = np.linalg.inv(A)\n",
    "            \n",
    "        deltam = Ainv.dot(R_MPFD)\n",
    "\n",
    "        # Increment iteration counter and display number of iterations\n",
    "        niter = niter + 1;\n",
    "        if niter > 100.:\n",
    "            stop_tol = stop_tol*10.\n",
    "            niter = 0 \n",
    "        if (max(abs(deltam[1:(nz-1)]))<stop_tol):\n",
    "\n",
    "            stop_flag = 1\n",
    "            hnp1mp1 = hnp1m + deltam \n",
    "            hnp1mp1[0] = hnp1mp1[1]  # free drainage BC\n",
    "            hnp1mp1[-1] = htop\n",
    "            [cnp1m,knp1m,thetanp1m] = vanGenuchten(hnp1mp1,phi);\n",
    "            knp1mp1 = knp1m\n",
    "            cnp1mp1 = cnp1m            \n",
    "            hnp1m = hnp1mp1\n",
    "            kt = (knp1mp1[-infL] + knp1mp1[-2])/2.\n",
    "            PI = kt*((hnp1mp1[-1] - hnp1mp1[-2])/dz + 1.)\n",
    "        else:\n",
    "            hnp1mp1 = hnp1m + deltam\n",
    "            hnp1m = hnp1mp1\n",
    "            hnp1m[0] = hnp1m[1] \n",
    "            hnp1m[-1] = htop\n",
    "    return PI"
   ]
  },
  {
   "cell_type": "code",
   "execution_count": 16,
   "metadata": {
    "code_folding": [
     0
    ],
    "collapsed": false
   },
   "outputs": [],
   "source": [
    "def timestep(hnp1m, thetan, setflux = 1, flux = 0, htop = 0., infL = 2,\n",
    "              stop_tol = 1e-5, inv = 0):\n",
    "    \"\"\"\"\"\"\n",
    "    stop_flag = 0\n",
    "    niter = 0\n",
    "    while(stop_flag == 0):\n",
    "        [cnp1m,knp1m,thetanp1m] = vanGenuchten(hnp1m,phi)\n",
    "        Cdiag = np.diag(cnp1m) \n",
    "        kbarplus = (1/2.)*MPlus.dot(knp1m)\n",
    "        Kbarplus = np.diag(kbarplus)\n",
    "        kbarminus = (1/2.)*MMinus.dot(knp1m)\n",
    "        Kbarminus = np.diag(kbarminus)\n",
    "        A = (1./dt)*Cdiag - 1./((dz)**2)*(Kbarplus.dot(DeltaPlus) - \n",
    "                                          Kbarminus.dot(DeltaMinus)) \n",
    "        R_MPFD = (1./(dz**2))*(Kbarplus.dot(DeltaPlus).dot(hnp1m) - \\\n",
    "                               Kbarminus.dot(DeltaMinus).dot(hnp1m)) + \\\n",
    "                 (1./dz)*(kbarplus - kbarminus) - (1./dt)*(thetanp1m - thetan) \n",
    "\n",
    "        if inv == 0:\n",
    "            Ainv = np.linalg.pinv(A)\n",
    "            \n",
    "        elif inv == 1:\n",
    "            Ainv = np.linalg.inv(A)\n",
    "            \n",
    "            \n",
    "        deltam = Ainv.dot(R_MPFD)\n",
    "        niter = niter + 1\n",
    "        if niter > 100.:\n",
    "            stop_tol = stop_tol*10.\n",
    "            niter = 0        \n",
    "            # print 'niter > 100, stop_tol increased to ', stop_tol\n",
    "        if (max(abs(deltam[1:-1]))<stop_tol):\n",
    "            stop_flag = 1\n",
    "            hnp1mp1 = hnp1m + deltam \n",
    "            hnp1mp1[0] = hnp1mp1[1]  # free drainage BC\n",
    "            if setflux == 1:                \n",
    "                kt = (knp1m[-infL] + knp1m[-2])/2.\n",
    "                hnp1mp1[-1] =  hnp1mp1[-2] - dz - flux*dz/kt\n",
    "            else:\n",
    "                hnp1mp1[-1] = htop\n",
    "    \n",
    "            [cnp1m, knp1m,thetanp1m] = vanGenuchten(hnp1mp1,phi);\n",
    "            knp1mp1 = knp1m\n",
    "            cnp1mp1 = cnp1m  \n",
    "            hnp1m = hnp1mp1\n",
    " \n",
    "        else:      \n",
    "            hnp1mp1 = hnp1m + deltam\n",
    "            hnp1m = hnp1mp1\n",
    "            hnp1m[0] = hnp1m[1] \n",
    "            if setflux == 1:            \n",
    "                kt = (knp1m[-infL] + knp1m[-2])/2.\n",
    "                hnp1m[-1] = hnp1m[-2] - dz - flux*dz/kt\n",
    "            else:\n",
    "                hnp1m[-1] = htop\n",
    "                     \n",
    "    errornp1 =  np.sum((A.dot(deltam)))*dt*dz\n",
    "    return hnp1mp1,cnp1mp1,knp1mp1, thetanp1m, errornp1, niter, stop_tol"
   ]
  },
  {
   "cell_type": "code",
   "execution_count": 17,
   "metadata": {
    "code_folding": [
     0
    ],
    "collapsed": false,
    "scrolled": false
   },
   "outputs": [],
   "source": [
    "def Richards(hinit, phi, nz = 101, nt= 100, depth = 0, infL = 2,\n",
    "             stop_tol = 1e-5, htop = 0, ifixh = 0):\n",
    "\n",
    "    # Define a storage container to store the pressure heads and soil moistures\n",
    "    [Cinit,Kinit,thetainit] = vanGenuchten(hinit,phi) \n",
    "    H = np.zeros([nz,nt+1])\n",
    "    H[:,0] = hinit\n",
    "    THETA = np.zeros([nz,nt+1])\n",
    "    THETA[:,0] = thetainit\n",
    "    K = np.zeros([nz,nt+1])\n",
    "    K[:,0] = Kinit\n",
    "\n",
    "    depths = np.zeros([nt])\n",
    "    iterations = np.zeros([nt])\n",
    "    ktop = np.zeros([nt])\n",
    "    kbot = np.zeros([nt])\n",
    "    error = np.zeros([nt])\n",
    "    iterations = np.zeros([nt])\n",
    "    # Define the container for an iteration counter\n",
    "    tp = 0\n",
    "    start_time = time.time()\n",
    "\n",
    "    # Initialize the Picard iteration solver\n",
    "    for i in range(0, nt): \n",
    "\n",
    "        hnp1m =  H[:,i]  \n",
    "        thetan = THETA[:,i]   \n",
    "        if ifixh == 1 :\n",
    "            hnp1mp1,cnp1mp1,knp1mp1, thetanp1mp1, errornp1,niter,tol = \\\n",
    "                        timestep(hnp1m,thetan,setflux=0,\n",
    "                                 htop=htop,stop_tol=stop_tol, infL = infL)\n",
    "    \n",
    "        elif (depth <= 0) and (prate[i] > 0):\n",
    "            PI = pot_infl(hnp1m, thetan, htop = htop, infL = infL, \n",
    "                          stop_tol = stop_tol)\n",
    "            \n",
    "            if  PI < prate[i]:\n",
    "                if tp == 0:\n",
    "                    print 'ponding at time t=', t[i]\n",
    "                    tp = i\n",
    "                flux = - PI\n",
    "                hnp1mp1,cnp1mp1,knp1mp1,thetanp1mp1,errornp1,niter,tol  = \\\n",
    "                        timestep(hnp1m, thetan, setflux = 0, \n",
    "                        htop = htop, stop_tol=stop_tol, infL = infL)\n",
    "                if ponding == 1:\n",
    "                    depth += prate[i]*dt + flux*dt\n",
    "            else:\n",
    "                flux = - prate[i]\n",
    "                hnp1mp1,cnp1mp1,knp1mp1,thetanp1mp1,errornp1,niter,tol  = \\\n",
    "                   timestep(hnp1m,thetan, setflux = 1, flux = flux, \n",
    "                            stop_tol=stop_tol, infL = infL)\n",
    "\n",
    "        elif (depth <= 0) and (prate[i] == 0):   \n",
    "            hnp1mp1,cnp1mp1,knp1mp1,thetanp1mp1,errornp1,niter,tol = \\\n",
    "               timestep(hnp1m,thetan, setflux = 1, flux = 0., \n",
    "                        stop_tol=stop_tol, infL = infL)                \n",
    "\n",
    "        elif (depth > 0):  \n",
    "            hnp1mp1,cnp1mp1,knp1mp1,thetanp1mp1,errornp1,niter,tol  = \\\n",
    "                            timestep(hnp1m,thetan, setflux=0, htop = depth, \n",
    "                                     stop_tol=stop_tol, infL = infL)\n",
    "            kt = (knp1mp1[-infL] + knp1mp1[-2])/2.       \n",
    "            if ponding == 1:\n",
    "                depth +=  prate[i]*dt - kt*((hnp1mp1[-1] - hnp1mp1[-2])/dz + 1.)*dt \n",
    "\n",
    "        if depth <0.:\n",
    "            depth = 0.\n",
    "\n",
    "        THETA[:,i+1] = thetanp1mp1\n",
    "        H[:,i+1] = hnp1mp1\n",
    "        K[:,i+1] = knp1mp1\n",
    "\n",
    "        kbot[i] =  (K[1, i+1] + K[0, i+1])/2.  \n",
    "        ktop[i] =  (K[-infL, i+1] + K[-2, i+1])/2.  \n",
    "        error[i] = errornp1\n",
    "        iterations[i] = niter\n",
    "        depths[i] = depth\n",
    "\n",
    "        if np.mod(i,1) == 10:  \n",
    "            if ifixh == 1:\n",
    "                print 't = {0:.2f}; '.format( t[i])\n",
    "\n",
    "            elif prate[i] > 0:\n",
    "                print 't = {0:.2f}; depth = {1:.2f}cm; PI = {2:.2f}cm/hr; rain = {3:.2f}cm/hr '.format(\n",
    "                     t[i], depth, PI*3600,prate[i]*3600)\n",
    "            else:\n",
    "                print 't = {0:.2f}; depth = {1:.2f}cm;  '.format(\n",
    "                     t[i], depth)\n",
    "\n",
    "    t_elapse = (time.time() - start_time)\n",
    "    \n",
    "    newmass =  (THETA[:, 1:] - THETA[:, :-1]).sum(0)*dz   #  change in mass      \n",
    "\n",
    "    H = H[:, 1:]\n",
    "    THETA = THETA[:, 1:]\n",
    "    K = K[:, 1:]\n",
    "    fluxin = ktop*((H[-1]-H[-2])/dz + 1.)*dt   # top flux (cm)\n",
    "    fluxout = - kbot*((H[1] - H[0])/dz + 1. )*dt # bottom flux (cm)\n",
    "\n",
    "    return H, THETA, K, fluxin, fluxout, newmass, error, depths, t_elapse"
   ]
  },
  {
   "cell_type": "markdown",
   "metadata": {},
   "source": [
    "##  specify parameters"
   ]
  },
  {
   "cell_type": "code",
   "execution_count": 18,
   "metadata": {
    "collapsed": true
   },
   "outputs": [],
   "source": [
    "case = 'GW'"
   ]
  },
  {
   "cell_type": "code",
   "execution_count": 19,
   "metadata": {
    "code_folding": [],
    "collapsed": false
   },
   "outputs": [],
   "source": [
    "if case == 'GW':\n",
    "    folder = 'slope'\n",
    "    cmd('mkdir {0}'.format(folder))\n",
    "    # SW grid and params\n",
    "    ncol  = 2\n",
    "    nrow  = 60\n",
    "    slope  = 0.3\n",
    "    dx  = 1\n",
    "    L = nrow*dx  # m\n",
    "    xni  = 0.03      # interspace roughness  (Manning's n)\n",
    "    xnv  = 0.03\n",
    "    epsh  = .0002  \n",
    "    beta  = 1.0\n",
    "    \n",
    "    # time grids and params\n",
    "    dt_sw  = .01\n",
    "    iscale = 100\n",
    "    tmax  = 50*60.  \n",
    "    tr  = 20*60.                    # rainfall duration\n",
    "    rain = 0.036/3600. # 36 mm/hr\n",
    "    nprt = int(2/dt_sw)\n",
    "\n",
    "    # Richards params\n",
    "    iscouple = 0\n",
    "    ifixh = 0\n",
    "    zs = 20\n",
    "\n",
    "    alpha = np.sqrt(slope)/xni # [m^(1/3)/s]  sqrt(So)/n\n",
    "    Ao = .006/100. # np.sqrt(355.*2/1000000/3600)  # m/s^(1/2)  Sorptivity  \n"
   ]
  },
  {
   "cell_type": "code",
   "execution_count": 20,
   "metadata": {
    "code_folding": [
     0
    ],
    "collapsed": false
   },
   "outputs": [],
   "source": [
    "if case == 'richards':\n",
    "    folder = 'richards'\n",
    "    cmd('mkdir {0}'.format(folder))\n",
    "    print  'coupled, richards solver'\n",
    "    ncol = 2\n",
    "    nrow = 2\n",
    "    dt_sw = 1  \n",
    "    iscale = 10    \n",
    "    tmax = 19*60\n",
    "    tr = 10*60                   # rainfall duration\n",
    "    rain = 0.036/3600. # 36 mm/hr    \n",
    "    nprt = 1  \n",
    "    # SW parameters\n",
    "    slope =  0.0\n",
    "    dx = .5\n",
    "    xni = 0.03                # interspace roughness  (Manning's n)\n",
    "    epsh = .0025\n",
    "    # Richards params\n",
    "    iscouple = 1\n",
    "    ifixh = 0\n",
    "    zs = 4   # depth of seal layer in cm  (zs = 0 if no seal, zmax if all sea;)"
   ]
  },
  {
   "cell_type": "code",
   "execution_count": 21,
   "metadata": {
    "code_folding": [
     0
    ],
    "collapsed": false
   },
   "outputs": [],
   "source": [
    "if case == 'fixed_h':\n",
    "    print  'fixed h'\n",
    "    folder = 'fixed_h'\n",
    "    cmd('mkdir {0}'.format(folder))\n",
    "    ncol = 2\n",
    "    nrow = 2\n",
    "    dt_sw = 1  # define two time grids\n",
    "    iscale = 1\n",
    "    tmax = 200\n",
    "    tr = 100\n",
    "    rain = 0.036/3600. # 36 mm/hr    \n",
    "    nprt = 1  \n",
    "    # SW parameters\n",
    "    slope =  0.0\n",
    "    dx = .5\n",
    "    xni = 0.03                # interspace roughness  (Manning's n)\n",
    "    epsh = .0025\n",
    "    slope =  0.0\n",
    "    epsh = .0025\n",
    "    # Richards params    \n",
    "    iscouple = 1\n",
    "    ifixh = 1\n",
    "    zs = 20"
   ]
  },
  {
   "cell_type": "code",
   "execution_count": 22,
   "metadata": {
    "code_folding": [],
    "collapsed": false
   },
   "outputs": [
    {
     "name": "stdout",
     "output_type": "stream",
     "text": [
      "uncoupled with slope=30.0%,beta=1.0\n"
     ]
    }
   ],
   "source": [
    "## Richards parameters\n",
    "stop_tol = 1e-1  # Stopping tolerance [cm]\n",
    "inv = 0\n",
    "htop = 0\n",
    "infL = 2\n",
    "ponding = 1 \n",
    "\n",
    "dz = .2 # [cm]\n",
    "zmin = 0. # [cm]\n",
    "zmax = 20. # [cm]\n",
    "z = np.arange(zmin, zmax+dz, dz)\n",
    "nz = z.shape[0]\n",
    "\n",
    "hinit = -100*np.ones(nz)\n",
    "depth = 0 # cm\n",
    "    \n",
    "phi = write_phi(folder = folder, dz = dz, zmin = zmin, zmax = zmax,  z = z,\n",
    "                    zs = zs, infL = infL)\n",
    "\n",
    "\n",
    "# Time parameters for python\n",
    "dt = dt_sw*iscale\n",
    "t = np.arange(0, tmax + dt, dt)\n",
    "prate = np.ones_like(t)*rain*100.\n",
    "prate[np.where( t>= tr)[0][0]:] = 0\n",
    "t = t[1:]\n",
    "nt = t.shape[0] \n",
    "\n",
    "\n",
    "if iscouple==1:\n",
    "    fmtstr = 'coupled with ni={0}, nv={1}, stop_tol={2}'.format(xni, xnv, stop_tol)\n",
    "else:\n",
    "    fmtstr = 'uncoupled with slope={0}%,dt={1}s,epsh={2}mm'.format(slope*100,dt_sw,epsh*1000)\n",
    "    fmtstr = 'uncoupled with slope={0}%,beta={1}'.format(slope*100,beta)\n",
    "print fmtstr"
   ]
  },
  {
   "cell_type": "code",
   "execution_count": 23,
   "metadata": {
    "collapsed": false
   },
   "outputs": [],
   "source": [
    "[Cinit,Kinit,thetainit] = vanGenuchten(hinit,phi) \n",
    "Ksat=phi['ksat'][-1]/100.\n",
    "Ao = np.sqrt(2*(1-1/phi['n'][-1])**(4/3.)*Kinit[-1]*\n",
    "             (phi['theta_S'][-1]-phi['theta_R'][-1])/phi['alpha'][-1])/100.\n",
    "#[tout,qout,Perc_runoff] = Comparison_function2(rain,L,Ksat,Ao,\n",
    "#                                               tr,alpha)\n",
    "# import scipy.io as sio\n",
    "# qmat = sio.loadmat('GWmatlab/qout.mat')\n",
    "# tmat = qmat['tout']\n",
    "# qmat = qmat['qout']"
   ]
  },
  {
   "cell_type": "code",
   "execution_count": 24,
   "metadata": {
    "collapsed": false
   },
   "outputs": [],
   "source": [
    "# plt.plot(tout/60.,qout*3600*24*L, '--');\n",
    "# plt.plot(tmat/60., qmat*3600*24*L);\n",
    "# plt.xlabel('time, s')\n",
    "# plt.ylabel('flow, m^3/day')\n"
   ]
  },
  {
   "cell_type": "code",
   "execution_count": 25,
   "metadata": {
    "collapsed": false
   },
   "outputs": [],
   "source": [
    "### Call functions to write input files for dry.f\n",
    "nt_sw = write_prate(folder = folder, tmax = tmax, dt_sw = dt_sw, rain = rain)\n",
    "\n",
    "xcc,ycc,zcc, xncc =write_coords(folder = folder,ncol = ncol, nrow = nrow,\n",
    "                                   dx = dx, slope = slope, xni = xni, xnv = xnv)\n",
    "\n",
    "\n",
    "write_param(folder = folder, dt = dt_sw, tmax = tmax, nprt = nprt, epsh = epsh,\n",
    "                beta = beta,\n",
    "                 iscale=iscale, ifixh = ifixh, stop_tol=stop_tol, depth = depth/100.)\n",
    "\n",
    "inum, ipos, itype = write_dryin(folder = folder, ncol = ncol, nrow = nrow)\n",
    "\n"
   ]
  },
  {
   "cell_type": "code",
   "execution_count": 27,
   "metadata": {
    "collapsed": false
   },
   "outputs": [],
   "source": [
    "DeltaPlus, DeltaMinus, MPlus, MMinus = Richards_matrices(nz, infL = infL)\n",
    "write_inc(folder = folder, nt = nt_sw, nz = nz,  ncol = ncol, nrow = nrow)"
   ]
  },
  {
   "cell_type": "code",
   "execution_count": 28,
   "metadata": {
    "collapsed": false
   },
   "outputs": [
    {
     "name": "stdout",
     "output_type": "stream",
     "text": [
      "cp dry.for slope/dry.for\n",
      "gfortran -o slope/sw  -framework accelerate slope/dry.for\n",
      "\n"
     ]
    }
   ],
   "source": [
    "\n",
    "shutil.copyfile('dry2.for', '{0}/dry.for'.format(folder))\n",
    "print 'cp dry.for', '{0}/dry.for'.format(folder)\n",
    "\n",
    "### Run fortran code\n",
    "a = cmd(\"gfortran -o {0}/sw  -framework accelerate {0}/dry.for\".format(folder))\n",
    "print \"gfortran -o {0}/sw  -framework accelerate {0}/dry.for\".format(folder)\n",
    "print a"
   ]
  },
  {
   "cell_type": "code",
   "execution_count": 29,
   "metadata": {
    "collapsed": true
   },
   "outputs": [],
   "source": [
    "import os \n",
    "start_time = time.time()\n",
    "os.chdir(folder)\n",
    "a = cmd(\"./sw\")\n",
    "os.chdir(\"..\")\n",
    "fortran_time = ((time.time() - start_time))"
   ]
  },
  {
   "cell_type": "code",
   "execution_count": 30,
   "metadata": {
    "collapsed": false,
    "scrolled": true
   },
   "outputs": [],
   "source": [
    "if case != 'GW':\n",
    "    H, THETA, K, fluxin, fluxout, newmass, error, depths, python_time = Richards(\n",
    "                    hinit = hinit,  phi = phi, nz = nz, nt= nt, \n",
    "                    stop_tol = stop_tol, infL = infL, depth = depth, ifixh = ifixh)    "
   ]
  },
  {
   "cell_type": "code",
   "execution_count": 31,
   "metadata": {
    "collapsed": false
   },
   "outputs": [
    {
     "name": "stdout",
     "output_type": "stream",
     "text": [
      "fortran run time = 3.19min\n"
     ]
    }
   ],
   "source": [
    "\n",
    "print(\"fortran run time = {0:.2f}min\".format( (fortran_time)/60.))\n",
    "# print(\"python run time = {0:.2f} s\".format( (python_time)))"
   ]
  },
  {
   "cell_type": "code",
   "execution_count": 32,
   "metadata": {
    "code_folding": [
     3
    ],
    "collapsed": false
   },
   "outputs": [
    {
     "name": "stdout",
     "output_type": "stream",
     "text": [
      "tmax = 50.0min, t_rain = 20.0min, dt_sw = 0.01s, dt= 1.0s \n",
      "Fortran runtime 0.0005 per Richards step;  191.11s per simulation hour\n"
     ]
    }
   ],
   "source": [
    "print 'tmax = {0}min, t_rain = {1}min, dt_sw = {2}s, dt= {3}s '.format(\n",
    "    tmax/60., tr/60., dt_sw,dt)\n",
    "\n",
    "print 'Fortran runtime {0:.4f} per Richards step;  {1:.2f}s per simulation hour'.format(\n",
    "    fortran_time/nrow/ncol/nt, fortran_time/nrow/ncol/dt_sw/tmax*3600)\n",
    "if case != 'GW':\n",
    "    print 'python runtime {0:.4f} per Richards step;  {1:.2f}s per simulation hour'.format(\n",
    "        python_time/nrow/ncol/nt, python_time/nrow/ncol/dt_sw/tmax*3600)"
   ]
  },
  {
   "cell_type": "code",
   "execution_count": 33,
   "metadata": {
    "collapsed": false,
    "scrolled": true
   },
   "outputs": [],
   "source": [
    "if case != 'GW':\n",
    "    print 'cumulative error = {0:.3}cm/hr'.format( \n",
    "                np.cumsum(fluxin - newmass + fluxout)[-1]/tmax*3600)\n",
    "    print 'cumulative surface flux = {0:.3}cm/hr'.format(\n",
    "        np.cumsum(fluxin)[-1]/tmax*3600)\n",
    "    print 'cumulative error relative to surface flux = {0:.2f}% '.format( \n",
    "        np.cumsum(fluxin - newmass + fluxout)[-1]/np.cumsum(fluxin )[-1]*100)"
   ]
  },
  {
   "cell_type": "markdown",
   "metadata": {},
   "source": [
    "## Shallow water checks"
   ]
  },
  {
   "cell_type": "code",
   "execution_count": 78,
   "metadata": {
    "code_folding": [
     0,
     30,
     48,
     65
    ],
    "collapsed": false
   },
   "outputs": [],
   "source": [
    "def read_param(folder = 'test') :   \n",
    "    \n",
    "    def strip_line():\n",
    "        line = f.next() \n",
    "        line = f.next()\n",
    "        a = line.strip().split(\" \")\n",
    "        a = [np.float(b.replace('d', 'e')) for b in a if b]\n",
    "        return a\n",
    " \n",
    "    fname = '{0}/params.dat'.format(folder)    \n",
    "    f = open(fname, 'r')\n",
    "    a = strip_line()\n",
    "    dt = a[1]\n",
    "    tmax = a[2]\n",
    "    a = strip_line()\n",
    "    epsh = a[0]\n",
    "    beta = a[1]\n",
    "    a = strip_line()\n",
    "    xk = a[0]\n",
    "    nprt = a[1]\n",
    "    a = strip_line()\n",
    "    iscouple = a[0]\n",
    "    ifixh = a[1]\n",
    "    a = strip_line()\n",
    "    iscale = a[0]\n",
    "    a = strip_line()\n",
    "    stop_tol = a[0]\n",
    "    f.close()\n",
    "    return dt, tmax, nprt, epsh, iscale, ifixh, stop_tol\n",
    "\n",
    "def read_time(folder = 'test') :  \n",
    "    # read time output\n",
    "    t_sw = []\n",
    "    itp = []  #  print step\n",
    "    it = []   #  time step\n",
    "    f =  open(\"{0}/time.out\".format(folder), 'r')\n",
    "    f.next()\n",
    "    for line in f:\n",
    "        a = (line.strip().split(\" \"))\n",
    "        a = [b for b in a if b]\n",
    "        t_sw.append(float(a[0]))\n",
    "        itp.append(int(a[1]))\n",
    "        it.append(int(a[2]))\n",
    "\n",
    "    t_sw = np.array(t_sw)\n",
    "\n",
    "    return t_sw[:-1]\n",
    "\n",
    "def read_cfl(folder = 'test'):\n",
    "    f =  open(\"{0}/cfl.out\".format(folder), 'r')\n",
    "    cfl = []\n",
    "    ta = []\n",
    "    ftime = []\n",
    "    for line in f:\n",
    "        a = line.strip().split(\" \")\n",
    "        a = [np.float(b) for b in a if b]\n",
    "        ta.append(a[0])\n",
    "        cfl.append(a[1])\n",
    "        ftime.append(float(a[2]))\n",
    "    cfl =  np.array(cfl)\n",
    "    ta = np.array(ta)\n",
    "    ftime = np.array(ftime)\n",
    "\n",
    "    return ta, cfl, ftime\n",
    "\n",
    "def get_hydro(folder = 'test', fname = 'fluxes'):\n",
    "    hydro = []\n",
    "    # ts = []\n",
    "    fdum = np.zeros(ncol) \n",
    "\n",
    "    for line in open(\"{0}/{1}.out\".format(folder, fname), 'r'):\n",
    "        a = (line.strip().split(\" \"))\n",
    "        try:\n",
    "            a = [str(b) for b in a if b]        \n",
    "            j = int(a[0])-1\n",
    "            k = int(a[1])-1\n",
    "            fdum[j] = a[2]  \n",
    "        except:\n",
    "            dumt = int(a[0])\n",
    "            hydro.append(fdum.copy())\n",
    "            fdum = np.zeros(ncol) \n",
    "    hydro = np.array(hydro)\n",
    "    nfstep = len(hydro)  \n",
    "    hydro = hydro.mean(1)   #  units are m2/s\n",
    "\n",
    "    return hydro\n",
    "\n",
    "\n",
    "def new_hydro(folder = folder, fname = 'hydro'):\n",
    "    tdum = []\n",
    "    hydro = []\n",
    "\n",
    "    # hdum =  np.zeros([ncol+2, nrow+2])\n",
    "\n",
    "    for line in open(\"{0}/hydro.out\".format(folder), 'r'):\n",
    "        a = (line.strip().split(\" \"))\n",
    "        a = [float(b) for b in a if b]\n",
    "        try:\n",
    "            tdum.append(float(a[0]))\n",
    "            hydro.append(float(a[1]))\n",
    "\n",
    "\n",
    "        except IndexError:\n",
    "            print a\n",
    "\n",
    "    tdum = np.array(tdum)\n",
    "    hydro = np.array(hydro)/ncol\n",
    "    \n",
    "    return tdum, hydro\n",
    "\n",
    "\n",
    "def get_h(folder = 'test'):\n",
    "    h = []\n",
    "    hdum =  np.zeros([ncol+2, nrow+2])\n",
    "\n",
    "    for line in open(\"{0}/h.out\".format(folder), 'r'):\n",
    "        a = (line.strip().split(\" \"))\n",
    "        a = [float(b) for b in a if b]\n",
    "        try:\n",
    "            j = int(a[0])\n",
    "            k = int(a[1])\n",
    "            hdum[j, k] = a[2]\n",
    "\n",
    "        except IndexError:\n",
    "            dumt = int(a[0])\n",
    "            h.append(hdum.copy())\n",
    "\n",
    "    h = np.array(h)\n",
    "    h = h[:, 1:-1, 1:-1]\n",
    "    return h\n",
    "\n",
    "def get_zc(folder =folder):\n",
    "    zcdum = np.zeros([ncol+2, nrow+2])\n",
    "\n",
    "    for line in open(\"{0}/{1}.out\".format(folder, 'zcc'), 'r'):\n",
    "        a = (line.strip().split(\" \"))\n",
    "        a = [str(b) for b in a if b]        \n",
    "        j = int(a[0])\n",
    "        k = int(a[1])    \n",
    "        zcdum[j,k] = float(a[2])\n",
    "    zc = zcdum[1:-1, 1:-1]\n",
    "    \n",
    "    return zc\n",
    "\n",
    "\n",
    "def mybin(myarray, nbins = 10):\n",
    "    return myarray.reshape( len(myarray)/nbins, nbins).mean(1)\n",
    "    "
   ]
  },
  {
   "cell_type": "code",
   "execution_count": 79,
   "metadata": {
    "collapsed": false
   },
   "outputs": [],
   "source": [
    "\n",
    "dt, tmax, nprt, epsh, iscale, ifixh, stop_tol = read_param(folder = folder)\n",
    "\n",
    "t_sw = read_time(folder =folder)\n",
    "ta, cfl, ftime = read_cfl(folder = folder)\n",
    "tdum, hydro = new_hydro(folder = folder, fname = 'hydro')\n",
    "# hydro = mybin(hydro, len(hydro)/(len(t_sw)))\n",
    "h = get_h(folder=  folder)\n",
    "\n",
    "zc = get_zc()"
   ]
  },
  {
   "cell_type": "code",
   "execution_count": 80,
   "metadata": {
    "code_folding": [
     0
    ],
    "collapsed": false,
    "scrolled": true
   },
   "outputs": [
    {
     "name": "stdout",
     "output_type": "stream",
     "text": [
      "tc = 3.4 min, tr = 20.0 min\n"
     ]
    }
   ],
   "source": [
    "def analytical_hydro(slope = slope, nrow = nrow, tr = tr, xni = xni):\n",
    "    import scipy.optimize\n",
    "    alphaf  = (slope**.5)/xni \n",
    "    L = (nrow)*dx\n",
    "    m = 5/3.\n",
    "    tc = (L/alphaf/(rain)**(m-1))**(1./m)\n",
    "    print 'tc = {0:.1f} min, tr = {1:.1f} min'.format(tc/60., tr/60.)\n",
    "    q = np.zeros_like(t_sw)\n",
    "    q[t_sw<=tc] = alphaf*(rain*t_sw[t_sw<=tc])**m\n",
    "    q[t_sw>tc] = alphaf*(rain*tc)**m\n",
    "\n",
    "    trdum = t_sw[t_sw>tr]- tr\n",
    "    xx = np.zeros_like(trdum)\n",
    "    for i in range(len(trdum)):\n",
    "        def F(x):\n",
    "            return rain*L - rain*m*alphaf**(1./m)*x**(1-1/m)*(t_sw[t_sw>tr]- tr)[i] - x\n",
    "        x= scipy.optimize.broyden1(F, np.zeros_like(t_sw[t_sw>tr][1]), f_tol=1e-14)\n",
    "        xx[i] = x\n",
    "\n",
    "    q[t_sw>tr] = xx\n",
    "    \n",
    "\n",
    "    return q/L, tc\n",
    "q0,tc = analytical_hydro(nrow = nrow, slope = slope)"
   ]
  },
  {
   "cell_type": "code",
   "execution_count": 41,
   "metadata": {
    "collapsed": false
   },
   "outputs": [
    {
     "data": {
      "text/plain": [
       "<matplotlib.text.Text at 0x111f9c3d0>"
      ]
     },
     "execution_count": 41,
     "metadata": {},
     "output_type": "execute_result"
    },
    {
     "data": {
      "image/png": "[encoded data removed]",
      "text/plain": [
       "<matplotlib.figure.Figure at 0x10ecc3790>"
      ]
     },
     "metadata": {},
     "output_type": "display_data"
    }
   ],
   "source": [
    "fig=plt.figure(figsize = (7, 4))\n",
    "yy = np.arange(nrow)\n",
    "col = 1\n",
    "zmin =  np.unique(h+zcc)[1] - 0.001\n",
    "zmax = np.unique(h+zcc)[-1] + 0.001\n",
    "\n",
    "ax = plt.axes(xlim=(0, nrow), ylim=(zmin, zmax))\n",
    "plt.plot(yy[:nrow/2+1],  zc[col, :nrow/2+1], 'g-', lw = 1.5, label = 'n={0}'.format(xnv))\n",
    "plt.plot(yy[nrow/2:],  zc[col, nrow/2:], 'k-', lw = .5, label = 'n={0}'.format(xni))\n",
    "img, = plt.plot(yy,  (zc + h[len(h)/2]+.05)[col,:], 'b-.', label = 'water')\n",
    "ttl = ax.set_title('',animated=True, fontsize = 11)\n",
    "plt.legend(fontsize = 11, loc = 'best')\n",
    "ax.xaxis.set_animated(True)\n",
    "plt.xlabel('x (m)'); plt.ylabel('h (m)')\n",
    "plt.title('Roughness test setup')\n"
   ]
  },
  {
   "cell_type": "code",
   "execution_count": 75,
   "metadata": {
    "collapsed": false
   },
   "outputs": [
    {
     "data": {
      "image/png": "[encoded data removed]",
      "text/plain": [
       "<matplotlib.figure.Figure at 0x117b38c90>"
      ]
     },
     "metadata": {},
     "output_type": "display_data"
    }
   ],
   "source": [
    "scale = 3600.*100\n",
    "ylabel = ' [cm/hr]'\n",
    "fig = plt.figure(figsize = (7, 4))\n",
    "plt.plot(ta/60., - hydro*scale/L, '-', label = 'model')\n",
    "plt.plot(t_sw/60.,q0*(dx)*scale, '-', label = 'analytical')\n",
    "plt.axhline(rain*scale, ls = '-.', lw = .5, label = 'rain')\n",
    "plt.title(' Hydrograph {0}'.format( fmtstr), fontsize = 11)\n",
    "plt.xlabel('time (min)'); plt.ylabel(' Discharge ({0})'.format(ylabel))\n",
    "plt.legend(fontsize = 10, loc= 'best')\n",
    "# plt.xlim(50,52.1); plt.ylim(-.001,.001)\n",
    "fig.savefig('{0}/anim/hydro_{1}.pdf'.format(folder, fmtstr))"
   ]
  },
  {
   "cell_type": "code",
   "execution_count": 76,
   "metadata": {
    "collapsed": false
   },
   "outputs": [],
   "source": [
    "flux1 = []\n",
    "flux2 = []\n",
    "flux3 = [] \n",
    "flux4 = []\n",
    "f = open('{0}/allfluxes.out'.format(folder), 'r'); \n",
    "for line in f:\n",
    "    a = (line.strip().split(\" \"))\n",
    "    a = [myfloat(b) for b in a if b]\n",
    "    flux1.append(a[0])\n",
    "    flux2.append(a[1])\n",
    "    flux3.append(a[2])\n",
    "    flux4.append(a[3])\n",
    "    \n",
    "flux1 = np.array(flux1)\n",
    "flux2 = np.array(flux2)\n",
    "flux3 = np.array(flux3)\n",
    "flux4 = np.array(flux4)"
   ]
  },
  {
   "cell_type": "code",
   "execution_count": null,
   "metadata": {
    "collapsed": false
   },
   "outputs": [],
   "source": []
  },
  {
   "cell_type": "code",
   "execution_count": 77,
   "metadata": {
    "collapsed": false
   },
   "outputs": [
    {
     "data": {
      "image/png": "[encoded data removed]",
      "text/plain": [
       "<matplotlib.figure.Figure at 0x114fb8910>"
      ]
     },
     "metadata": {},
     "output_type": "display_data"
    }
   ],
   "source": [
    "binfreq = 1\n",
    "f1 = mybin(flux1, binfreq)\n",
    "f3 = mybin(flux3, binfreq)\n",
    "tdum = mybin(ta, binfreq)\n",
    "\n",
    "t0 = int(np.where(tdum>0*60)[0][0])\n",
    "t1 = int(np.where(tdum>tmax-1)[0][0])\n",
    "\n",
    "scale = 1./dx**2*3600.*100\n",
    "fig = plt.figure(figsize = (7, 4))\n",
    "plt.plot(tdum[t0:t1]/60., -f1[t0:t1]/dt_sw/ncol/L*scale, '-', ms = 1, label = 'bottom')\n",
    "plt.plot(tdum[t0:t1]/60., -f3[t0:t1]/dt_sw/ncol/L*scale, '-', label = 'top')\n",
    "plt.plot(tdum[t0:t1]/60., -(f3+f1)[t0:t1]/dt_sw/ncol/L*scale, '-.', ms = 1, label = 'all fluxes')\n",
    "plt.plot(t_sw[t0:t1]/60., q0[t0:t1]*(dx)*scale, '--', label = 'analytical')\n",
    "plt.title(' Hydrograph ({0})'.format( fmtstr), fontsize = 11)\n",
    "plt.xlabel('time (min)'); plt.ylabel(' Discharge ({0})'.format(ylabel))\n",
    "plt.legend(fontsize = 10, loc= 'best')\n",
    "# plt.ylim(-epsh*10,epsh*10);\n",
    "# plt.ylim(-0.1, .1);\n",
    "# plt.xlim(40, 52)\n",
    "fig.savefig('{0}/anim/hydro_{1}.pdf'.format(folder, fmtstr))"
   ]
  },
  {
   "cell_type": "code",
   "execution_count": 67,
   "metadata": {
    "collapsed": false
   },
   "outputs": [],
   "source": [
    "def read_downslope(folder=  folder, fname = 'down_h'):\n",
    "    downslope = []\n",
    "    fdum = np.zeros(5) \n",
    "\n",
    "    for line in open(\"{0}/{1}.out\".format(folder, fname), 'r'):\n",
    "        a = (line.strip().split(\" \"))\n",
    "        a = [str(b) for b in a if b]        \n",
    "\n",
    "        try:\n",
    "            fdum[0] = myfloat(a[0])\n",
    "            fdum[1] = myfloat(a[1])\n",
    "            fdum[2] = myfloat(a[2])\n",
    "            fdum[3] = myfloat(a[3])\n",
    "            #fdum[4] = int(a[4])        \n",
    "        except:\n",
    "            print a\n",
    "        downslope.append(fdum.copy())\n",
    "    downslope = np.array(downslope)\n",
    "    return downslope\n",
    "\n",
    "\n",
    "# down_h = read_downslope(fname = 'down_h')\n",
    "# down_hp = read_downslope(fname = 'down_hp')\n",
    "# up_h = read_downslope(fname = 'upslope')\n",
    "# tlow = down_h[:, 0]"
   ]
  },
  {
   "cell_type": "code",
   "execution_count": 68,
   "metadata": {
    "collapsed": false
   },
   "outputs": [],
   "source": [
    "solver = []\n",
    "fdum = np.zeros(5) \n",
    "\n",
    "for line in open(\"{0}/{1}.out\".format(folder,'solver'), 'r'):\n",
    "    a = (line.strip().split(\" \"))\n",
    "    a = [str(b) for b in a if b]        \n",
    "\n",
    "    try:\n",
    "        fdum[0] = myfloat(a[0])\n",
    "        fdum[1] = myfloat(a[1])\n",
    "        fdum[2] = myfloat(a[2])      \n",
    "    except:\n",
    "        print a\n",
    "    solver.append(fdum.copy())\n",
    "solver = np.array(solver)\n",
    "\n"
   ]
  },
  {
   "cell_type": "code",
   "execution_count": 69,
   "metadata": {
    "collapsed": false
   },
   "outputs": [
    {
     "data": {
      "text/plain": [
       "<matplotlib.legend.Legend at 0x1138a0b50>"
      ]
     },
     "execution_count": 69,
     "metadata": {},
     "output_type": "execute_result"
    },
    {
     "data": {
      "image/png": "[encoded data removed]",
      "text/plain": [
       "<matplotlib.figure.Figure at 0x112963750>"
      ]
     },
     "metadata": {},
     "output_type": "display_data"
    }
   ],
   "source": [
    "fig = plt.figure(figsize = (7, 4))\n",
    "scale = 1./dx**2*3600.*100\n",
    "tdum = ta\n",
    "# plt.plot(tdum[t0:t1]/60., -f3[t0:t1]/dt_sw/ncol/L*scale, '-', label = 'top')\n",
    "# plt.plot(tdum[1:]/60., 0.5*(solver[:, 0] + solver[:, 1] -solver[:, 2])/L*scale)\n",
    "plt.plot(tdum[1:]/60., 0.5*(solver[:, 0] )/L*scale, '--', label = '$F_L$')\n",
    "plt.plot(tdum[1:]/60., 0.5*(solver[:, 1] )/L*scale, '-.', label = '$F_R$')\n",
    "plt.plot(tdum[1:]/60., 0.5*(-solver[:, 2])/L*scale,'-', label = '$R |\\Lambda| \\Delta V$')\n",
    "plt.title(' Top flux ({0})'.format( fmtstr), fontsize = 11)\n",
    "plt.xlabel('time (min)'); plt.ylabel(' Discharge ({0})'.format(ylabel))\n",
    "plt.legend(fontsize = 10, loc= 'best')\n",
    "\n",
    "\n"
   ]
  },
  {
   "cell_type": "code",
   "execution_count": 70,
   "metadata": {
    "collapsed": false
   },
   "outputs": [],
   "source": [
    "# down_v = read_downslope(fname = 'down_v')\n",
    "# down_u = read_downslope(fname = 'down_u')\n",
    "# down_vp = read_downslope(fname = 'down_vp')\n",
    "# down_f = read_downslope(fname = 'down_f')"
   ]
  },
  {
   "cell_type": "code",
   "execution_count": 71,
   "metadata": {
    "collapsed": false
   },
   "outputs": [],
   "source": [
    "# t0 = int(np.where(t_sw>51*60)[0][0])\n",
    "# t1 = int(np.where(t_sw>52*60)[0][0])\n",
    "\n",
    "# ghost = - down_vp\n",
    "# tlow = ta\n",
    "# fig = plt.figure(figsize = (9, 6))\n",
    "# plt.subplot(211)\n",
    "# plt.title('downslope v', fontsize = 11)\n",
    "# plt.plot(tlow,  ghost[:,1] , '-', label = 'ghost x=0')\n",
    "# plt.plot(tlow,  ghost[:,2] , '-', label = 'x=1')\n",
    "# plt.plot(tlow,  ghost[:,3], '--',label = 'x=2')\n",
    "# # plt.axhline(epsh, c = 'k', lw = 0.5)\n",
    "# plt.legend(loc = 'best', fontsize = 10)\n",
    "# # plt.xlim(51, 51.6); plt.ylim(-epsh,epsh*3)\n",
    "\n",
    "# plt.subplot(212)\n",
    "# plt.title('downslope v gradient', fontsize = 11)\n",
    "# plt.plot(tlow, ghost[:, 2] - ghost[:, 1], '--', label = 'h(1)-h(0)')\n",
    "# plt.plot(tlow, ghost[:, 3] - ghost[:, 2], '-', label = 'h(2)-h(1)')\n",
    "# plt.legend(loc = 'best', fontsize = 10)\n",
    "# fig.savefig('{0}/anim/downslope_{1}.pdf'.format(folder, fmtstr))"
   ]
  },
  {
   "cell_type": "code",
   "execution_count": 73,
   "metadata": {
    "code_folding": [],
    "collapsed": false
   },
   "outputs": [
    {
     "data": {
      "image/png": "[encoded data removed]",
      "text/plain": [
       "<matplotlib.figure.Figure at 0x117b2a050>"
      ]
     },
     "metadata": {},
     "output_type": "display_data"
    }
   ],
   "source": [
    "hplot = (h[::10,:, :])\n",
    "anim = 1\n",
    "if anim:\n",
    "    fig=plt.figure(figsize = (7, 4))\n",
    "    yy = np.arange(0, nrow*dx, dx)\n",
    "    col = 1\n",
    "    zmin =  np.unique(h)[1] - 0.001\n",
    "    zmax = np.unique(h)[-1] + 0.001\n",
    "    x0 = 1\n",
    "    ax = plt.axes(xlim=(yy[x0], yy[-1]), ylim=(zmin, zmax))\n",
    "    img, = plt.plot(yy[x0:],  h[1][col, x0:], 'b-')\n",
    "    ttl = ax.set_title('',animated=True, fontsize = 11)\n",
    "    ax.xaxis.set_animated(True)\n",
    "    plt.xlabel('x (m)'); plt.ylabel('h (m)')\n",
    "    \n",
    "    #plt.plot(yy[:nrow/2+1],  0*zc[col, :nrow/2+1], 'g-', lw = 1., label = 'n={0}'.format(xnv))\n",
    "    #plt.plot(yy[nrow/2:],  0*zc[col, nrow/2:], 'k-', lw = .5, label = 'n={0}'.format(xni))\n",
    "    plt.plot(yy[:],  0*zc[col, :], 'k-', lw = .5, label = 'n={0}'.format(xni))\n",
    "    #plt.legend(fontsize = 11, loc = 'upper right')\n",
    "    def init():\n",
    "        ttl.set_text('') \n",
    "        img.set_data([0],[0])\n",
    "        return img, ttl, ax.xaxis\n",
    "\n",
    "    # fmtstr = 'uncoupled with slope={0}%'.format(slope*100)\n",
    "    def func(n):\n",
    "        ttl.set_text('height ({0}); t={1:.1f}min'.format(fmtstr, t_sw[n]/60.))    \n",
    "        img.set_data(yy[x0:], (hplot[n])[col, x0:])\n",
    "        ax.set_xlim(yy[x0],yy[-1])\n",
    "        return img, ttl, ax.xaxis\n",
    "\n",
    "    ani = animation.FuncAnimation(fig,func,init_func=init,frames=len(hplot),\n",
    "                                   interval=100,blit=True)\n",
    "\n",
    "\n",
    "    cmd('mkdir {0}/anim'.format(folder))\n",
    "    ani.save('{0}/anim/h_{1}.mp4'.format(folder, fmtstr))\n"
   ]
  },
  {
   "cell_type": "code",
   "execution_count": 74,
   "metadata": {
    "code_folding": [],
    "collapsed": false,
    "scrolled": true
   },
   "outputs": [
    {
     "data": {
      "image/png": "[encoded data removed]",
      "text/plain": [
       "<matplotlib.figure.Figure at 0x1197c4810>"
      ]
     },
     "metadata": {},
     "output_type": "display_data"
    }
   ],
   "source": [
    "anim = 1\n",
    "if anim:\n",
    "    fig=plt.figure(figsize = (7, 4))\n",
    "    yy = np.arange(0, nrow*dx, dx)\n",
    "    col = 1\n",
    "    zmin =  np.unique(h[:,:,:]+zcc)[1] - 0.001\n",
    "    zmax = np.unique(h[:,:,:]+zcc)[-1] + 0.001\n",
    "\n",
    "    ax = plt.axes(xlim=(0, yy[-1]+.1), ylim=(zmin, zmax))\n",
    "    #plt.plot(yy[:],  zc[col, :], 'g-', label = 'n$_f$={0}'.format(xni))\n",
    "    img, = plt.plot(yy,  (zc + h[1])[col], 'b')\n",
    "    ttl = ax.set_title('',animated=True, fontsize = 11)\n",
    "    ax.xaxis.set_animated(True)\n",
    "    plt.xlabel('x (m)'); plt.ylabel('h (m)')\n",
    "    \n",
    "    #plt.plot(yy[:nrow/2+1],  zc[col, :nrow/2+1], 'g-', lw = 1.5, label = 'n={0}'.format(xnv))\n",
    "    #plt.plot(yy[nrow/2:],  zc[col, nrow/2:], 'k-', lw = .5, label = 'n={0}'.format(xni))\n",
    "    #plt.legend(fontsize = 11, loc = 'lower right')\n",
    "    plt.plot(yy[:],  zc[col,:], 'k-', lw = .5, label = 'n={0}'.format(xni))\n",
    "    def init():\n",
    "        ttl.set_text('') \n",
    "        img.set_data([0],[0])\n",
    "        return img, ttl, ax.xaxis\n",
    "\n",
    "    #fmtstr = 'uncoupled with slope={0}%'.format(slope*100)\n",
    "    def func(n):\n",
    "        ttl.set_text('height ({0});  t={1:.1f}min'.format(fmtstr, t_sw[n]/60.))    \n",
    "        img.set_data(yy, (zc + hplot[n])[col])\n",
    "        ax.set_xlim(yy[0],yy[-1])\n",
    "        return img, ttl, ax.xaxis\n",
    "\n",
    "    ani = animation.FuncAnimation(fig,func,init_func=init,frames=len(hplot),\n",
    "                                   interval=100,blit=True)\n",
    "\n",
    "\n",
    "    cmd('mkdir {0}/anim'.format(folder))\n",
    "    ani.save('{0}/anim/zeta_{1}.mp4'.format(folder, fmtstr))\n"
   ]
  },
  {
   "cell_type": "code",
   "execution_count": 58,
   "metadata": {
    "collapsed": false
   },
   "outputs": [
    {
     "data": {
      "text/plain": [
       "<matplotlib.text.Text at 0x10266ae10>"
      ]
     },
     "execution_count": 58,
     "metadata": {},
     "output_type": "execute_result"
    },
    {
     "data": {
      "image/png": "[encoded data removed]",
      "text/plain": [
       "<matplotlib.figure.Figure at 0x1026e5c50>"
      ]
     },
     "metadata": {},
     "output_type": "display_data"
    }
   ],
   "source": [
    "fig = plt.figure(figsize = (7, 4))\n",
    "yy = np.arange(nrow)\n",
    "col= 1; \n",
    "plt.plot(t_sw/60.,  h[:-1,col, 2], '-', label = 'x={0:.0f}'.format(ycc[col, 2]))\n",
    "plt.plot(t_sw/60.,  h[:-1,col, 1], '-', label = 'x={0:.0f}'.format(ycc[col, 1]))\n",
    "plt.plot(t_sw/60.,  h[:-1,col, 0], '-', label = 'x={0:.0f}'.format(ycc[col, 0]))\n",
    "plt.legend(loc = 'best', fontsize = 10)\n",
    "plt.title('water height vs. time  ({0})'.format(fmtstr), fontsize=11)\n",
    "plt.xlabel('time (min)')\n",
    "# plt.ylim(0, epsh*2)\n",
    "# plt.xlim(51, 52)\n",
    "# fig.savefig('{0}/figures/{1}.pdf'.format(folder, fmtstr))"
   ]
  },
  {
   "cell_type": "markdown",
   "metadata": {},
   "source": [
    "\n",
    "## Mass balance check"
   ]
  },
  {
   "cell_type": "code",
   "execution_count": 59,
   "metadata": {
    "code_folding": [
     0
    ],
    "collapsed": false
   },
   "outputs": [
    {
     "data": {
      "image/png": "[encoded data removed]",
      "text/plain": [
       "<matplotlib.figure.Figure at 0x10e3bdf50>"
      ]
     },
     "metadata": {},
     "output_type": "display_data"
    }
   ],
   "source": [
    "def get_dvol(folder):\n",
    "    ta = []\n",
    "    dvol = []\n",
    "    infl = [] \n",
    "    flux = []\n",
    "    rain = []\n",
    "    dts = []\n",
    "    f = open('{0}/dvol.out'.format(folder), 'r'); \n",
    "    for line in f:\n",
    "        a = (line.strip().split(\" \"))\n",
    "        a = [myfloat(b) for b in a if b]\n",
    "        ta.append(a[0])\n",
    "        dvol.append(a[1])\n",
    "        flux.append(a[2])\n",
    "        infl.append(a[3])\n",
    "        rain.append(a[4])\n",
    "        dts.append(a[5])\n",
    "    ta = np.array(ta)\n",
    "    dvol = np.array(dvol)\n",
    "    flux = np.array(flux)\n",
    "    infl = np.array(infl)\n",
    "    rain = np.array(rain)    \n",
    "    dts = np.array(dts)    \n",
    "    total = dvol  - flux - infl - rain\n",
    "    \n",
    "    ti = 0; tf = len(ta)-1;  nprt = 1\n",
    "\n",
    "    f = plt.figure(figsize= (9,6))\n",
    "    plt.subplot(211)\n",
    "    plt.plot(ta[ti:tf:nprt], dvol[ti:tf:nprt] - flux[ti:tf:nprt] - infl[ti:tf:nprt]\n",
    "             - rain[ti:tf:nprt], '.', ms = 2)\n",
    "    # plt.plot(ta[ti:tf:nprt], total[ti:tf:nprt], '.', ms = 2)\n",
    "    plt.title('mass balance (dV - fluxes - infiltration)', fontsize = 11)\n",
    "    plt.ylabel('volume (m$^3$)',fontsize = 11);\n",
    "    plt.xlim([ta[ti], ta[tf]])\n",
    "    plt.subplot(212)\n",
    "    plt.plot(ta[ti:tf:nprt],np.cumsum(total)[ti:tf:nprt], '.', ms = 2)\n",
    "    plt.title('cumulative mass balance', fontsize = 10)\n",
    "    plt.xlabel('time (s)', fontsize = 11); \n",
    "    plt.ylabel('volume (m$^3$)',fontsize = 11);\n",
    "    plt.xlim([ta[ti], ta[tf]])\n",
    "    plt.suptitle('{0}'.format(fmtstr  ))\n",
    "    \n",
    "    return ta, dvol, flux, infl, rain, dts, total\n",
    "\n",
    "tta, ddvol, fflux, iinfl, rrain, ddts, ttotal = get_dvol(folder = folder)\n"
   ]
  },
  {
   "cell_type": "code",
   "execution_count": 60,
   "metadata": {
    "collapsed": false
   },
   "outputs": [
    {
     "name": "stdout",
     "output_type": "stream",
     "text": [
      "no mass balance problems!\n"
     ]
    }
   ],
   "source": [
    "try:\n",
    "    badind = np.where(abs(total)> 1e-11)[0][0]\n",
    "    print badind\n",
    "    print total[badind]/4\n",
    "except:\n",
    "    print 'no mass balance problems!'"
   ]
  },
  {
   "cell_type": "code",
   "execution_count": null,
   "metadata": {
    "collapsed": true
   },
   "outputs": [],
   "source": []
  }
 ],
 "metadata": {
  "anaconda-cloud": {},
  "kernelspec": {
   "display_name": "Python [default]",
   "language": "python",
   "name": "python2"
  },
  "language_info": {
   "codemirror_mode": {
    "name": "ipython",
    "version": 2
   },
   "file_extension": ".py",
   "mimetype": "text/x-python",
   "name": "python",
   "nbconvert_exporter": "python",
   "pygments_lexer": "ipython2",
   "version": "2.7.12"
  }
 },
 "nbformat": 4,
 "nbformat_minor": 0
}
