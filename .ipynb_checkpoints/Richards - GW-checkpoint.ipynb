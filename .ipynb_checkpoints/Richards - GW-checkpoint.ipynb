{
 "cells": [
  {
   "cell_type": "markdown",
   "metadata": {},
   "source": [
    "    Richards code with added features:\n",
    "        - sorptivity estimate (must use case 'fixed_H')\n",
    "            -  reset grid to single layer soil (zs = 10)\n",
    "        - comparison to coupled version of 'Coupled solution check - GW'  (must use case 'rain')\n",
    "            -  reset grid to two layer model  (zs=4)\n",
    "            \n",
    "    parameters: \n",
    "        - zs : thickness of the upper soil layer (in cm)"
   ]
  },
  {
   "cell_type": "code",
   "execution_count": 363,
   "metadata": {
    "collapsed": true
   },
   "outputs": [],
   "source": [
    "import numpy as np\n",
    "import matplotlib.pylab as plt\n",
    "plt.style.use('ggplot')\n",
    "import time"
   ]
  },
  {
   "cell_type": "code",
   "execution_count": 364,
   "metadata": {
    "collapsed": true
   },
   "outputs": [],
   "source": [
    "%matplotlib inline"
   ]
  },
  {
   "cell_type": "code",
   "execution_count": 365,
   "metadata": {
    "code_folding": [],
    "collapsed": false
   },
   "outputs": [],
   "source": [
    "def vanGenuchten(h,phi) :\n",
    "    alpha   = phi['alpha']\n",
    "    theta_S = phi['theta_S']\n",
    "    theta_R = phi['theta_R']\n",
    "    n       = phi['n']\n",
    "    m       = phi['m']\n",
    "    Ksat    = phi['ksat'] \n",
    "    # Compute the volumetric moisture content\n",
    "    theta = (theta_S - theta_R)/(1 + (alpha*abs(h))**n)**m + theta_R\n",
    "    # Compute the effective saturation\n",
    "    Se = ((theta - theta_R)/(theta_S - theta_R))\n",
    "    # Compute the hydraulic conductivity\n",
    "    K = Ksat*Se**(1./2)*(1 - (1 - Se**(1./m))**m)**2\n",
    "    # Compute the specific moisture storage\n",
    "    C =  -alpha*n*np.sign(h)*(1./n - 1)*(alpha*abs(h))**(n - 1)*(theta_R - \n",
    "         theta_S)*((alpha*abs(h))**n + 1)**(1/n - 2)\n",
    "    try:\n",
    "        for i in range(len(h)):\n",
    "            if h[i] > 0:\n",
    "                K[i] = Ksat[i]\n",
    "                C[i] = 0.\n",
    "                theta[i] = theta_S[i]\n",
    "    except TypeError:\n",
    "        if h > 0:\n",
    "            K = Ksat[i]\n",
    "            C = 0.\n",
    "            theta = theta_S[i]\n",
    "    return [C,K,theta]"
   ]
  },
  {
   "cell_type": "code",
   "execution_count": 366,
   "metadata": {
    "code_folding": [],
    "collapsed": false
   },
   "outputs": [],
   "source": [
    "# Define van Genuchten parameters\n",
    "# veg areas / below the seal layer\n",
    "vegAlpha   = 0.0096  \n",
    "vegTheta_S = 0.472  \n",
    "vegTheta_R = 0.0378  \n",
    "vegLambdA  = 0.318 \n",
    "vegn       = vegLambdA + 1\n",
    "vegm       = vegLambdA/vegn\n",
    "vegKsat    = 3.38/3600. \n",
    "\n",
    "# Seal layer\n",
    "sealAlpha   = 0.0078  \n",
    "sealTheta_S = 0.450  \n",
    "sealTheta_R = 0.0394  \n",
    "sealLambdA  = 0.263  \n",
    "sealn       = sealLambdA + 1\n",
    "sealm       = sealLambdA/sealn\n",
    "sealKsat    = 0.19/3600. "
   ]
  },
  {
   "cell_type": "code",
   "execution_count": 367,
   "metadata": {
    "collapsed": false
   },
   "outputs": [
    {
     "name": "stdout",
     "output_type": "stream",
     "text": [
      "101 60\n"
     ]
    }
   ],
   "source": [
    "# set up grid \n",
    "dz = .1; # [cm]\n",
    "zmin = 0.; # [cm]\n",
    "zmax = 10.; # [cm]\n",
    "z = np.arange(zmin, zmax+dz, dz)\n",
    "nz = z.shape[0]\n",
    "zs = 4  # cm  \n",
    "si = np.where(z == z[-1] - zs)[0][0]  \n",
    "print nz, si"
   ]
  },
  {
   "cell_type": "code",
   "execution_count": 368,
   "metadata": {
    "collapsed": false
   },
   "outputs": [
    {
     "name": "stdout",
     "output_type": "stream",
     "text": [
      "      parameter ( nn=10000,ntp=20000,nx=410,ny=410,nz=101 )\r\n",
      "\n",
      "      parameter (nn=10000,ntp=20000,nx=410,ny=410,nz=101)\n"
     ]
    }
   ],
   "source": [
    "with open('dry0.inc', 'r') as input_file, open('dry.inc', 'w') as output_file:\n",
    "    for line in input_file:\n",
    "        if line[6:15] == 'parameter':\n",
    "            print line\n",
    "            newline = '      parameter (nn={0},ntp={1},nx={2},ny={3},nz={4})'.format(\n",
    "                10000, 20000, 410, 410, nz)\n",
    "            print newline\n",
    "            output_file.write(newline)\n",
    "        else:\n",
    "            output_file.write(line)\n"
   ]
  },
  {
   "cell_type": "code",
   "execution_count": 369,
   "metadata": {
    "collapsed": false
   },
   "outputs": [
    {
     "name": "stdout",
     "output_type": "stream",
     "text": [
      "old line:       parameter ( nn=10000,ntp=20000,nx=410,ny=410,nz=101 )\r\n",
      "\n"
     ]
    },
    {
     "ename": "NameError",
     "evalue": "name 'ncol' is not defined",
     "output_type": "error",
     "traceback": [
      "\u001b[0;31m---------------------------------------------------------------------------\u001b[0m",
      "\u001b[0;31mNameError\u001b[0m                                 Traceback (most recent call last)",
      "\u001b[0;32m<ipython-input-369-54c034d1f817>\u001b[0m in \u001b[0;36m<module>\u001b[0;34m()\u001b[0m\n\u001b[1;32m     11\u001b[0m \u001b[0;34m\u001b[0m\u001b[0m\n\u001b[1;32m     12\u001b[0m             newline = '      parameter (nn={0},ntp={1},nx={2},ny={3},nz={4})'.format(\n\u001b[0;32m---> 13\u001b[0;31m                  (ncol+1)*(nrow+1)+1, nt+1, ncol+2, nrow+2, nz0)\n\u001b[0m\u001b[1;32m     14\u001b[0m \u001b[0;34m\u001b[0m\u001b[0m\n\u001b[1;32m     15\u001b[0m             \u001b[0;32mprint\u001b[0m \u001b[0;34m'new line:'\u001b[0m\u001b[0;34m,\u001b[0m \u001b[0mnewline\u001b[0m\u001b[0;34m\u001b[0m\u001b[0m\n",
      "\u001b[0;31mNameError\u001b[0m: name 'ncol' is not defined"
     ]
    }
   ],
   "source": [
    "with open('dry0.inc', 'r') as input_file, open('dry.inc', 'w') as output_file:\n",
    "    for line in input_file:\n",
    "        if line[6:15] == 'parameter':\n",
    "            print 'old line:', line\n",
    "            a = (line.strip().split(\" \")[2].split(\",\"))\n",
    "            nn0 = int(a[0].split('=')[-1])\n",
    "            nt0 = int(a[1].split('=')[-1])\n",
    "            nx0 = int(a[2].split('=')[-1])\n",
    "            ny0 = int(a[3].split('=')[-1])\n",
    "            nz0 = int(a[4].split('=')[-1])\n",
    "\n",
    "            newline = '      parameter (nn={0},ntp={1},nx={2},ny={3},nz={4})'.format(\n",
    "                 (nx0+1)*(ny0+1)+1, nt+1, ncol+2, nrow+2, nz0)\n",
    "            \n",
    "            print 'new line:', newline\n",
    "            output_file.write(newline)\n",
    "        else:\n",
    "            output_file.write(line)\n"
   ]
  },
  {
   "cell_type": "code",
   "execution_count": 341,
   "metadata": {
    "collapsed": false
   },
   "outputs": [],
   "source": [
    "alpha = np.ones(nz)*vegAlpha\n",
    "theta_S = np.ones(nz)*vegTheta_S\n",
    "theta_R = np.ones(nz)*vegTheta_R\n",
    "lambdA = np.ones(nz)*vegLambdA\n",
    "ksat = np.ones(nz)*vegKsat\n",
    "\n",
    "alpha[si:] = sealAlpha\n",
    "theta_S[si:] = sealTheta_S\n",
    "theta_R[si:] = sealTheta_R\n",
    "lambdA[si:] = sealLambdA\n",
    "ksat[si:] = sealKsat\n",
    "\n",
    "n = lambdA + 1\n",
    "m = lambdA/n\n",
    "phi = {'alpha': alpha,\n",
    "       'theta_R': theta_R,\n",
    "       'theta_S': theta_S,\n",
    "       'theta_S': theta_S,\n",
    "       'lambdA': lambdA,\n",
    "       'n': n, \n",
    "       'm': m, \n",
    "       'ksat': ksat,\n",
    "      }"
   ]
  },
  {
   "cell_type": "code",
   "execution_count": 342,
   "metadata": {
    "collapsed": false
   },
   "outputs": [],
   "source": [
    "f = open('input/vanG.dat', 'w')\n",
    "f.write('dz zmax \\n')  \n",
    "f.write('{0:<13} {1:<13}  \\n'.format(dz, zmax))\n",
    "f.write('nz \\n')  \n",
    "f.write('{0:<13}  \\n'.format(nz))\n",
    "for n in range(nz):\n",
    "    f.write('{0} {1} {2} {3} {4} \\n'.format(alpha[n], theta_S[n], theta_R[n], lambdA[n], ksat[n])) \n",
    "f.close()"
   ]
  },
  {
   "cell_type": "code",
   "execution_count": 343,
   "metadata": {
    "collapsed": false
   },
   "outputs": [
    {
     "data": {
      "text/plain": [
       "101"
      ]
     },
     "execution_count": 343,
     "metadata": {},
     "output_type": "execute_result"
    }
   ],
   "source": []
  },
  {
   "cell_type": "code",
   "execution_count": 344,
   "metadata": {
    "code_folding": [],
    "collapsed": false
   },
   "outputs": [],
   "source": [
    "# Define matrices that we'll need in solution\n",
    "\n",
    "DeltaPlus  = np.diag(-np.ones(nz)) + np.diag(np.ones(nz-1), 1)\n",
    "DeltaPlus[0,:] = 0\n",
    "DeltaPlus[nz-1,:] = 0\n",
    "\n",
    "DeltaMinus = np.diag(np.ones(nz)) + np.diag(-np.ones(nz-1),-1);\n",
    "DeltaMinus[0,:] = 0\n",
    "DeltaMinus[nz-1,:] = 0\n",
    "\n",
    "MPlus = np.diag(np.ones(nz))+np.diag(np.ones(nz-1),1)\n",
    "MPlus[0,0] = 2\n",
    "MPlus[0,1:nz-1] = 0\n",
    "MPlus[nz-1,nz-1] = 2\n",
    "MPlus[nz-1,:nz-1] = 0\n",
    "\n",
    "MMinus = np.diag(np.ones(nz)) + np.diag(np.ones(nz-1),-1)\n",
    "MMinus[0,0] = 2\n",
    "MMinus[0,1:nz-1] = 0 \n",
    "MMinus[nz-1,nz-1] = 2\n",
    "MMinus[nz-1,:nz-1] = 0 \n",
    "\n",
    "infL = 2\n",
    "if infL == 2:\n",
    "    MPlus[-2, -2] = 2\n",
    "    MPlus[-2, -1] = 0\n",
    "    "
   ]
  },
  {
   "cell_type": "code",
   "execution_count": 345,
   "metadata": {
    "collapsed": false
   },
   "outputs": [],
   "source": [
    "stop_tol = 0.00001 # Stopping tolerance [cm]\n",
    "inv = 0\n",
    "\n",
    "# Define time variables\n",
    "dt = 1. # [s]\n",
    "tmax = 100.# [s]\n",
    "t = np.arange(0, tmax + dt, dt)\n",
    "nt = t.shape[0] - 1\n",
    "prate = np.ones_like(t)*3.6/3600.\n",
    "prate[np.where(t>= 50)[0][0]:] = 0\n",
    "\n",
    "if nt != tmax/dt:\n",
    "    print 'error!'\n",
    "    print nt, ', ', tmax/dt"
   ]
  },
  {
   "cell_type": "code",
   "execution_count": 346,
   "metadata": {
    "collapsed": false
   },
   "outputs": [
    {
     "name": "stdout",
     "output_type": "stream",
     "text": [
      "\n"
     ]
    }
   ],
   "source": [
    "# ICs\n",
    "case = 'rain'\n",
    "\n",
    "ICs = {'rain':  \n",
    "       {\n",
    "       'depth': 0.,\n",
    "       'htop': -0,\n",
    "       'prate':  prate,  # cm/hr\n",
    "       'hinit':  -100*np.ones(nz),\n",
    "        },\n",
    "      'drain':  \n",
    "       {\n",
    "       'htop': 0.0,\n",
    "       'prate':  0./3600,  # cm/sec\n",
    "       'hinit':  -100*np.ones(nz),\n",
    "        },\n",
    "      'fixed_H':  \n",
    "       {\n",
    "       'depth': 0.,\n",
    "       'htop': -0.0,\n",
    "       'prate':  np.zeros_like(t)/3600.,  # cm/sec\n",
    "       'hinit':  -100.*np.ones(nz),\n",
    "        }\n",
    "      }\n",
    "\n",
    "hinit = ICs[case]['hinit']\n",
    "htop = ICs[case]['htop']\n",
    "prate = ICs[case]['prate']\n",
    "depth = ICs[case]['depth']\n",
    "hinit[-1] = htop\n",
    "from fractions import Fraction\n",
    "# fmtstr = 'dt={1}; stop_tol={2}; htop={3:.2f}cm'.format(str(Fraction(infL/2)), dt, stop_tol, htop)\n",
    "fmtstr = ''\n",
    "print fmtstr"
   ]
  },
  {
   "cell_type": "code",
   "execution_count": 347,
   "metadata": {
    "collapsed": false
   },
   "outputs": [],
   "source": [
    " def pot_infl(hnp1m, thetan, htop = 0, infL = infL, inv = inv, stop_tol = stop_tol):\n",
    "    stop_flag = 0\n",
    "    niter = 0\n",
    "\n",
    "    while(stop_flag == 0):\n",
    "        [cnp1m,knp1m,thetanp1m] = vanGenuchten(hnp1m,phi)\n",
    "        Cdiag = np.diag(cnp1m) \n",
    "        kbarplus = (1/2.)*MPlus.dot(knp1m)\n",
    "        Kbarplus = np.diag(kbarplus)\n",
    "        kbarminus = (1/2.)*MMinus.dot(knp1m)\n",
    "        Kbarminus = np.diag(kbarminus)\n",
    "        A = (1./dt)*Cdiag - 1./((dz)**2)*(Kbarplus.dot(DeltaPlus) - \n",
    "                                          Kbarminus.dot(DeltaMinus)) \n",
    "        #  Compute the residual of MPFD (RHS)\n",
    "        R_MPFD = (1./(dz**2))*(Kbarplus.dot(DeltaPlus).dot(hnp1m) - \\\n",
    "                               Kbarminus.dot(DeltaMinus).dot(hnp1m)) + \\\n",
    "             (1./dz)*(kbarplus - kbarminus) - (1./dt)*(thetanp1m - thetan); \n",
    "        # Compute deltam for iteration level m+1\n",
    "\n",
    "        if inv == 0:\n",
    "            Ainv = np.linalg.pinv(A)\n",
    "            #u, s, v = np.linalg.svd(A, full_matrices=True)\n",
    "            #Ainv = np.dot (v.transpose(), np.dot(np.diag(s**-1),u.transpose()))\n",
    "        elif inv == 1:\n",
    "            Ainv = np.linalg.inv(A)\n",
    "            \n",
    "        deltam = Ainv.dot(R_MPFD)\n",
    "\n",
    "        # Increment iteration counter and display number of iterations\n",
    "        niter = niter + 1;\n",
    "        if niter > 100.:\n",
    "            stop_tol = stop_tol*10.\n",
    "            niter = 0 \n",
    "        if (max(abs(deltam[1:(nz-1)]))<stop_tol):\n",
    "\n",
    "            stop_flag = 1\n",
    "            hnp1mp1 = hnp1m + deltam \n",
    "            hnp1mp1[0] = hnp1mp1[1]  # free drainage BC\n",
    "            hnp1mp1[-1] = htop\n",
    "            [cnp1m,knp1m,thetanp1m] = vanGenuchten(hnp1mp1,phi);\n",
    "            knp1mp1 = knp1m\n",
    "            cnp1mp1 = cnp1m            \n",
    "            hnp1m = hnp1mp1\n",
    "            kt = (knp1mp1[-infL] + knp1mp1[-2])/2.\n",
    "            PI = kt*((hnp1mp1[-1] - hnp1mp1[-2])/dz + 1.)\n",
    "        else:\n",
    "            hnp1mp1 = hnp1m + deltam\n",
    "            hnp1m = hnp1mp1\n",
    "            hnp1m[0] = hnp1m[1] \n",
    "            hnp1m[-1] = htop\n",
    "    return PI"
   ]
  },
  {
   "cell_type": "code",
   "execution_count": 348,
   "metadata": {
    "collapsed": false
   },
   "outputs": [],
   "source": [
    "def timestep(hnp1m, thetan, setflux = 1, flux = -0, htop = 0., \n",
    "              stop_tol = stop_tol, inv = inv):\n",
    "    \"\"\"\"\"\"\n",
    "    stop_flag = 0\n",
    "    niter = 0\n",
    "    while(stop_flag == 0):\n",
    "        [cnp1m,knp1m,thetanp1m] = vanGenuchten(hnp1m,phi)\n",
    "        Cdiag = np.diag(cnp1m) \n",
    "        kbarplus = (1/2.)*MPlus.dot(knp1m)\n",
    "        Kbarplus = np.diag(kbarplus)\n",
    "        kbarminus = (1/2.)*MMinus.dot(knp1m)\n",
    "        Kbarminus = np.diag(kbarminus)\n",
    "        A = (1./dt)*Cdiag - 1./((dz)**2)*(Kbarplus.dot(DeltaPlus) - \n",
    "                                          Kbarminus.dot(DeltaMinus)) \n",
    "        R_MPFD = (1./(dz**2))*(Kbarplus.dot(DeltaPlus).dot(hnp1m) - \\\n",
    "                               Kbarminus.dot(DeltaMinus).dot(hnp1m)) + \\\n",
    "                 (1./dz)*(kbarplus - kbarminus) - (1./dt)*(thetanp1m - thetan) \n",
    "\n",
    "        if inv == 0:\n",
    "            Ainv = np.linalg.pinv(A)\n",
    "        elif inv == 1:\n",
    "            Ainv = np.linalg.inv(A)\n",
    "            \n",
    "            \n",
    "        deltam = Ainv.dot(R_MPFD)\n",
    "        niter = niter + 1\n",
    "        if niter > 100.:\n",
    "            stop_tol = stop_tol*10.\n",
    "            niter = 0        \n",
    "        if (max(abs(deltam[1:-1]))<stop_tol):\n",
    "            stop_flag = 1\n",
    "            hnp1mp1 = hnp1m + deltam \n",
    "            hnp1mp1[0] = hnp1mp1[1]  # free drainage BC\n",
    "            if setflux == 1:                \n",
    "                kt = (knp1m[-infL] + knp1m[-2])/2.\n",
    "                hnp1mp1[-1] =  hnp1mp1[-2] - dz - flux*dz/kt\n",
    "            else:\n",
    "                hnp1mp1[-1] = htop\n",
    "    \n",
    "            [cnp1m, knp1m,thetanp1m] = vanGenuchten(hnp1mp1,phi);\n",
    "            knp1mp1 = knp1m\n",
    "            cnp1mp1 = cnp1m  \n",
    "            hnp1m = hnp1mp1\n",
    " \n",
    "        else:      \n",
    "            hnp1mp1 = hnp1m + deltam\n",
    "            hnp1m = hnp1mp1\n",
    "            hnp1m[0] = hnp1m[1] \n",
    "            if setflux == 1:            \n",
    "                kt = (knp1m[-infL] + knp1m[-2])/2.\n",
    "                hnp1m[-1] = hnp1m[-2] - dz - flux*dz/kt\n",
    "            else:\n",
    "                hnp1m[-1] = htop\n",
    "                     \n",
    "    errornp1 =  np.sum((A.dot(deltam)))*dt*dz\n",
    "    return hnp1mp1,cnp1mp1,knp1mp1, thetanp1m, errornp1, niter, stop_tol"
   ]
  },
  {
   "cell_type": "code",
   "execution_count": 349,
   "metadata": {
    "collapsed": false
   },
   "outputs": [],
   "source": [
    "# Define a storage container to store the pressure heads and soil moistures\n",
    "t = np.arange(0, tmax + dt, dt)\n",
    "depth = ICs[case]['depth']\n",
    "\n",
    "[Cinit,Kinit,thetainit] = vanGenuchten(hinit,phi) \n",
    "H = np.zeros([nz,nt+1])\n",
    "H[:,0] = hinit\n",
    "THETA = np.zeros([nz,nt+1])\n",
    "THETA[:,0] = thetainit\n",
    "K = np.zeros([nz,nt+1])\n",
    "K[:,0] = Kinit\n",
    "\n",
    "\n",
    "depths = np.zeros([nt])\n",
    "iterations = np.zeros([nt])\n",
    "ktop = np.zeros([nt])\n",
    "kbot = np.zeros([nt])\n",
    "error = np.zeros([nt])\n",
    "iterations = np.zeros([nt])"
   ]
  },
  {
   "cell_type": "code",
   "execution_count": 350,
   "metadata": {
    "code_folding": [],
    "collapsed": false,
    "scrolled": true
   },
   "outputs": [
    {
     "name": "stdout",
     "output_type": "stream",
     "text": [
      "t = 0.00; depth = 0.00cm; PI = 5.71cm/hr; rain = 3.60cm/hr \n",
      "t = 10.00; depth = 0.00cm; PI = 5.79cm/hr; rain = 3.60cm/hr \n",
      "t = 20.00; depth = 0.00cm; PI = 3.96cm/hr; rain = 3.60cm/hr \n",
      "ponding at time t= 22.0\n",
      "t = 30.00; depth = 0.00cm; PI = 3.60cm/hr; rain = 3.60cm/hr \n",
      "t = 40.00; depth = 0.01cm; PI = 3.60cm/hr; rain = 3.60cm/hr \n",
      "t = 50.00; depth = 0.01cm;  \n",
      "t = 60.00; depth = 0.00cm;  \n",
      "t = 70.00; depth = 0.00cm;  \n",
      "t = 80.00; depth = 0.00cm;  \n",
      "t = 90.00; depth = 0.00cm;  \n",
      "--- 3.647108078 seconds ---\n"
     ]
    }
   ],
   "source": [
    "# Define the container for an iteration counter\n",
    "tp = 0\n",
    "ponding = 1\n",
    "start_time = time.time()\n",
    "\n",
    "# Initialize the Picard iteration solver\n",
    "for i in range(0, nt): \n",
    "    \n",
    "    hnp1m =  H[:,i]  \n",
    "    thetan = THETA[:,i]   \n",
    "    if case == 'fixed_H':\n",
    "        hnp1mp1,cnp1mp1,knp1mp1, thetanp1mp1, errornp1,niter,tol = \\\n",
    "                        timestep(hnp1m,thetan, setflux = 0, htop = htop)\n",
    "\n",
    "    elif (depth <= 0) and (prate[i] > 0):\n",
    "        PI = pot_infl(hnp1m, thetan, htop = htop)\n",
    "        if  PI < prate[i]:\n",
    "            if tp == 0:\n",
    "                print 'ponding at time t=', t[i]\n",
    "                tp = i\n",
    "            flux = - PI\n",
    "            hnp1mp1,cnp1mp1,knp1mp1,thetanp1mp1,errornp1,niter,tol  = \\\n",
    "               timestep(hnp1m, thetan, setflux = 0, htop = htop)\n",
    "            if ponding == 1:\n",
    "                depth += prate[i]*dt + flux*dt\n",
    "        else:\n",
    "            flux = - prate[i]\n",
    "            hnp1mp1,cnp1mp1,knp1mp1,thetanp1mp1,errornp1,niter,tol  = \\\n",
    "               timestep(hnp1m,thetan, setflux = 1, flux = flux)\n",
    "        \n",
    "    elif (depth <= 0) and (prate[i] == 0):   \n",
    "        hnp1mp1,cnp1mp1,knp1mp1,thetanp1mp1,errornp1,niter,tol = \\\n",
    "           timestep(hnp1m,thetan, setflux = 1, flux = 0.)                \n",
    "\n",
    "    elif (depth > 0):  \n",
    "        hnp1mp1,cnp1mp1,knp1mp1,thetanp1mp1,errornp1,niter,tol  = \\\n",
    "                        timestep(hnp1m,thetan,  setflux = 0, htop = depth)\n",
    "        # infl =  (knp1mp1[-infL] + knp1mp1[-2])/2.*((hnp1mp1[-1] - hnp1mp1[-2])/dz + 1.)*dt \n",
    "        kt = (knp1mp1[-infL] + knp1mp1[-2])/2.       \n",
    "        if ponding == 1:\n",
    "            depth +=  prate[i]*dt - kt*((hnp1mp1[-1] - hnp1mp1[-2])/dz + 1.)*dt \n",
    "     \n",
    "    if depth <0.:\n",
    "        depth = 0.\n",
    "    \n",
    "    THETA[:,i+1] = thetanp1mp1\n",
    "    H[:,i+1] = hnp1mp1\n",
    "    K[:,i+1] = knp1mp1\n",
    "    \n",
    "    kbot[i] =  (K[1, i+1] + K[0, i+1])/2.  \n",
    "    ktop[i] =  (K[-infL, i+1] + K[-2, i+1])/2.  \n",
    "    error[i] = errornp1\n",
    "    iterations[i] = niter\n",
    "    depths[i] = depth\n",
    "    \n",
    "    if np.mod(i,10) == 0:  \n",
    "        if prate[i] > 0:\n",
    "            print 't = {0:.2f}; depth = {1:.2f}cm; PI = {2:.2f}cm/hr; rain = {3:.2f}cm/hr '.format(\n",
    "                 t[i], depth, PI*3600,prate[i]*3600)\n",
    "        else:\n",
    "            print 't = {0:.2f}; depth = {1:.2f}cm;  '.format(\n",
    "                 t[i], depth)\n",
    "\n",
    "t_elapse = (time.time() - start_time)\n",
    "print(\"--- %s seconds ---\" % (time.time() - start_time))\n",
    "\n"
   ]
  },
  {
   "cell_type": "code",
   "execution_count": 351,
   "metadata": {
    "collapsed": false
   },
   "outputs": [],
   "source": [
    "newmass =  (THETA[:, 1:] - THETA[:, :-1]).sum(0)*dz   #  change in mass      \n",
    "\n",
    "t = t[1:]\n",
    "H = H[:, 1:]\n",
    "THETA = THETA[:, 1:]\n",
    "K = K[:, 1:]"
   ]
  },
  {
   "cell_type": "code",
   "execution_count": 352,
   "metadata": {
    "collapsed": false
   },
   "outputs": [],
   "source": [
    "fluxin = ktop*((H[-1]-H[-2])/dz + 1.)*dt   # top flux (cm)\n",
    "fluxout = - kbot*((H[1] - H[0])/dz + 1. )*dt # bottom flux (cm)\n"
   ]
  },
  {
   "cell_type": "code",
   "execution_count": 353,
   "metadata": {
    "collapsed": false
   },
   "outputs": [],
   "source": [
    "if case == 'fixed_H':\n",
    "    fig = plt.figure(1, figsize = (11,4)); \n",
    "    Ksati = ksat[-1]\n",
    "    plt.subplot(121)\n",
    "    plt.plot(t, 2*(fluxin - Ksati)*t**.5)\n",
    "    np.mean(2*(fluxin - Ksati)*t**.5)\n",
    "    plt.subplot(122)\n",
    "    S0i = .006\n",
    "    plt.plot(t, fluxin/dt )\n",
    "    plt.plot(t, 0.5*S0i*t**(-.5) + Ksati)"
   ]
  },
  {
   "cell_type": "code",
   "execution_count": 354,
   "metadata": {
    "collapsed": false
   },
   "outputs": [
    {
     "data": {
      "image/png": "[encoded data removed]",
      "text/plain": [
       "<matplotlib.figure.Figure at 0x11c14d690>"
      ]
     },
     "metadata": {},
     "output_type": "display_data"
    }
   ],
   "source": [
    "fig = plt.figure(1, figsize = (11,4)); \n",
    "ax = plt.subplot(121)\n",
    "plt.subplots_adjust(wspace = .3)\n",
    "plt.xlabel('Pressure head [cm]',  fontsize = 10)\n",
    "plt.plot(hinit,z, label = 't=0'.format(t[0]), lw = 1.5)\n",
    "plt.ylabel('Depth [cm]',fontsize=  11)\n",
    "plt.xlim( np.min(H)-2,  np.max(H)+2)\n",
    "plt.title('Pressure head vs. depth', fontsize=  11)\n",
    "\n",
    "ax = plt.subplot(122)\n",
    "plt.xlabel('Soil moisture $cm^3/cm^3$',fontsize=  11)\n",
    "plt.ylabel('Depth [cm]',fontsize=  11)\n",
    "plt.plot(thetainit,z, label = 't=0'.format(t[0]), lw = 1.5)\n",
    "plt.title('Soil moisture vs. depth',fontsize=  11)\n",
    "\n",
    "for i in np.arange(0, tmax+1, tmax/4, dtype = int)[1:]-1:\n",
    "    ax = plt.subplot(121)\n",
    "    plt.plot(H[:, i], z, label = '{0:.0f}'.format(t[i]), lw = 1.5)\n",
    "    plt.legend(loc = 'best', fontsize = 10)\n",
    "    ax = plt.subplot(122)\n",
    "    plt.plot(THETA[:, i], z, label = '{0:.0f}'.format(t[i]), lw = 1.5)\n",
    "    plt.legend(loc = 'best', fontsize = 10)\n",
    "title = plt.suptitle(fmtstr, fontsize = 10); title.set_y(1.01) "
   ]
  },
  {
   "cell_type": "code",
   "execution_count": 355,
   "metadata": {
    "collapsed": false
   },
   "outputs": [
    {
     "name": "stdout",
     "output_type": "stream",
     "text": [
      "100\n"
     ]
    }
   ],
   "source": [
    "tt = []\n",
    "depthf = []\n",
    "for line in open(\"output/depth.out\", 'r'):\n",
    "    a = (line.strip().split(\" \"))\n",
    "    a = [float(b) for b in a if b]\n",
    "#     if  len( np.where(a[0] == t)[0]):\n",
    "#       print np.where(a[0] == t)[0][0]\n",
    "    tt.append(a[0])\n",
    "    depthf.append(a[1])\n",
    "        \n",
    "print len(tt)"
   ]
  },
  {
   "cell_type": "code",
   "execution_count": 356,
   "metadata": {
    "collapsed": false
   },
   "outputs": [
    {
     "data": {
      "text/plain": [
       "[<matplotlib.lines.Line2D at 0x11c120350>]"
      ]
     },
     "execution_count": 356,
     "metadata": {},
     "output_type": "execute_result"
    },
    {
     "data": {
      "image/png": "[encoded data removed]",
      "text/plain": [
       "<matplotlib.figure.Figure at 0x11bf49990>"
      ]
     },
     "metadata": {},
     "output_type": "display_data"
    }
   ],
   "source": [
    "# plt.plot(tt, depthf - depths/100.)\n",
    "plt.plot(tt, depthf, '-')\n",
    "plt.plot(t[1:], depths[1:]/100.)"
   ]
  },
  {
   "cell_type": "code",
   "execution_count": 357,
   "metadata": {
    "collapsed": false
   },
   "outputs": [],
   "source": [
    "# code to check solution\n",
    "t1 =  np.zeros([nz])\n",
    "\n",
    "for line in open(\"output/test.out\", 'r'):\n",
    "    a = (line.strip().split(\" \"))\n",
    "    a = [float(b) for b in a if b]\n",
    "    l = int(a[0])-1\n",
    "    t1[l] = a[1]"
   ]
  },
  {
   "cell_type": "code",
   "execution_count": 358,
   "metadata": {
    "collapsed": false
   },
   "outputs": [
    {
     "data": {
      "text/plain": [
       "8.4932061383824475e-15"
      ]
     },
     "execution_count": 358,
     "metadata": {},
     "output_type": "execute_result"
    }
   ],
   "source": [
    "max((t1 - THETA[:, -1]))"
   ]
  },
  {
   "cell_type": "code",
   "execution_count": 359,
   "metadata": {
    "collapsed": false,
    "scrolled": true
   },
   "outputs": [
    {
     "data": {
      "text/plain": [
       "<matplotlib.text.Text at 0x11c63c510>"
      ]
     },
     "execution_count": 359,
     "metadata": {},
     "output_type": "execute_result"
    },
    {
     "data": {
      "image/png": "[encoded data removed]",
      "text/plain": [
       "<matplotlib.figure.Figure at 0x11c14d090>"
      ]
     },
     "metadata": {},
     "output_type": "display_data"
    }
   ],
   "source": [
    "fig = plt.figure(1, figsize = (4.,3.5)); \n",
    "plt.plot((t1 - THETA[:, -1]),z)\n",
    "# plt.plot(THETA[:, -1],z)\n",
    "# plt.plot(t1,z )\n",
    "plt.title('Final theta (fortran - python) \\n {0}'.format(fmtstr), fontsize = 10)"
   ]
  },
  {
   "cell_type": "code",
   "execution_count": 360,
   "metadata": {
    "collapsed": true
   },
   "outputs": [],
   "source": [
    "plotscale = 'depth'\n",
    "if plotscale == 'rate':\n",
    "    scale = 3600./dt\n",
    "    ylabel = 'rate [cm/hr]'\n",
    "elif plotscale == 'depth':\n",
    "    scale = 1\n",
    "    ylabel = 'cm'"
   ]
  },
  {
   "cell_type": "code",
   "execution_count": 361,
   "metadata": {
    "collapsed": false
   },
   "outputs": [
    {
     "data": {
      "text/plain": [
       "<matplotlib.legend.Legend at 0x11c0e3d10>"
      ]
     },
     "execution_count": 361,
     "metadata": {},
     "output_type": "execute_result"
    },
    {
     "data": {
      "image/png": "[encoded data removed]",
      "text/plain": [
       "<matplotlib.figure.Figure at 0x11c771290>"
      ]
     },
     "metadata": {},
     "output_type": "display_data"
    }
   ],
   "source": [
    "#  cumulative error\n",
    "fig = plt.figure(1, figsize = (7,3.))\n",
    "plt.title('Cumulative mass error \\n ({0})'.format(fmtstr), fontsize = 10)\n",
    "plt.plot(t, np.cumsum(fluxin - newmass + fluxout ), '-', label =  'uncorrected')\n",
    "plt.plot(t, np.cumsum(fluxin - newmass + fluxout - error), '-', label =  'corrected')\n",
    "plt.xlabel('time (s)'); plt.ylabel('error [cm]')\n",
    "plt.legend(loc = 'best', fontsize = 10)\n",
    "# fig.savefig('case_{1}/error {0}.pdf'.format(fmtstr, case))"
   ]
  },
  {
   "cell_type": "code",
   "execution_count": 362,
   "metadata": {
    "collapsed": false
   },
   "outputs": [
    {
     "data": {
      "text/plain": [
       "<matplotlib.text.Text at 0x11c9d1a90>"
      ]
     },
     "execution_count": 362,
     "metadata": {},
     "output_type": "execute_result"
    },
    {
     "data": {
      "image/png": "[encoded data removed]",
      "text/plain": [
       "<matplotlib.figure.Figure at 0x11c128290>"
      ]
     },
     "metadata": {},
     "output_type": "display_data"
    }
   ],
   "source": [
    "# flux rates\n",
    "fig = plt.figure(1, figsize = (7,3.7))\n",
    "plt.title('Mass balance components ({0})'.format(fmtstr), fontsize = 11)\n",
    "plt.plot(t, fluxout*scale, label = 'flux out')\n",
    "plt.plot(t, fluxin*scale, '-', ms = 1, label = 'flux in')\n",
    "plt.plot(t, error*scale, '--',  label = 'error')\n",
    "plt.plot(t, newmass*scale, '-.', lw = 1, label = 'mass change')\n",
    "plt.legend(loc = 'best', fontsize = 10)\n",
    "plt.xlabel('time [s]') \n",
    "plt.ylabel(ylabel)\n",
    "# fig.savefig('case_{1}/flux rates {0}.pdf'.format(fmtstr, case))"
   ]
  }
 ],
 "metadata": {
  "anaconda-cloud": {},
  "kernelspec": {
   "display_name": "Python [default]",
   "language": "python",
   "name": "python2"
  },
  "language_info": {
   "codemirror_mode": {
    "name": "ipython",
    "version": 2
   },
   "file_extension": ".py",
   "mimetype": "text/x-python",
   "name": "python",
   "nbconvert_exporter": "python",
   "pygments_lexer": "ipython2",
   "version": "2.7.12"
  }
 },
 "nbformat": 4,
 "nbformat_minor": 0
}
