{
 "cells": [
  {
   "cell_type": "code",
   "execution_count": 1,
   "metadata": {
    "collapsed": true,
    "scrolled": true
   },
   "outputs": [],
   "source": [
    "import numpy as np\n",
    "import matplotlib.pylab as plt\n",
    "plt.style.use('ggplot')\n",
    "import time\n",
    "import scipy.io\n",
    "from scipy import interpolate\n",
    "from commands import getoutput as cmd\n",
    "import scipy.optimize\n",
    "import shutil\n",
    "import scipy as sp\n",
    "from  scipy.ndimage.filters import gaussian_filter\n",
    "\n",
    "\n",
    "def myfloat(b):\n",
    "    try: \n",
    "        b = float(b)\n",
    "    except ValueError:\n",
    "        print b\n",
    "        b = [b for b in b.split('-') if b]\n",
    "        b = float(b[0])*10**(-float(b[1]))\n",
    "    return b\n",
    "\n"
   ]
  },
  {
   "cell_type": "code",
   "execution_count": 2,
   "metadata": {
    "collapsed": true
   },
   "outputs": [],
   "source": [
    "# import python packages and inline animation functions\n",
    "import matplotlib as mpl\n",
    "from matplotlib.pylab import plot, pcolor, imshow\n",
    "from matplotlib import animation\n",
    "\n",
    "def _blit_draw(self, artists, bg_cache):\n",
    "    # Handles blitted drawing, which renders only the artists given instead\n",
    "    # of the entire figure.\n",
    "    updated_ax = []\n",
    "    for a in artists:\n",
    "        # If we haven't cached the background for this axes object, do\n",
    "        # so now. This might not always be reliable, but it's an attempt\n",
    "        # to automate the process.\n",
    "        if a.axes not in bg_cache:\n",
    "            # bg_cache[a.axes] = a.figure.canvas.copy_from_bbox(a.axes.bbox)\n",
    "            # change here\n",
    "            bg_cache[a.axes] = a.figure.canvas.copy_from_bbox(a.axes.figure.bbox)\n",
    "        a.axes.draw_artist(a)\n",
    "        updated_ax.append(a.axes)\n",
    "\n",
    "    # After rendering all the needed artists, blit each axes individually.\n",
    "    for ax in set(updated_ax):\n",
    "        # and here\n",
    "        # ax.figure.canvas.blit(ax.bbox)\n",
    "        ax.figure.canvas.blit(ax.figure.bbox)\n",
    "\n",
    "# MONKEY PATCH!!\n",
    "animation.Animation._blit_draw = _blit_draw\n",
    "from tempfile import NamedTemporaryFile\n",
    "\n",
    "\n",
    "\n",
    "VIDEO_TAG = \"\"\"<video controls>\n",
    " <source src=\"data:video/x-m4v;base64,{0}\" type=\"video/mp4\">\n",
    " Your browser does not support the video tag.\n",
    "</video>\"\"\"\n",
    "\n",
    "def anim_to_html(anim):\n",
    "    if not hasattr(anim, '_encoded_video'):\n",
    "        with NamedTemporaryFile(suffix='.mp4') as f:\n",
    "            anim.save(f.name, fps=20, extra_args=['-vcodec', 'libx264'])\n",
    "            video = open(f.name, \"rb\").read()\n",
    "        anim._encoded_video = video.encode(\"base64\")\n",
    "\n",
    "    return VIDEO_TAG.format(anim._encoded_video)\n",
    "\n",
    "from IPython.display import HTML\n",
    "\n",
    "def display_animation(anim):\n",
    "    plt.close(anim._fig)\n",
    "    return HTML(anim_to_html(anim))\n"
   ]
  },
  {
   "cell_type": "code",
   "execution_count": 3,
   "metadata": {
    "collapsed": true
   },
   "outputs": [],
   "source": [
    "%matplotlib inline"
   ]
  },
  {
   "cell_type": "markdown",
   "metadata": {},
   "source": [
    "### Functions to write the input files for dry.f"
   ]
  },
  {
   "cell_type": "code",
   "execution_count": 4,
   "metadata": {
    "code_folding": [],
    "collapsed": false
   },
   "outputs": [],
   "source": [
    "def write_prate(folder = 'test', tmax = 100, dt_sw = 1., rain = 0.036/3600.):\n",
    "    t = np.arange(0., tmax + dt_sw, dt_sw)\n",
    "    nt_sw = t.shape[0]-1\n",
    "    prate = np.ones_like(t)*rain\n",
    "    prate[np.where(t>=tr)[0][0]:] = 0\n",
    "\n",
    "    f = open('{0}/prate.dat'.format(folder), 'w')\n",
    "\n",
    "    f.write('{0:<13} \\n'.format(nt_sw))\n",
    "    for n in range( nt_sw +1):\n",
    "        f.write('{0} {1} \\n'.format(t[n], prate[n])) \n",
    "\n",
    "    f.close()\n",
    "    return nt_sw\n",
    "\n",
    "# nt_sw = write_prate(folder = folder, tmax = tmax, dt_sw = dt_sw, rain = rain)"
   ]
  },
  {
   "cell_type": "code",
   "execution_count": 5,
   "metadata": {
    "code_folding": [],
    "collapsed": false,
    "scrolled": true
   },
   "outputs": [],
   "source": [
    "def write_coords(folder = 'test', ncol = 2, nrow = 2, dx = 1, \n",
    "                 slope = 0., xni = 0.03, xnv = 0.03, seed = 0 ):        \n",
    "    np.random.seed(seed)\n",
    "    npt = (ncol+1)*(nrow+1)  # number of points\n",
    "    ne = nrow*ncol  # number of edges\n",
    "    nbcell = 2*ncol + 2*nrow - 4  # number of boundary cells\n",
    "    \n",
    "    xdum = np.arange(0, (ncol+1)*dx - 1e-10, dx )\n",
    "    ydum = np.arange(0, (nrow+1)*dx - 1e-10, dx )\n",
    "    ydum, xdum = np.meshgrid(ydum, xdum)\n",
    "\n",
    "    zymax = slope*(np.max(ydum) - np.min(ydum))\n",
    "    zxmax = slope*(np.max(xdum) - np.min(xdum))/4.\n",
    "    \n",
    "    rowN = sp.randn(nrow+1)/10.\n",
    "    zrow =  gaussian_filter(rowN, 2, order=1, \\\n",
    "                            output=None, cval=0.0, truncate=20.0)\n",
    "    zrow = zrow + np.linspace(0,zymax, nrow+1)\n",
    "\n",
    "    colN = sp.randn(ncol+1)/10.\n",
    "    zcol =  gaussian_filter(colN, 2, order=1, \\\n",
    "                            output=None, cval=0.0, truncate=20.0)\n",
    "    zcol = zcol + np.abs(np.linspace(-zxmax, zxmax, ncol+1))\n",
    "    \n",
    "    zrow2 = np.tile(zrow, [ncol+1]).reshape([ncol+1, nrow+1])\n",
    "    zcol2 = np.tile(zcol, [nrow+1]).reshape([nrow+1, ncol+1])\n",
    "\n",
    "\n",
    "    #zdum = np.linspace(0, zymax, nrow+1)\n",
    "    #zdum = np.tile(zdum, [ncol+1]).reshape([ncol+1, nrow+1])\n",
    "    \n",
    "    zdum = zrow2+ zcol2.T\n",
    "    zdum[:, 0] = zdum[:, 1] - slope\n",
    "    \n",
    "    plt.imshow(zdum)\n",
    "    xndum = np.ones_like(zdum)*xni    \n",
    "    xndum[:, :nrow/2]  = xnv\n",
    "    isveg_dum = np.zeros_like(zdum)\n",
    "    \n",
    "    x = np.zeros(npt + 1)\n",
    "    y = np.zeros(npt + 1)\n",
    "    z = np.zeros(npt + 1)\n",
    "    xn = np.zeros(npt + 1)\n",
    "    isveg = np.zeros(npt + 1)\n",
    "\n",
    "    x[1:] = xdum.ravel()\n",
    "    y[1:] = ydum.ravel()\n",
    "    z[1:] = zdum.ravel()\n",
    "    xn[1:] = xndum.ravel()\n",
    "    isveg[1:] = isveg_dum.ravel()\n",
    "\n",
    "    # print (np.max(zdum) - np.min(zdum))/(np.max(ydum) - np.min(ydum))*100\n",
    "    # (ncol+1) by (nrow+1)  -  node numbers\n",
    "    nodes = np.arange(1, npt+1, dtype = int).reshape([ncol+1, nrow+1])\n",
    "\n",
    "    nop = np.zeros([ncol+1, nrow+1, 4], dtype = int)\n",
    "    for j in range(ncol):\n",
    "        for k in range(nrow):\n",
    "            nop[j+1, k+1] =  nodes[j,k], nodes[j+1, k], nodes[j+1,k+1], nodes[j,k+1]\n",
    "           \n",
    "\n",
    "    fname = '{0}/coords.dat'.format(folder)\n",
    "    f = open(fname, 'w')\n",
    "    f.write('{0:<13}   {1:<13}\\n'.format(npt, ne))\n",
    "\n",
    "    # write x, y, z\n",
    "    for n in range(1, npt+1):\n",
    "        f.write('{0:<13.6f} {1:<13.6f} {2:<13.6f} {3:<13.6e} {4:<13.6e}  \\n'.format(\n",
    "                    x[n],y[n],z[n],xn[n],isveg[n])) \n",
    "\n",
    "    # write node numbers  \n",
    "    for j in range(1, ncol+1):\n",
    "        for k in range(1, nrow+1):\n",
    "            n1 = nop[j, k, 0] \n",
    "            n2 = nop[j, k, 1]       \n",
    "            n3 = nop[j, k, 2]        \n",
    "            n4 = nop[j, k, 3] \n",
    "            f.write('{0:<10} {1:<10}  {2:<10} {3:<10}\\n'.format(n1, n2, n3, n4)) \n",
    "    f.close()  \n",
    "\n",
    "    # get cell center values:\n",
    "    xcc  = np.zeros([ncol+2, nrow+2])    \n",
    "    ycc  = np.zeros([ncol+2, nrow+2])\n",
    "    zcc  = np.zeros([ncol+2, nrow+2])\n",
    "    xncc  = np.zeros([ncol+2, nrow+2])\n",
    "\n",
    "    for j in range(1, ncol+1):\n",
    "        for k in range(1, nrow+1):\n",
    "            n1 = nop[j, k, 0] \n",
    "            n2 = nop[j, k, 1]       \n",
    "            n3 = nop[j, k, 2]        \n",
    "            n4 = nop[j, k, 3]  \n",
    "            xcc[j,k] = 0.25*(x[n1] + x[n2] + x[n3] + x[n4])  \n",
    "            ycc[j,k] = 0.25*(y[n1] + y[n2] + y[n3] + y[n4])\n",
    "            zcc[j,k] = 0.25*(z[n1] + z[n2] + z[n3] + z[n4])   \n",
    "            xncc[j,k] = 0.25*(xn[n1] + xn[n2] + xn[n3] + xn[n4])   \n",
    "                \n",
    "    return xcc, ycc, zcc, xncc\n"
   ]
  },
  {
   "cell_type": "code",
   "execution_count": 6,
   "metadata": {
    "code_folding": [],
    "collapsed": false
   },
   "outputs": [],
   "source": [
    "# xcc, ycc, zcc, xncc = write_coords(folder = folder,ncol = ncol, nrow = nrow, dx = dx, slope = slope, xni = xni)"
   ]
  },
  {
   "cell_type": "code",
   "execution_count": 7,
   "metadata": {
    "code_folding": [],
    "collapsed": false,
    "scrolled": true
   },
   "outputs": [],
   "source": [
    "def write_param(folder= 'test',  dt = 1, \n",
    "                 tmax = 100,  nprt = 1, epsh = 0.0025,\n",
    "                 iscale= 1, ifixh = 0, stop_tol = 1e-5, depth = 0.):\n",
    "    \n",
    "    fname = '{0}/params.dat'.format(folder)    \n",
    "    f = open(fname, 'w')\n",
    "    f.write('gravity     dt        tmax    \\n')\n",
    "    f.write('9.806d0     {0}       {1}     \\n'.format(dt, tmax))\n",
    "    f.write(' epsh      beta     \\n')  \n",
    "    f.write('{0}      1.d0     \\n'.format(epsh))\n",
    "    f.write('xk          nprt      \\n')\n",
    "    f.write('3.9217d-4   {1}       \\n'.format(tr, nprt))   \n",
    "    f.write(' iscouple    ifixh \\n')\n",
    "    f.write(' {0}        {1} \\n'.format( iscouple, ifixh))   \n",
    "    f.write(' iscale   \\n')\n",
    "    f.write(' {0}       \\n'.format( iscale))  \n",
    "    f.write(' stop_tol   \\n')\n",
    "    f.write(' {0}       \\n'.format( stop_tol))      \n",
    "    f.write('h0      u0    v0   \\n ')\n",
    "    f.write('{0}    0.0    0.0  \\n '.format(depth))\n",
    "    f.close()"
   ]
  },
  {
   "cell_type": "code",
   "execution_count": 8,
   "metadata": {
    "code_folding": [],
    "collapsed": true,
    "scrolled": true
   },
   "outputs": [],
   "source": [
    "def write_dryin(folder= 'test', ncol = 2, nrow = 2):\n",
    "    inum = np.zeros([ncol+1, nrow+1], dtype = int)\n",
    "    inum[1:, 1] = 1\n",
    "    inum[1:, -1]= 1\n",
    "    inum[1, 1:] = 1\n",
    "    inum[-1, 1:] = 1\n",
    "    inum[1, 1] = 2\n",
    "    inum[1, -1] = 2\n",
    "    inum[-1, -1] = 2\n",
    "    inum[-1, 1] = 2\n",
    "    \n",
    "    ipos = np.zeros( [ncol+1, nrow+1, 2], dtype = int)\n",
    "    # bottom boundary\n",
    "    ipos[2:-1, 1,0] = 1\n",
    "    ipos[1, 1,1] = 1\n",
    "    ipos[-1, 1,1] = 1\n",
    "\n",
    "    # right boundary\n",
    "    ipos[-1, 1:-1, 0] = 2\n",
    "    ipos[-1, -1,1] = 2\n",
    "\n",
    "    # left boundary\n",
    "    ipos[1, 1:, 0] = 4\n",
    "\n",
    "    # top boundary\n",
    "    ipos[2:, -1,0] = 3\n",
    "    ipos[1, -1,1] = 3\n",
    "    \n",
    "    itype = np.zeros([ncol+1, nrow+1, 2], dtype = int)\n",
    "    # bottom boundary\n",
    "    itype[2:-1, 1,0] = 0\n",
    "    itype[1, 1,1] = 0\n",
    "    itype[-1, 1,1] = 0\n",
    "\n",
    "    # right boundary\n",
    "    itype[-1, 1:-1, 0] = 1\n",
    "    itype[-1, -1,1] = 1\n",
    "\n",
    "    # left boundary\n",
    "    itype[1, 1:,0] = 1\n",
    "\n",
    "    # top boundary\n",
    "    itype[2:, -1,0] = 1\n",
    "    itype[1, -1,1] = 1\n",
    "    \n",
    "    npt = (ncol+1)*(nrow+1)  # number of points\n",
    "    ne = nrow*ncol  # number of edges\n",
    "    nbcell = 2*ncol + 2*nrow - 4  # number of boundary cells\n",
    "    \n",
    "    fname = '{0}/boundary.dat'.format(folder)    \n",
    "    f = open(fname, 'w')\n",
    "    f.write('number of boundary cell \\n') \n",
    "    f.write('  {0} \\n'.format(nbcell))\n",
    "    f.write(' j    k          inum    itype             ipos \\n')\n",
    "    # f.write(' j \\t k \\tinum    itype \\t\\t ipos')\n",
    "    j = 1\n",
    "    for k in range(1, nrow+1):\n",
    "        if inum[j, k] == 2:\n",
    "            f.write( '{0:<5} {1:<13} {2:<7} {3:<8} {4:<9} {5:<8} {6:<6} \\n'.format(\n",
    "                        j, k, inum[j, k], itype[j, k, 0], itype[j, k, 1], \n",
    "                         ipos[j, k, 0], ipos[j, k, 1]))\n",
    "        else:\n",
    "            f.write( '{0:<5} {1:<13} {2:<7} {3:<18} {4:<10}   \\n'.format(\n",
    "                         j, k, inum[j, k],  itype[j, k, 0],  ipos[j, k, 0], ))\n",
    "\n",
    "    for j in range(2, ncol+1):\n",
    "        if inum[j, k] == 2:\n",
    "            f.write( '{0:<5} {1:<13} {2:<7} {3:<8} {4:<9} {5:<8} {6:<6} \\n'.format(\n",
    "                        j, k, inum[j, k], itype[j, k, 0], itype[j, k, 1], \n",
    "                         ipos[j, k, 0], ipos[j, k, 1]))\n",
    "        else:\n",
    "            f.write( '{0:<5} {1:<13} {2:<7} {3:<18} {4:<10}   \\n'.format(\n",
    "                         j, k, inum[j, k],  itype[j, k, 0],  ipos[j, k, 0], ))\n",
    "\n",
    "    for k in range(nrow-1,0,-1):\n",
    "        if inum[j, k] == 2:\n",
    "            f.write( '{0:<5} {1:<13} {2:<7} {3:<8} {4:<9} {5:<8} {6:<6} \\n'.format(\n",
    "                        j, k, inum[j, k], itype[j, k, 0], itype[j, k, 1], \n",
    "                         ipos[j, k, 0], ipos[j, k, 1]))\n",
    "        else:\n",
    "            f.write( '{0:<5} {1:<13} {2:<7} {3:<18} {4:<10}   \\n'.format(\n",
    "                         j, k, inum[j, k],  itype[j, k, 0],  ipos[j, k, 0], ))\n",
    "            \n",
    "    for j in range(ncol-1,1,-1):\n",
    "        if inum[j, k] == 2:\n",
    "            f.write( '{0:<5} {1:<13} {2:<7} {3:<8} {4:<9} {5:<8} {6:<6} \\n'.format(\n",
    "                        j, k, inum[j, k], itype[j, k, 0], itype[j, k, 1], \n",
    "                         ipos[j, k, 0], ipos[j, k, 1]))\n",
    "        else:\n",
    "            f.write( '{0:<5} {1:<13} {2:<7} {3:<18} {4:<10}   \\n'.format(\n",
    "                         j, k, inum[j, k],  itype[j, k, 0],  ipos[j, k, 0], ))\n",
    "\n",
    "    kbeg = np.ones(ncol+1, dtype = int)\n",
    "    kend = np.ones(ncol+1, dtype = int)*nrow\n",
    "   \n",
    "    f.write('ncol\\n')\n",
    "    f.write(\"{0}\\n\".format(ncol))\n",
    "    f.write('nrow\\n')\n",
    "    f.write(\"{0}\\n\".format(nrow))    \n",
    "    f.write('j     kbeg          kend \\n')\n",
    "    for j in range(1, ncol+1):\n",
    "        f.write( '{0:>5}  {1:>5} {2:>13}   \\n'.format(\n",
    "                    j, kbeg[j],kend[k] ))\n",
    "\n",
    "    f.close()\n",
    "    return inum, ipos, itype"
   ]
  },
  {
   "cell_type": "markdown",
   "metadata": {},
   "source": [
    "### Function to create phi and write it to a file:"
   ]
  },
  {
   "cell_type": "code",
   "execution_count": 9,
   "metadata": {
    "code_folding": [],
    "collapsed": false
   },
   "outputs": [],
   "source": [
    "def write_phi(folder= 'test', dz = 0.2, zmin = 0, zmax = 20, z = 0, zs = 4,\n",
    "             infL = 2):\n",
    "        # Define van Genuchten parameters\n",
    "        # veg areas / below the seal layer\n",
    "        vegAlpha   = 0.0096  \n",
    "        vegTheta_S = 0.472  \n",
    "        vegTheta_R = 0.0378  \n",
    "        vegLambdA  = 0.318 \n",
    "        vegn       = vegLambdA + 1\n",
    "        vegm       = vegLambdA/vegn\n",
    "        vegKsat    = 3.38/3600. \n",
    "\n",
    "        # Seal layer\n",
    "        sealAlpha   = 0.0078  \n",
    "        sealTheta_S = 0.450  \n",
    "        sealTheta_R = 0.0394  \n",
    "        sealLambdA  = 0.263  \n",
    "        sealn       = sealLambdA + 1\n",
    "        sealm       = sealLambdA/sealn\n",
    "        sealKsat    = 0.19/3600. \n",
    "    \n",
    "        si = np.where(z == z[-1] - zs)[0][0]  \n",
    "        nz = z.shape[0]\n",
    "        alpha = np.ones(nz)*vegAlpha\n",
    "        theta_S = np.ones(nz)*vegTheta_S\n",
    "        theta_R = np.ones(nz)*vegTheta_R\n",
    "        lambdA = np.ones(nz)*vegLambdA\n",
    "        ksat = np.ones(nz)*vegKsat\n",
    "\n",
    "        alpha[si:] = sealAlpha\n",
    "        theta_S[si:] = sealTheta_S\n",
    "        theta_R[si:] = sealTheta_R\n",
    "        lambdA[si:] = sealLambdA\n",
    "        ksat[si:] = sealKsat\n",
    "\n",
    "        n = lambdA + 1\n",
    "        m = lambdA/n\n",
    "        \n",
    "        phi = {'alpha': alpha,\n",
    "               'theta_R': theta_R,\n",
    "               'theta_S': theta_S,\n",
    "               'theta_S': theta_S,\n",
    "               'lambdA': lambdA,\n",
    "               'n': n, \n",
    "               'm': m, \n",
    "               'ksat': ksat,\n",
    "              }\n",
    "        \n",
    "        f = open('{0}/vanG.dat'.format(folder), 'w')\n",
    "        f.write('infL \\n')  \n",
    "        f.write('{0:<13}  \\n'.format(infL))\n",
    "        f.write('dz zmax \\n')  \n",
    "        f.write('{0:<13} {1:<13}  \\n'.format(dz, zmax))\n",
    "        f.write('nz \\n')  \n",
    "        f.write('{0:<13}  \\n'.format(nz))\n",
    "        for n in range(nz):\n",
    "            f.write('{0} {1} {2} {3} {4} {5} \\n'.format(alpha[n],theta_S[n], \n",
    "                                        theta_R[n],lambdA[n],ksat[n],hinit[n])) \n",
    "        f.close()\n",
    "        \n",
    "        return phi"
   ]
  },
  {
   "cell_type": "markdown",
   "metadata": {},
   "source": [
    "### Function to avoid allocating to much space "
   ]
  },
  {
   "cell_type": "code",
   "execution_count": 10,
   "metadata": {
    "code_folding": [
     0
    ],
    "collapsed": false
   },
   "outputs": [],
   "source": [
    "def write_inc(folder= 'test', nt = 100, nz = 101, ncol = 2, nrow = 2):\n",
    "    #  Avoid allocating to much space \n",
    "\n",
    "    with open('dry0.inc', 'r') as input_file, open('{0}/dry.inc'.format(folder), 'w') as output_file:\n",
    "        for line in input_file:\n",
    "            if line[6:15] == 'parameter':\n",
    "                # print 'old line:', line\n",
    "                a = (line.strip().split(\" \")[2].split(\",\"))\n",
    "                nn0 = int(a[0].split('=')[-1])\n",
    "                nt0 = int(a[1].split('=')[-1])\n",
    "                nx0 = int(a[2].split('=')[-1])\n",
    "                ny0 = int(a[3].split('=')[-1])\n",
    "                nz0 = int(a[4].split('=')[-1])\n",
    "\n",
    "                newline = '      parameter ( nn={0},ntp={1},nx={2},ny={3},nz={4} )'.format(\n",
    "                     (ncol+1)*(nrow+1)+1, nt+1, ncol+2, nrow+2, nz)\n",
    "\n",
    "                #newline = '      parameter ( nn={0},ntp={1},nx={2},ny={3},nz={4} )'.format(\n",
    "                #     nn0, nt0, nx0, ny0, nz)\n",
    "\n",
    "                #print 'new line:', newline\n",
    "                output_file.write(newline)\n",
    "            else:\n",
    "                output_file.write(line)\n"
   ]
  },
  {
   "cell_type": "markdown",
   "metadata": {},
   "source": [
    "###  Richards functions"
   ]
  },
  {
   "cell_type": "code",
   "execution_count": 11,
   "metadata": {
    "code_folding": [
     0
    ],
    "collapsed": true
   },
   "outputs": [],
   "source": [
    "def vanGenuchten(h,phi) :\n",
    "    alpha   = phi['alpha']\n",
    "    theta_S = phi['theta_S']\n",
    "    theta_R = phi['theta_R']\n",
    "    n       = phi['n']\n",
    "    m       = phi['m']\n",
    "    Ksat    = phi['ksat'] \n",
    "    # Compute the volumetric moisture content\n",
    "    theta = (theta_S - theta_R)/(1 + (alpha*abs(h))**n)**m + theta_R\n",
    "    # Compute the effective saturation\n",
    "    Se = ((theta - theta_R)/(theta_S - theta_R))\n",
    "    # Compute the hydraulic conductivity\n",
    "    K = Ksat*Se**(1./2)*(1 - (1 - Se**(1./m))**m)**2\n",
    "    # Compute the specific moisture storage\n",
    "    C =  -alpha*n*np.sign(h)*(1./n - 1)*(alpha*abs(h))**(n - 1)*(theta_R - \n",
    "         theta_S)*((alpha*abs(h))**n + 1)**(1/n - 2)\n",
    "    try:\n",
    "        for i in range(len(h)):\n",
    "            if h[i] > 0:\n",
    "                K[i] = Ksat[i]\n",
    "                C[i] = 0.\n",
    "                theta[i] = theta_S[i]\n",
    "    except TypeError:\n",
    "        if h > 0:\n",
    "            K = Ksat[i]\n",
    "            C = 0.\n",
    "            theta = theta_S[i]\n",
    "    return [C,K,theta]"
   ]
  },
  {
   "cell_type": "code",
   "execution_count": 12,
   "metadata": {
    "code_folding": [
     0
    ],
    "collapsed": false,
    "scrolled": true
   },
   "outputs": [],
   "source": [
    "def Richards_matrices(nz, infL = 2):\n",
    "    # Define matrices that we'll need in solution\n",
    "    DeltaPlus  = np.diag(-np.ones(nz)) + np.diag(np.ones(nz-1), 1)\n",
    "    DeltaPlus[0,:] = 0\n",
    "    DeltaPlus[nz-1,:] = 0\n",
    "\n",
    "    DeltaMinus = np.diag(np.ones(nz)) + np.diag(-np.ones(nz-1),-1);\n",
    "    DeltaMinus[0,:] = 0\n",
    "    DeltaMinus[nz-1,:] = 0\n",
    "\n",
    "    MPlus = np.diag(np.ones(nz))+np.diag(np.ones(nz-1),1)\n",
    "    MPlus[0,0] = 2\n",
    "    MPlus[0,1:nz-1] = 0\n",
    "    MPlus[nz-1,nz-1] = 2\n",
    "    MPlus[nz-1,:nz-1] = 0\n",
    "\n",
    "    MMinus = np.diag(np.ones(nz)) + np.diag(np.ones(nz-1),-1)\n",
    "    MMinus[0,0] = 2\n",
    "    MMinus[0,1:nz-1] = 0 \n",
    "    MMinus[nz-1,nz-1] = 2\n",
    "    MMinus[nz-1,:nz-1] = 0 \n",
    "\n",
    "    if infL == 2:\n",
    "        MPlus[-2, -2] = 2\n",
    "        MPlus[-2, -1] = 0\n",
    "        \n",
    "    return DeltaPlus, DeltaMinus, MPlus, MMinus"
   ]
  },
  {
   "cell_type": "code",
   "execution_count": 13,
   "metadata": {
    "code_folding": [
     0
    ],
    "collapsed": false
   },
   "outputs": [],
   "source": [
    " def pot_infl(hnp1m, thetan, htop = 0, infL = 2, stop_tol = 1e-5, inv = 0):\n",
    "    \n",
    "    stop_flag = 0\n",
    "    niter = 0\n",
    "\n",
    "    while(stop_flag == 0):\n",
    "        [cnp1m,knp1m,thetanp1m] = vanGenuchten(hnp1m,phi)\n",
    "        Cdiag = np.diag(cnp1m) \n",
    "        kbarplus = (1/2.)*MPlus.dot(knp1m)\n",
    "        Kbarplus = np.diag(kbarplus)\n",
    "        kbarminus = (1/2.)*MMinus.dot(knp1m)\n",
    "        Kbarminus = np.diag(kbarminus)\n",
    "        A = (1./dt)*Cdiag - 1./((dz)**2)*(Kbarplus.dot(DeltaPlus) - \n",
    "                                          Kbarminus.dot(DeltaMinus)) \n",
    "        #  Compute the residual of MPFD (RHS)\n",
    "        R_MPFD = (1./(dz**2))*(Kbarplus.dot(DeltaPlus).dot(hnp1m) - \\\n",
    "                               Kbarminus.dot(DeltaMinus).dot(hnp1m)) + \\\n",
    "             (1./dz)*(kbarplus - kbarminus) - (1./dt)*(thetanp1m - thetan); \n",
    "        # Compute deltam for iteration level m+1\n",
    "\n",
    "        if inv == 0:\n",
    "            Ainv = np.linalg.pinv(A)\n",
    "        \n",
    "        elif inv == 1:\n",
    "            Ainv = np.linalg.inv(A)\n",
    "            \n",
    "        deltam = Ainv.dot(R_MPFD)\n",
    "\n",
    "        # Increment iteration counter and display number of iterations\n",
    "        niter = niter + 1;\n",
    "        if niter > 100.:\n",
    "            stop_tol = stop_tol*10.\n",
    "            niter = 0 \n",
    "        if (max(abs(deltam[1:(nz-1)]))<stop_tol):\n",
    "\n",
    "            stop_flag = 1\n",
    "            hnp1mp1 = hnp1m + deltam \n",
    "            hnp1mp1[0] = hnp1mp1[1]  # free drainage BC\n",
    "            hnp1mp1[-1] = htop\n",
    "            [cnp1m,knp1m,thetanp1m] = vanGenuchten(hnp1mp1,phi);\n",
    "            knp1mp1 = knp1m\n",
    "            cnp1mp1 = cnp1m            \n",
    "            hnp1m = hnp1mp1\n",
    "            kt = (knp1mp1[-infL] + knp1mp1[-2])/2.\n",
    "            PI = kt*((hnp1mp1[-1] - hnp1mp1[-2])/dz + 1.)\n",
    "        else:\n",
    "            hnp1mp1 = hnp1m + deltam\n",
    "            hnp1m = hnp1mp1\n",
    "            hnp1m[0] = hnp1m[1] \n",
    "            hnp1m[-1] = htop\n",
    "    return PI"
   ]
  },
  {
   "cell_type": "code",
   "execution_count": 14,
   "metadata": {
    "code_folding": [
     0
    ],
    "collapsed": false
   },
   "outputs": [],
   "source": [
    "def timestep(hnp1m, thetan, setflux = 1, flux = 0, htop = 0., infL = 2,\n",
    "              stop_tol = 1e-5, inv = 0):\n",
    "    \"\"\"\"\"\"\n",
    "    stop_flag = 0\n",
    "    niter = 0\n",
    "    while(stop_flag == 0):\n",
    "        [cnp1m,knp1m,thetanp1m] = vanGenuchten(hnp1m,phi)\n",
    "        Cdiag = np.diag(cnp1m) \n",
    "        kbarplus = (1/2.)*MPlus.dot(knp1m)\n",
    "        Kbarplus = np.diag(kbarplus)\n",
    "        kbarminus = (1/2.)*MMinus.dot(knp1m)\n",
    "        Kbarminus = np.diag(kbarminus)\n",
    "        A = (1./dt)*Cdiag - 1./((dz)**2)*(Kbarplus.dot(DeltaPlus) - \n",
    "                                          Kbarminus.dot(DeltaMinus)) \n",
    "        R_MPFD = (1./(dz**2))*(Kbarplus.dot(DeltaPlus).dot(hnp1m) - \\\n",
    "                               Kbarminus.dot(DeltaMinus).dot(hnp1m)) + \\\n",
    "                 (1./dz)*(kbarplus - kbarminus) - (1./dt)*(thetanp1m - thetan) \n",
    "\n",
    "        if inv == 0:\n",
    "            Ainv = np.linalg.pinv(A)\n",
    "            \n",
    "        elif inv == 1:\n",
    "            Ainv = np.linalg.inv(A)\n",
    "            \n",
    "            \n",
    "        deltam = Ainv.dot(R_MPFD)\n",
    "        niter = niter + 1\n",
    "        if niter > 100.:\n",
    "            stop_tol = stop_tol*10.\n",
    "            niter = 0        \n",
    "            # print 'niter > 100, stop_tol increased to ', stop_tol\n",
    "        if (max(abs(deltam[1:-1]))<stop_tol):\n",
    "            stop_flag = 1\n",
    "            hnp1mp1 = hnp1m + deltam \n",
    "            hnp1mp1[0] = hnp1mp1[1]  # free drainage BC\n",
    "            if setflux == 1:                \n",
    "                kt = (knp1m[-infL] + knp1m[-2])/2.\n",
    "                hnp1mp1[-1] =  hnp1mp1[-2] - dz - flux*dz/kt\n",
    "            else:\n",
    "                hnp1mp1[-1] = htop\n",
    "    \n",
    "            [cnp1m, knp1m,thetanp1m] = vanGenuchten(hnp1mp1,phi);\n",
    "            knp1mp1 = knp1m\n",
    "            cnp1mp1 = cnp1m  \n",
    "            hnp1m = hnp1mp1\n",
    " \n",
    "        else:      \n",
    "            hnp1mp1 = hnp1m + deltam\n",
    "            hnp1m = hnp1mp1\n",
    "            hnp1m[0] = hnp1m[1] \n",
    "            if setflux == 1:            \n",
    "                kt = (knp1m[-infL] + knp1m[-2])/2.\n",
    "                hnp1m[-1] = hnp1m[-2] - dz - flux*dz/kt\n",
    "            else:\n",
    "                hnp1m[-1] = htop\n",
    "                     \n",
    "    errornp1 =  np.sum((A.dot(deltam)))*dt*dz\n",
    "    return hnp1mp1,cnp1mp1,knp1mp1, thetanp1m, errornp1, niter, stop_tol"
   ]
  },
  {
   "cell_type": "code",
   "execution_count": 15,
   "metadata": {
    "code_folding": [
     0
    ],
    "collapsed": false,
    "scrolled": false
   },
   "outputs": [],
   "source": [
    "def Richards(hinit, phi, nz = 101, nt= 100, depth = 0, infL = 2,\n",
    "             stop_tol = 1e-5, htop = 0, ifixh = 0):\n",
    "\n",
    "    # Define a storage container to store the pressure heads and soil moistures\n",
    "    [Cinit,Kinit,thetainit] = vanGenuchten(hinit,phi) \n",
    "    H = np.zeros([nz,nt+1])\n",
    "    H[:,0] = hinit\n",
    "    THETA = np.zeros([nz,nt+1])\n",
    "    THETA[:,0] = thetainit\n",
    "    K = np.zeros([nz,nt+1])\n",
    "    K[:,0] = Kinit\n",
    "\n",
    "    depths = np.zeros([nt])\n",
    "    iterations = np.zeros([nt])\n",
    "    ktop = np.zeros([nt])\n",
    "    kbot = np.zeros([nt])\n",
    "    error = np.zeros([nt])\n",
    "    iterations = np.zeros([nt])\n",
    "    # Define the container for an iteration counter\n",
    "    tp = 0\n",
    "    start_time = time.time()\n",
    "\n",
    "    # Initialize the Picard iteration solver\n",
    "    for i in range(0, nt): \n",
    "\n",
    "        hnp1m =  H[:,i]  \n",
    "        thetan = THETA[:,i]   \n",
    "        if ifixh == 1 :\n",
    "            hnp1mp1,cnp1mp1,knp1mp1, thetanp1mp1, errornp1,niter,tol = \\\n",
    "                        timestep(hnp1m,thetan,setflux=0,\n",
    "                                 htop=htop,stop_tol=stop_tol, infL = infL)\n",
    "    \n",
    "        elif (depth <= 0) and (prate[i] > 0):\n",
    "            PI = pot_infl(hnp1m, thetan, htop = htop, infL = infL, \n",
    "                          stop_tol = stop_tol)\n",
    "            \n",
    "            if  PI < prate[i]:\n",
    "                if tp == 0:\n",
    "                    print 'ponding at time t=', t[i]\n",
    "                    tp = i\n",
    "                flux = - PI\n",
    "                hnp1mp1,cnp1mp1,knp1mp1,thetanp1mp1,errornp1,niter,tol  = \\\n",
    "                        timestep(hnp1m, thetan, setflux = 0, \n",
    "                        htop = htop, stop_tol=stop_tol, infL = infL)\n",
    "                if ponding == 1:\n",
    "                    depth += prate[i]*dt + flux*dt\n",
    "            else:\n",
    "                flux = - prate[i]\n",
    "                hnp1mp1,cnp1mp1,knp1mp1,thetanp1mp1,errornp1,niter,tol  = \\\n",
    "                   timestep(hnp1m,thetan, setflux = 1, flux = flux, \n",
    "                            stop_tol=stop_tol, infL = infL)\n",
    "\n",
    "        elif (depth <= 0) and (prate[i] == 0):   \n",
    "            hnp1mp1,cnp1mp1,knp1mp1,thetanp1mp1,errornp1,niter,tol = \\\n",
    "               timestep(hnp1m,thetan, setflux = 1, flux = 0., \n",
    "                        stop_tol=stop_tol, infL = infL)                \n",
    "\n",
    "        elif (depth > 0):  \n",
    "            hnp1mp1,cnp1mp1,knp1mp1,thetanp1mp1,errornp1,niter,tol  = \\\n",
    "                            timestep(hnp1m,thetan, setflux=0, htop = depth, \n",
    "                                     stop_tol=stop_tol, infL = infL)\n",
    "            kt = (knp1mp1[-infL] + knp1mp1[-2])/2.       \n",
    "            if ponding == 1:\n",
    "                depth +=  prate[i]*dt - kt*((hnp1mp1[-1] - hnp1mp1[-2])/dz + 1.)*dt \n",
    "\n",
    "        if depth <0.:\n",
    "            depth = 0.\n",
    "\n",
    "        THETA[:,i+1] = thetanp1mp1\n",
    "        H[:,i+1] = hnp1mp1\n",
    "        K[:,i+1] = knp1mp1\n",
    "\n",
    "        kbot[i] =  (K[1, i+1] + K[0, i+1])/2.  \n",
    "        ktop[i] =  (K[-infL, i+1] + K[-2, i+1])/2.  \n",
    "        error[i] = errornp1\n",
    "        iterations[i] = niter\n",
    "        depths[i] = depth\n",
    "\n",
    "        if np.mod(i,1) == 10:  \n",
    "            if ifixh == 1:\n",
    "                print 't = {0:.2f}; '.format( t[i])\n",
    "\n",
    "            elif prate[i] > 0:\n",
    "                print 't = {0:.2f}; depth = {1:.2f}cm; PI = {2:.2f}cm/hr; rain = {3:.2f}cm/hr '.format(\n",
    "                     t[i], depth, PI*3600,prate[i]*3600)\n",
    "            else:\n",
    "                print 't = {0:.2f}; depth = {1:.2f}cm;  '.format(\n",
    "                     t[i], depth)\n",
    "\n",
    "    t_elapse = (time.time() - start_time)\n",
    "    \n",
    "    newmass =  (THETA[:, 1:] - THETA[:, :-1]).sum(0)*dz   #  change in mass      \n",
    "\n",
    "    H = H[:, 1:]\n",
    "    THETA = THETA[:, 1:]\n",
    "    K = K[:, 1:]\n",
    "    fluxin = ktop*((H[-1]-H[-2])/dz + 1.)*dt   # top flux (cm)\n",
    "    fluxout = - kbot*((H[1] - H[0])/dz + 1. )*dt # bottom flux (cm)\n",
    "\n",
    "    return H, THETA, K, fluxin, fluxout, newmass, error, depths, t_elapse"
   ]
  },
  {
   "cell_type": "markdown",
   "metadata": {},
   "source": [
    "##  specify parameters"
   ]
  },
  {
   "cell_type": "code",
   "execution_count": 16,
   "metadata": {
    "collapsed": false
   },
   "outputs": [],
   "source": [
    "case = 'GW'\n",
    "folder = 'gaussian'\n",
    "cmd('mkdir {0}'.format(folder));\n",
    "\n",
    "# SW grid and params\n",
    "ncol = 20\n",
    "nrow = 60\n",
    "slope =  0.0\n",
    "dx = .5\n",
    "L = nrow*dx  # m\n",
    "xni = 0.03      # interspace roughness  (Manning's n)    \n",
    "xnv = xni\n",
    "epsh = .0005    \n",
    "\n",
    "# time grids and params\n",
    "dt_sw = 0.05\n",
    "iscale = 100\n",
    "tmax = 2*60.  \n",
    "tr = 1*60.                    # rainfall duration\n",
    "rain = 0.036/3600. # 36 mm/hr\n",
    "nprt = 600                      \n",
    "seed = 5\n",
    "# Richards params\n",
    "iscouple = 0\n",
    "ifixh = 0\n",
    "zs = 20\n",
    "alpha = np.sqrt(slope)/xni # [m^(1/3)/s]  sqrt(So)/n\n",
    "Ao = .006/100. # np.sqrt(355.*2/1000000/3600)  # m/s^(1/2)  Sorptivity  \n",
    "stop_tol = 1e-1  # Stopping tolerance [cm]\n",
    "inv = 0\n",
    "htop = 0\n",
    "infL = 2\n",
    "ponding = 1 \n",
    "\n",
    "dz = .2 # [cm]\n",
    "zmin = 0. # [cm]\n",
    "zmax = 20. # [cm]\n",
    "zs = 20\n",
    "z = np.arange(zmin, zmax+dz, dz)\n",
    "nz = z.shape[0]\n",
    "\n",
    "hinit = -100*np.ones(nz)\n",
    "depth = 0 # cm\n"
   ]
  },
  {
   "cell_type": "code",
   "execution_count": 17,
   "metadata": {
    "code_folding": [],
    "collapsed": false
   },
   "outputs": [],
   "source": [
    "phi = write_phi(folder = folder, dz = dz, zmin = zmin, zmax = zmax,  z = z,\n",
    "                    zs = zs, infL = infL)"
   ]
  },
  {
   "cell_type": "code",
   "execution_count": 18,
   "metadata": {
    "code_folding": [],
    "collapsed": false
   },
   "outputs": [
    {
     "name": "stdout",
     "output_type": "stream",
     "text": [
      "uncoupled with ni=0.03, nv=0.03\n"
     ]
    }
   ],
   "source": [
    "# Time parameters for python\n",
    "dt = dt_sw*iscale\n",
    "t = np.arange(0, tmax + dt, dt)\n",
    "prate = np.ones_like(t)*rain*100.\n",
    "prate[np.where( t>= tr)[0][0]:] = 0\n",
    "t = t[1:]\n",
    "nt = t.shape[0] \n",
    "\n",
    "if iscouple==1:\n",
    "    fmtstr = 'coupled with ni={0}, nv={1}, stop_tol={2}'.format(xni, xnv, stop_tol)\n",
    "else:\n",
    "    fmtstr = 'uncoupled with ni={0}, nv={1}'.format(xni, xnv)\n",
    "print fmtstr\n",
    "\n"
   ]
  },
  {
   "cell_type": "code",
   "execution_count": 19,
   "metadata": {
    "collapsed": false
   },
   "outputs": [
    {
     "data": {
      "image/png": "[encoded data removed]",
      "text/plain": [
       "<matplotlib.figure.Figure at 0x10e5a0210>"
      ]
     },
     "metadata": {},
     "output_type": "display_data"
    }
   ],
   "source": [
    "### Call functions to write input files for dry.f\n",
    "nt_sw = write_prate(folder = folder, tmax = tmax, dt_sw = dt_sw, rain = rain)\n",
    "\n",
    "xcc, ycc, zcc, xncc = write_coords(folder = folder,ncol = ncol, nrow = nrow,\n",
    "                                   dx = dx, slope = slope, xni = xni, xnv = xnv,\n",
    "                                  seed = seed)\n",
    "\n",
    "write_param(folder = folder, dt = dt_sw, tmax = tmax, nprt = nprt, epsh = epsh,\n",
    "                 iscale=iscale, ifixh = ifixh, stop_tol=stop_tol, depth = depth/100.)\n",
    "\n",
    "inum, ipos, itype = write_dryin(folder = folder, ncol = ncol, nrow = nrow)\n",
    "\n"
   ]
  },
  {
   "cell_type": "code",
   "execution_count": 20,
   "metadata": {
    "collapsed": false
   },
   "outputs": [],
   "source": [
    "DeltaPlus, DeltaMinus, MPlus, MMinus = Richards_matrices(nz, infL = infL)\n",
    "\n",
    "write_inc(folder = folder, nt = nt_sw, nz = nz,  ncol = ncol, nrow = nrow)"
   ]
  },
  {
   "cell_type": "markdown",
   "metadata": {},
   "source": [
    "## Run the code"
   ]
  },
  {
   "cell_type": "code",
   "execution_count": 21,
   "metadata": {
    "collapsed": false
   },
   "outputs": [
    {
     "name": "stdout",
     "output_type": "stream",
     "text": [
      "cp dry.for gaussian/dry.for\n",
      "gfortran -o gaussian/sw  -framework accelerate gaussian/dry.for\n",
      "\n"
     ]
    }
   ],
   "source": [
    "\n",
    "shutil.copyfile('dry2.for', '{0}/dry.for'.format(folder))\n",
    "print 'cp dry.for', '{0}/dry.for'.format(folder)\n",
    "\n",
    "### Run fortran code\n",
    "a = cmd(\"gfortran -o {0}/sw  -framework accelerate {0}/dry.for\".format(folder))\n",
    "print \"gfortran -o {0}/sw  -framework accelerate {0}/dry.for\".format(folder)\n",
    "print a"
   ]
  },
  {
   "cell_type": "code",
   "execution_count": 22,
   "metadata": {
    "collapsed": false
   },
   "outputs": [
    {
     "ename": "KeyboardInterrupt",
     "evalue": "",
     "output_type": "error",
     "traceback": [
      "\u001b[0;31m---------------------------------------------------------------------------\u001b[0m",
      "\u001b[0;31mKeyboardInterrupt\u001b[0m                         Traceback (most recent call last)",
      "\u001b[0;32m<ipython-input-22-a3e01021d8f9>\u001b[0m in \u001b[0;36m<module>\u001b[0;34m()\u001b[0m\n\u001b[1;32m      2\u001b[0m \u001b[0mstart_time\u001b[0m \u001b[0;34m=\u001b[0m \u001b[0mtime\u001b[0m\u001b[0;34m.\u001b[0m\u001b[0mtime\u001b[0m\u001b[0;34m(\u001b[0m\u001b[0;34m)\u001b[0m\u001b[0;34m\u001b[0m\u001b[0m\n\u001b[1;32m      3\u001b[0m \u001b[0mos\u001b[0m\u001b[0;34m.\u001b[0m\u001b[0mchdir\u001b[0m\u001b[0;34m(\u001b[0m\u001b[0mfolder\u001b[0m\u001b[0;34m)\u001b[0m\u001b[0;34m\u001b[0m\u001b[0m\n\u001b[0;32m----> 4\u001b[0;31m \u001b[0ma\u001b[0m \u001b[0;34m=\u001b[0m \u001b[0mcmd\u001b[0m\u001b[0;34m(\u001b[0m\u001b[0;34m\"./sw\"\u001b[0m\u001b[0;34m)\u001b[0m\u001b[0;34m\u001b[0m\u001b[0m\n\u001b[0m\u001b[1;32m      5\u001b[0m \u001b[0mos\u001b[0m\u001b[0;34m.\u001b[0m\u001b[0mchdir\u001b[0m\u001b[0;34m(\u001b[0m\u001b[0;34m\"..\"\u001b[0m\u001b[0;34m)\u001b[0m\u001b[0;34m\u001b[0m\u001b[0m\n\u001b[1;32m      6\u001b[0m \u001b[0mfortran_time\u001b[0m \u001b[0;34m=\u001b[0m \u001b[0;34m(\u001b[0m\u001b[0;34m(\u001b[0m\u001b[0mtime\u001b[0m\u001b[0;34m.\u001b[0m\u001b[0mtime\u001b[0m\u001b[0;34m(\u001b[0m\u001b[0;34m)\u001b[0m \u001b[0;34m-\u001b[0m \u001b[0mstart_time\u001b[0m\u001b[0;34m)\u001b[0m\u001b[0;34m)\u001b[0m\u001b[0;34m\u001b[0m\u001b[0m\n",
      "\u001b[0;32m//anaconda/lib/python2.7/commands.pyc\u001b[0m in \u001b[0;36mgetoutput\u001b[0;34m(cmd)\u001b[0m\n\u001b[1;32m     48\u001b[0m \u001b[0;32mdef\u001b[0m \u001b[0mgetoutput\u001b[0m\u001b[0;34m(\u001b[0m\u001b[0mcmd\u001b[0m\u001b[0;34m)\u001b[0m\u001b[0;34m:\u001b[0m\u001b[0;34m\u001b[0m\u001b[0m\n\u001b[1;32m     49\u001b[0m     \u001b[0;34m\"\"\"Return output (stdout or stderr) of executing cmd in a shell.\"\"\"\u001b[0m\u001b[0;34m\u001b[0m\u001b[0m\n\u001b[0;32m---> 50\u001b[0;31m     \u001b[0;32mreturn\u001b[0m \u001b[0mgetstatusoutput\u001b[0m\u001b[0;34m(\u001b[0m\u001b[0mcmd\u001b[0m\u001b[0;34m)\u001b[0m\u001b[0;34m[\u001b[0m\u001b[0;36m1\u001b[0m\u001b[0;34m]\u001b[0m\u001b[0;34m\u001b[0m\u001b[0m\n\u001b[0m\u001b[1;32m     51\u001b[0m \u001b[0;34m\u001b[0m\u001b[0m\n\u001b[1;32m     52\u001b[0m \u001b[0;34m\u001b[0m\u001b[0m\n",
      "\u001b[0;32m//anaconda/lib/python2.7/commands.pyc\u001b[0m in \u001b[0;36mgetstatusoutput\u001b[0;34m(cmd)\u001b[0m\n\u001b[1;32m     58\u001b[0m     \u001b[0;32mimport\u001b[0m \u001b[0mos\u001b[0m\u001b[0;34m\u001b[0m\u001b[0m\n\u001b[1;32m     59\u001b[0m     \u001b[0mpipe\u001b[0m \u001b[0;34m=\u001b[0m \u001b[0mos\u001b[0m\u001b[0;34m.\u001b[0m\u001b[0mpopen\u001b[0m\u001b[0;34m(\u001b[0m\u001b[0;34m'{ '\u001b[0m \u001b[0;34m+\u001b[0m \u001b[0mcmd\u001b[0m \u001b[0;34m+\u001b[0m \u001b[0;34m'; } 2>&1'\u001b[0m\u001b[0;34m,\u001b[0m \u001b[0;34m'r'\u001b[0m\u001b[0;34m)\u001b[0m\u001b[0;34m\u001b[0m\u001b[0m\n\u001b[0;32m---> 60\u001b[0;31m     \u001b[0mtext\u001b[0m \u001b[0;34m=\u001b[0m \u001b[0mpipe\u001b[0m\u001b[0;34m.\u001b[0m\u001b[0mread\u001b[0m\u001b[0;34m(\u001b[0m\u001b[0;34m)\u001b[0m\u001b[0;34m\u001b[0m\u001b[0m\n\u001b[0m\u001b[1;32m     61\u001b[0m     \u001b[0msts\u001b[0m \u001b[0;34m=\u001b[0m \u001b[0mpipe\u001b[0m\u001b[0;34m.\u001b[0m\u001b[0mclose\u001b[0m\u001b[0;34m(\u001b[0m\u001b[0;34m)\u001b[0m\u001b[0;34m\u001b[0m\u001b[0m\n\u001b[1;32m     62\u001b[0m     \u001b[0;32mif\u001b[0m \u001b[0msts\u001b[0m \u001b[0;32mis\u001b[0m \u001b[0mNone\u001b[0m\u001b[0;34m:\u001b[0m \u001b[0msts\u001b[0m \u001b[0;34m=\u001b[0m \u001b[0;36m0\u001b[0m\u001b[0;34m\u001b[0m\u001b[0m\n",
      "\u001b[0;31mKeyboardInterrupt\u001b[0m: "
     ]
    }
   ],
   "source": [
    "import os \n",
    "start_time = time.time()\n",
    "os.chdir(folder)\n",
    "a = cmd(\"./sw\")\n",
    "os.chdir(\"..\")\n",
    "fortran_time = ((time.time() - start_time))\n",
    "print(\"fortran run time = {0:.2f}m\".format( (fortran_time)/60.))"
   ]
  },
  {
   "cell_type": "code",
   "execution_count": 23,
   "metadata": {
    "code_folding": [],
    "collapsed": false,
    "scrolled": true
   },
   "outputs": [],
   "source": [
    "# print 'tmax = {0}min, t_rain = {1}min, dt_sw = {2}s, dt = {3}s '.format(\n",
    "#     tmax/60., tr/60., dt_sw,dt)\n",
    "# print 'Fortran runtime {0:.4f} per Richards step;  {1:.2f}s per simulation hour'.format(\n",
    "#     fortran_time/nrow/ncol/nt, fortran_time/nrow/ncol/dt_sw/tmax*3600)\n"
   ]
  },
  {
   "cell_type": "code",
   "execution_count": 24,
   "metadata": {
    "collapsed": false
   },
   "outputs": [
    {
     "ename": "IOError",
     "evalue": "[Errno 2] No such file or directory: 'gaussian/zcc.out'",
     "output_type": "error",
     "traceback": [
      "\u001b[0;31m---------------------------------------------------------------------------\u001b[0m",
      "\u001b[0;31mIOError\u001b[0m                                   Traceback (most recent call last)",
      "\u001b[0;32m<ipython-input-24-4a23d26e1201>\u001b[0m in \u001b[0;36m<module>\u001b[0;34m()\u001b[0m\n\u001b[1;32m      2\u001b[0m \u001b[0mzcdum\u001b[0m \u001b[0;34m=\u001b[0m \u001b[0mnp\u001b[0m\u001b[0;34m.\u001b[0m\u001b[0mzeros\u001b[0m\u001b[0;34m(\u001b[0m\u001b[0;34m[\u001b[0m\u001b[0mncol\u001b[0m\u001b[0;34m+\u001b[0m\u001b[0;36m2\u001b[0m\u001b[0;34m,\u001b[0m \u001b[0mnrow\u001b[0m\u001b[0;34m+\u001b[0m\u001b[0;36m2\u001b[0m\u001b[0;34m]\u001b[0m\u001b[0;34m)\u001b[0m\u001b[0;34m\u001b[0m\u001b[0m\n\u001b[1;32m      3\u001b[0m \u001b[0;34m\u001b[0m\u001b[0m\n\u001b[0;32m----> 4\u001b[0;31m \u001b[0;32mfor\u001b[0m \u001b[0mline\u001b[0m \u001b[0;32min\u001b[0m \u001b[0mopen\u001b[0m\u001b[0;34m(\u001b[0m\u001b[0;34m\"{0}/{1}.out\"\u001b[0m\u001b[0;34m.\u001b[0m\u001b[0mformat\u001b[0m\u001b[0;34m(\u001b[0m\u001b[0mfolder\u001b[0m\u001b[0;34m,\u001b[0m \u001b[0;34m'zcc'\u001b[0m\u001b[0;34m)\u001b[0m\u001b[0;34m,\u001b[0m \u001b[0;34m'r'\u001b[0m\u001b[0;34m)\u001b[0m\u001b[0;34m:\u001b[0m\u001b[0;34m\u001b[0m\u001b[0m\n\u001b[0m\u001b[1;32m      5\u001b[0m     \u001b[0ma\u001b[0m \u001b[0;34m=\u001b[0m \u001b[0;34m(\u001b[0m\u001b[0mline\u001b[0m\u001b[0;34m.\u001b[0m\u001b[0mstrip\u001b[0m\u001b[0;34m(\u001b[0m\u001b[0;34m)\u001b[0m\u001b[0;34m.\u001b[0m\u001b[0msplit\u001b[0m\u001b[0;34m(\u001b[0m\u001b[0;34m\" \"\u001b[0m\u001b[0;34m)\u001b[0m\u001b[0;34m)\u001b[0m\u001b[0;34m\u001b[0m\u001b[0m\n\u001b[1;32m      6\u001b[0m     \u001b[0ma\u001b[0m \u001b[0;34m=\u001b[0m \u001b[0;34m[\u001b[0m\u001b[0mstr\u001b[0m\u001b[0;34m(\u001b[0m\u001b[0mb\u001b[0m\u001b[0;34m)\u001b[0m \u001b[0;32mfor\u001b[0m \u001b[0mb\u001b[0m \u001b[0;32min\u001b[0m \u001b[0ma\u001b[0m \u001b[0;32mif\u001b[0m \u001b[0mb\u001b[0m\u001b[0;34m]\u001b[0m\u001b[0;34m\u001b[0m\u001b[0m\n",
      "\u001b[0;31mIOError\u001b[0m: [Errno 2] No such file or directory: 'gaussian/zcc.out'"
     ]
    }
   ],
   "source": [
    "\n",
    "zcdum = np.zeros([ncol+2, nrow+2])\n",
    "\n",
    "for line in open(\"{0}/{1}.out\".format(folder, 'zcc'), 'r'):\n",
    "    a = (line.strip().split(\" \"))\n",
    "    a = [str(b) for b in a if b]        \n",
    "    j = int(a[0])\n",
    "    k = int(a[1])    \n",
    "    zcdum[j,k] = float(a[2])\n",
    "zc = zcdum[1:-1]"
   ]
  },
  {
   "cell_type": "markdown",
   "metadata": {},
   "source": [
    "## Shallow water checks"
   ]
  },
  {
   "cell_type": "code",
   "execution_count": null,
   "metadata": {
    "code_folding": [
     0,
     30,
     48
    ],
    "collapsed": true
   },
   "outputs": [],
   "source": [
    "def read_param(folder = 'test') :   \n",
    "    \n",
    "    def strip_line():\n",
    "        line = f.next() \n",
    "        line = f.next()\n",
    "        a = line.strip().split(\" \")\n",
    "        a = [np.float(b.replace('d', 'e')) for b in a if b]\n",
    "        return a\n",
    " \n",
    "    fname = '{0}/params.dat'.format(folder)    \n",
    "    f = open(fname, 'r')\n",
    "    a = strip_line()\n",
    "    dt = a[1]\n",
    "    tmax = a[2]\n",
    "    a = strip_line()\n",
    "    epsh = a[0]\n",
    "    beta = a[1]\n",
    "    a = strip_line()\n",
    "    xk = a[0]\n",
    "    nprt = a[1]\n",
    "    a = strip_line()\n",
    "    iscouple = a[0]\n",
    "    ifixh = a[1]\n",
    "    a = strip_line()\n",
    "    iscale = a[0]\n",
    "    a = strip_line()\n",
    "    stop_tol = a[0]\n",
    "    f.close()\n",
    "    return dt, tmax, nprt, epsh, iscale, ifixh, stop_tol\n",
    "\n",
    "def read_time(folder = 'test') :  \n",
    "    # read time output\n",
    "    t_sw = []\n",
    "    itp = []  #  print step\n",
    "    it = []   #  time step\n",
    "    f =  open(\"{0}/time.out\".format(folder), 'r')\n",
    "    f.next()\n",
    "    for line in f:\n",
    "        a = (line.strip().split(\" \"))\n",
    "        a = [b for b in a if b]\n",
    "        t_sw.append(float(a[0]))\n",
    "        itp.append(int(a[1]))\n",
    "        it.append(int(a[2]))\n",
    "\n",
    "    t_sw = np.array(t_sw)\n",
    "\n",
    "    return t_sw\n",
    "\n",
    "def read_cfl(folder = 'test'):\n",
    "    f =  open(\"{0}/cfl.out\".format(folder), 'r')\n",
    "    cfl = []\n",
    "    ta = []\n",
    "    ftime = []\n",
    "    for line in f:\n",
    "        a = line.strip().split(\" \")\n",
    "        a = [np.float(b) for b in a if b]\n",
    "        ta.append(a[0])\n",
    "        cfl.append(a[1])\n",
    "        ftime.append(float(a[2]))\n",
    "    cfl =  np.array(cfl)\n",
    "    ta = np.array(ta)\n",
    "    ftime = np.array(ftime)\n",
    "\n",
    "    return ta, cfl, ftime\n",
    "\n",
    "def get_hydro(folder = 'test', fname = 'fluxes'):\n",
    "    hydro = []\n",
    "    # ts = []\n",
    "    fdum = np.zeros(ncol) \n",
    "\n",
    "    for line in open(\"{0}/{1}.out\".format(folder, fname), 'r'):\n",
    "        a = (line.strip().split(\" \"))\n",
    "        try:\n",
    "            a = [str(b) for b in a if b]        \n",
    "            j = int(a[0])-1\n",
    "            k = int(a[1])-1\n",
    "            fdum[j] = a[2]  \n",
    "        except ValueError:\n",
    "            dumt = int(a[0])\n",
    "    #       ts.append(float(a[1]))\n",
    "            hydro.append(fdum.copy())\n",
    "            fdum = np.zeros(ncol) \n",
    "    hydro = np.array(hydro)\n",
    "    nfstep = len(hydro)  \n",
    "    hydro = hydro.sum(1)   #  units are m2/s\n",
    "\n",
    "    return hydro"
   ]
  },
  {
   "cell_type": "code",
   "execution_count": null,
   "metadata": {
    "collapsed": false
   },
   "outputs": [],
   "source": [
    "dt, tmax, nprt, epsh, iscale, ifixh, stop_tol = read_param(folder = folder)\n",
    "\n",
    "t_sw = read_time(folder =folder)\n",
    "ta, cfl, ftime = read_cfl(folder = folder)\n",
    "hydro = get_hydro(folder = folder, fname = 'hydro')"
   ]
  },
  {
   "cell_type": "code",
   "execution_count": null,
   "metadata": {
    "collapsed": false
   },
   "outputs": [],
   "source": [
    "# f =plt.figure()\n",
    "# plt.plot(ta[1:]/60., np.diff(ftime),  ms = 1)\n",
    "# # plt.plot(ta/60., cfl,  ms = 1)\n",
    "# plt.title('runtime per timestep', fontsize = 10)\n",
    "# plt.xlabel('time (min)')\n"
   ]
  },
  {
   "cell_type": "code",
   "execution_count": null,
   "metadata": {
    "code_folding": [],
    "collapsed": true
   },
   "outputs": [],
   "source": [
    "def analytical_hydro(slope = slope, nrow = nrow, tr = tr, xni = xni):\n",
    "    import scipy.optimize\n",
    "    alphaf  = (slope**.5)/xni \n",
    "    L = nrow*dx\n",
    "    m = 5/3.\n",
    "    tc = (L/alphaf/(rain)**(m-1))**(1./m)\n",
    "\n",
    "    q = np.zeros_like(t_sw)\n",
    "    q[t_sw<=tc] = alphaf*(rain*t_sw[t_sw<=tc])**m\n",
    "    q[t_sw>tc] = alphaf*(rain*tc)**m\n",
    "\n",
    "    trdum = t_sw[t_sw>tr]- tr\n",
    "    xx = np.zeros_like(trdum)\n",
    "    for i in range(len(trdum)):\n",
    "        def F(x):\n",
    "            return rain*L - rain*m*alphaf**(1./m)*x**(1-1/m)*(t_sw[t_sw>tr]- tr)[i] - x\n",
    "        x= scipy.optimize.broyden1(F, np.zeros_like(t_sw[t_sw>tr][1]), f_tol=1e-14)\n",
    "        xx[i] = x\n",
    "\n",
    "    q[t_sw>tr] = xx\n",
    "    print 'tc = {0:.1f} min, tr = {1:.1f} min'.format(tc/60., tr/60.)\n",
    "\n",
    "    return q, tc"
   ]
  },
  {
   "cell_type": "code",
   "execution_count": null,
   "metadata": {
    "collapsed": false
   },
   "outputs": [],
   "source": [
    "#q1,tc = analytical_hydro(nrow = nrow-1)\n",
    "#qhalf, tchalf = analytical_hydro(nrow = nrow/2)\n",
    "q0,tc = analytical_hydro(nrow = nrow)\n",
    "\n",
    "qout = scipy.io.loadmat('GWmatlab/qout.mat')\n",
    "qmat = qout['qout'].mean(1)\n",
    "tmat = qout['tout'].mean(1)\n",
    "\n",
    "f = interpolate.interp1d(tmat, qmat)\n",
    "qmat = f(t_sw)"
   ]
  },
  {
   "cell_type": "code",
   "execution_count": null,
   "metadata": {
    "collapsed": true
   },
   "outputs": [],
   "source": [
    "plotscale = 'rate'\n",
    "if plotscale == 'rate':\n",
    "    scale = 3600.*24\n",
    "    ylabel = 'rate [m$^2$/day]'\n",
    "elif plotscale == 'depth':\n",
    "    scale = 1\n",
    "    ylabel = 'cm'"
   ]
  },
  {
   "cell_type": "code",
   "execution_count": null,
   "metadata": {
    "collapsed": false
   },
   "outputs": [],
   "source": [
    "np.max(np.diff(zcc[1:-1, 1:-1]))/dx"
   ]
  },
  {
   "cell_type": "code",
   "execution_count": null,
   "metadata": {
    "collapsed": false
   },
   "outputs": [],
   "source": [
    "folder"
   ]
  },
  {
   "cell_type": "code",
   "execution_count": null,
   "metadata": {
    "collapsed": false,
    "scrolled": true
   },
   "outputs": [],
   "source": [
    "fig = plt.figure(figsize = (7, 4))\n",
    "plt.plot(ta/60., -hydro*scale, '-', label = 'model')\n",
    "plt.plot(t_sw/60., q0*(ncol*dx)*scale, '-', label = 'analytical')\n",
    "#plt.plot(t_sw/60., qmat*scale, label = 'GW')\n",
    "plt.title(' Hydrograph ({0})'.format( fmtstr), fontsize = 11)\n",
    "plt.xlabel('time (min)'); plt.ylabel(' Discharge ({0})'.format(ylabel))\n",
    "plt.legend(fontsize = 10, loc= 'best')\n",
    "# plt.ylim(-5, 28)"
   ]
  },
  {
   "cell_type": "code",
   "execution_count": null,
   "metadata": {
    "collapsed": false
   },
   "outputs": [],
   "source": [
    "def get_h(folder = 'test'):\n",
    "    h = []\n",
    "    hdum =  np.zeros([ncol+2, nrow+2])\n",
    "\n",
    "    for line in open(\"{0}/h.out\".format(folder), 'r'):\n",
    "        a = (line.strip().split(\" \"))\n",
    "        a = [float(b) for b in a if b]\n",
    "        try:\n",
    "            j = int(a[0])\n",
    "            k = int(a[1])\n",
    "            hdum[j, k] = a[2]\n",
    "\n",
    "        except IndexError:\n",
    "            dumt = int(a[0])\n",
    "            h.append(hdum.copy())\n",
    "\n",
    "    h = np.array(h)\n",
    "    return h\n",
    "\n",
    "h = get_h(folder=  folder)"
   ]
  },
  {
   "cell_type": "code",
   "execution_count": null,
   "metadata": {
    "collapsed": false
   },
   "outputs": [],
   "source": [
    "fig=plt.figure(figsize = (7, 4))\n",
    "yy = np.arange(nrow)\n",
    "col = 2\n",
    "zmin =  np.unique(h+zcc)[1] - 0.001\n",
    "zmax = np.unique(h+zcc)[-1] + 0.001\n",
    "\n",
    "ax = plt.axes(xlim=(0, nrow), ylim=(zmin, zmax))\n",
    "plt.plot(yy[:],  zcc[col, 1:-1], 'g-', label = 'z (n={0})'.format(xnv))\n",
    "# plt.plot(yy[nrow/2:],  zcc[col, nrow/2+1:-1], 'g--', label = 'n={0}'.format(xnv))\n",
    "# plt.plot(yy[:nrow/2+1],  zcc[col, 1:nrow/2+2], 'k--', label = 'n={0}'.format(xni))\n",
    "img, = plt.plot(yy,  (zcc + h[len(h)/5])[col, 1:-1], 'b-.', label = 'water height')\n",
    "ttl = ax.set_title('',animated=True, fontsize = 11)\n",
    "plt.legend(fontsize = 11, loc = 'best')\n",
    "ax.xaxis.set_animated(True)\n",
    "plt.xlabel('x (m)'); plt.ylabel('h (m)')\n",
    "plt.title('Roughness test setup')\n",
    "\n",
    "def init():\n",
    "    ttl.set_text('') \n",
    "    img.set_data([0],[0])\n",
    "    return img, ttl, ax.xaxis\n",
    "\n",
    "def func(n):\n",
    "    ttl.set_text('height ({0});  t={1:.1f}s'.format(fmtstr, t_sw[n]))    \n",
    "    img.set_data(yy, (zcc + h[n])[col, 1:-1])\n",
    "    ax.set_xlim(yy[0],yy[-1])\n",
    "    return img, ttl, ax.xaxis"
   ]
  },
  {
   "cell_type": "code",
   "execution_count": null,
   "metadata": {
    "collapsed": false,
    "scrolled": false
   },
   "outputs": [],
   "source": [
    "fig=plt.figure(figsize = (7, 4))\n",
    "yy = np.arange(nrow)\n",
    "col = 2\n",
    "zmin =  np.unique(h+zcc)[1] - 0.001\n",
    "zmax = np.unique(h+zcc)[-1] + 0.001\n",
    "\n",
    "ax = plt.axes(xlim=(0, nrow), ylim=(zmin, zmax))\n",
    "plt.plot(yy[:],  zcc[col, 1:-1], 'g-', label = 'elevation'.format(xnv))\n",
    "# plt.plot(yy[nrow/2:],  zcc[col, nrow/2+1:-1], 'k--', label = 'n$_f$={0}'.format(xni))\n",
    "# plt.plot(yy[:nrow/2],  zcc[col, 1:nrow/2+1], 'g', label = 'n$_f$={0}'.format(xnv))\n",
    "img, = plt.plot(yy,  (zcc + h[1])[col, 1:-1], 'b', label= 'water height')\n",
    "ttl = ax.set_title('',animated=True, fontsize = 11)\n",
    "ax.xaxis.set_animated(True)\n",
    "plt.legend(fontsize = 11, loc = 'lower right')\n",
    "\n",
    "plt.xlabel('x (m)'); plt.ylabel('h (m)')\n",
    "def init():\n",
    "    ttl.set_text('') \n",
    "    img.set_data([0],[0])\n",
    "    return img, ttl, ax.xaxis\n",
    "\n",
    "def func(n):\n",
    "    ttl.set_text('height ({0});  t={1:.1f}m'.format(fmtstr, t_sw[n]/60.))    \n",
    "    img.set_data(yy, (zcc + h[n])[col, 1:-1])\n",
    "    ax.set_xlim(yy[0],yy[-1])\n",
    "    return img, ttl, ax.xaxis\n",
    "\n",
    "ani = animation.FuncAnimation(fig,func,init_func=init,frames=len(h),\n",
    "                               interval=100,blit=True)\n",
    "\n",
    "\n",
    "cmd('mkdir {0}/anim'.format(folder))\n",
    "ani.save('{0}/anim/h_1d_{1}_{2}.mp4'.format(folder, fmtstr, seed))\n"
   ]
  },
  {
   "cell_type": "code",
   "execution_count": null,
   "metadata": {
    "collapsed": false,
    "scrolled": true
   },
   "outputs": [],
   "source": [
    "display_animation(ani)"
   ]
  },
  {
   "cell_type": "code",
   "execution_count": null,
   "metadata": {
    "collapsed": false
   },
   "outputs": [],
   "source": [
    "folder"
   ]
  },
  {
   "cell_type": "code",
   "execution_count": null,
   "metadata": {
    "collapsed": false
   },
   "outputs": [],
   "source": [
    "np.max(np.diff(zcc))/dx"
   ]
  },
  {
   "cell_type": "code",
   "execution_count": null,
   "metadata": {
    "collapsed": false
   },
   "outputs": [],
   "source": [
    "from matplotlib import cm\n",
    "from matplotlib.ticker import LinearLocator, FormatStrFormatter\n",
    "from mpl_toolkits.mplot3d import Axes3D\n",
    "fig = plt.figure()\n",
    "\n",
    "ax = fig.add_subplot(111, projection='3d')\n",
    "ax.view_init(35, 110)\n",
    "ttl = ax.set_title('Title',animated=True, fontsize = 11)\n",
    "\n",
    "        \n",
    "line = ax.plot_surface(ycc[1:-1,1:-1], xcc[1:-1,1:-1],\n",
    "                    zcc[1:-1,1:-1],\n",
    "                    rstride=1, cstride=1,cmap=cm.BrBG_r,\n",
    "                    linewidth=0,antialiased=True, alpha=0.4)\n",
    "def init():\n",
    "    img.set_data([0],[0])\n",
    "    return img, ttl, ax.xaxis\n",
    "\n",
    "fmtstr = 'uncoupled with slope={0}%, dt={1}s'.format(slope*100, dt)\n",
    "\n",
    "def plotset(i):\n",
    "    ax.set_autoscalez_on(False)\n",
    "    ax.zaxis.set_major_locator(LinearLocator(10))\n",
    "    ax.zaxis.set_major_formatter(FormatStrFormatter('%.02f'))\n",
    "    ax.set_zlim3d(np.min(zcc[1:-1, 1:-1]),np.max(h + zcc) )\n",
    "    ttl = ax.set_title('',animated=True, fontsize = 11)\n",
    "    ttl.set_text('height ({0});  t={1:.1f}m'.format(fmtstr, t_sw[i]/60.))    \n",
    "    return ttl\n",
    "    \n",
    "def data(i, z, line):\n",
    "    z = h[i]\n",
    "    ax.clear()\n",
    "    plotset(i)\n",
    "    surf = ax.plot_surface(ycc[1:-1,1:-1], xcc[1:-1,1:-1], zcc[1:-1,1:-1],rstride=1, \n",
    "                       cstride=1,cmap=cm.BrBG_r,\n",
    "                       linewidth=0,antialiased=True, alpha=0.7)\n",
    "        \n",
    "    line = ax.plot_surface(ycc[1:-1,1:-1], xcc[1:-1,1:-1],\n",
    "                    zcc[1:-1,1:-1]+z[1:-1, 1:-1] ,\n",
    "                    rstride=1, cstride=1,cmap=cm.Blues,\n",
    "                    linewidth=0,antialiased=True, alpha=0.4)\n",
    "    return line, ttl, ax.xaxis\n",
    "\n",
    "\n",
    "ani = animation.FuncAnimation(fig, data, init_func = init, frames = len(h),\n",
    "                              fargs=(z, line), interval=100, blit=True)\n",
    "ani.save('{0}/anim/h_surf_{1}_{2}.mp4'.format(folder, fmtstr, seed))\n",
    "\n"
   ]
  },
  {
   "cell_type": "code",
   "execution_count": null,
   "metadata": {
    "collapsed": false
   },
   "outputs": [],
   "source": [
    "display_animation(ani)"
   ]
  },
  {
   "cell_type": "code",
   "execution_count": null,
   "metadata": {
    "collapsed": false
   },
   "outputs": [],
   "source": [
    "fig = plt.figure(figsize = (7, 4))\n",
    "yy = np.arange(nrow)\n",
    "col= 1; \n",
    "plt.plot(t_sw/60.,  h[:,col, 3], '-', label = 'x={0:.0f}'.format(ycc[col, 3]))\n",
    "plt.plot(t_sw/60.,  h[:,col, 1], '-', label = 'x={0:.0f}'.format(ycc[col, 1]))\n",
    "plt.plot(t_sw/60.,  h[:,col, nrow/2], '-', label = 'x={0:.0f}'.format(ycc[col, nrow/2]))\n",
    "plt.legend(loc = 'best', fontsize = 10)\n",
    "plt.title('water height vs. time  ({0})'.format(fmtstr), fontsize=11)\n",
    "plt.xlabel('time (min)')\n",
    "\n",
    "# fig.savefig('{0}/figures/{1}.pdf'.format(folder, fmtstr))"
   ]
  },
  {
   "cell_type": "code",
   "execution_count": null,
   "metadata": {
    "code_folding": [],
    "collapsed": true
   },
   "outputs": [],
   "source": [
    "def get_dvol(folder):\n",
    "    ta = []\n",
    "    dvol = []\n",
    "    infl = [] \n",
    "    flux = []\n",
    "    rain = []\n",
    "    dts = []\n",
    "    f = open('{0}/dvol.out'.format(folder), 'r'); \n",
    "    for line in f:\n",
    "        a = (line.strip().split(\" \"))\n",
    "        a = [myfloat(b) for b in a if b]\n",
    "        ta.append(a[0])\n",
    "        dvol.append(a[1])\n",
    "        flux.append(a[2])\n",
    "        infl.append(a[3])\n",
    "        rain.append(a[4])\n",
    "        dts.append(a[5])\n",
    "    ta = np.array(ta)\n",
    "    dvol = np.array(dvol)\n",
    "    flux = np.array(flux)\n",
    "    infl = np.array(infl)\n",
    "    rain = np.array(rain)    \n",
    "    total = dvol  - flux - infl - rain\n",
    "    \n",
    "    ti = 0; tf = len(ta)-1;  nprt = 1\n",
    "\n",
    "    f = plt.figure(figsize= (9,6))\n",
    "    plt.subplot(211)\n",
    "    plt.plot(ta[ti:tf:nprt], dvol[ti:tf:nprt] - flux[ti:tf:nprt] - infl[ti:tf:nprt]\n",
    "             - rain[ti:tf:nprt], '.', ms = 2)\n",
    "    # plt.plot(ta[ti:tf:nprt], total[ti:tf:nprt], '.', ms = 2)\n",
    "    plt.title('mass balance (dV - fluxes - infiltration)', fontsize = 11)\n",
    "    plt.ylabel('volume (m$^3$)',fontsize = 11);\n",
    "    plt.xlim([ta[ti], ta[tf]])\n",
    "    plt.subplot(212)\n",
    "    plt.plot(ta[ti:tf:nprt],np.cumsum(total)[ti:tf:nprt], '.', ms = 2)\n",
    "    plt.title('cumulative mass balance', fontsize = 10)\n",
    "    plt.xlabel('time (s)', fontsize = 11); \n",
    "    plt.ylabel('volume (m$^3$)',fontsize = 11);\n",
    "    plt.xlim([ta[ti], ta[tf]])\n",
    "    plt.suptitle('{0}'.format(fmtstr  ))\n",
    "    \n",
    "    # return ta, dvol, flux, infl, rain, dts, total"
   ]
  },
  {
   "cell_type": "code",
   "execution_count": null,
   "metadata": {
    "collapsed": false
   },
   "outputs": [],
   "source": [
    "get_dvol(folder = folder)\n",
    "\n"
   ]
  },
  {
   "cell_type": "code",
   "execution_count": null,
   "metadata": {
    "collapsed": false
   },
   "outputs": [],
   "source": [
    "try:\n",
    "    badind = np.where(abs(total)> 1e-11)[0][0]\n",
    "    print badind\n",
    "    print total[badind]/4\n",
    "except:\n",
    "    print 'no mass balance problems!'"
   ]
  }
 ],
 "metadata": {
  "anaconda-cloud": {},
  "kernelspec": {
   "display_name": "Python [default]",
   "language": "python",
   "name": "python2"
  },
  "language_info": {
   "codemirror_mode": {
    "name": "ipython",
    "version": 2
   },
   "file_extension": ".py",
   "mimetype": "text/x-python",
   "name": "python",
   "nbconvert_exporter": "python",
   "pygments_lexer": "ipython2",
   "version": "2.7.12"
  }
 },
 "nbformat": 4,
 "nbformat_minor": 0
}
